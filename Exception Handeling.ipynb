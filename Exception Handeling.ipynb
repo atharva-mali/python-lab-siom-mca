{
 "cells": [
  {
   "cell_type": "code",
   "execution_count": 24,
   "id": "14417415",
   "metadata": {
    "scrolled": true
   },
   "outputs": [
    {
     "name": "stdout",
     "output_type": "stream",
     "text": [
      "Error Divide by 0 Not Allowed\n",
      "Finally Block Executed\n",
      "Numbers are :  5  and  0\n"
     ]
    }
   ],
   "source": [
    "a = 5\n",
    "b = 0\n",
    "try:\n",
    "    print(a / b)\n",
    "except ZeroDivisionError:\n",
    "    print(\"Error Divide by 0 Not Allowed\")\n",
    "else:\n",
    "    print(\"Else Part of Code\")\n",
    "finally:\n",
    "    print(\"Finally Block Executed\")\n",
    "    print(\"Numbers are : \",a,\" and \",b)"
   ]
  },
  {
   "cell_type": "code",
   "execution_count": 21,
   "id": "5b294a42",
   "metadata": {},
   "outputs": [
    {
     "ename": "NameError",
     "evalue": "name 'd' is not defined",
     "output_type": "error",
     "traceback": [
      "\u001b[1;31m---------------------------------------------------------------------------\u001b[0m",
      "\u001b[1;31mNameError\u001b[0m                                 Traceback (most recent call last)",
      "Cell \u001b[1;32mIn[21], line 2\u001b[0m\n\u001b[0;32m      1\u001b[0m c\u001b[38;5;241m=\u001b[39m\u001b[38;5;241m5\u001b[39m\n\u001b[1;32m----> 2\u001b[0m e\u001b[38;5;241m=\u001b[39m\u001b[38;5;241m+\u001b[39mc\u001b[38;5;241m+\u001b[39md\n\u001b[0;32m      4\u001b[0m \u001b[38;5;28;01mtry\u001b[39;00m:\n\u001b[0;32m      5\u001b[0m     \u001b[38;5;28mprint\u001b[39m(\u001b[38;5;124m\"\u001b[39m\u001b[38;5;124mSum = \u001b[39m\u001b[38;5;124m\"\u001b[39m,c)\n",
      "\u001b[1;31mNameError\u001b[0m: name 'd' is not defined"
     ]
    }
   ],
   "source": [
    "c=5\n",
    "e=+c+d\n",
    "\n",
    "try:\n",
    "    print(\"Sum = \",c)\n",
    "except Exception:\n",
    "    print(\"Error Divide by 0 Not Allowed\")\n",
    "\n",
    "# ---------------------------------------------------------------------------\n",
    "# NameError                                 Traceback (most recent call last)\n",
    "# Cell In[9], line 2\n",
    "#       1 c=5\n",
    "# ----> 2 e=+c+d\n",
    "#       3 print(\"Sum = \",c)\n",
    "\n",
    "# NameError: name 'd' is not defined\n",
    "\n"
   ]
  },
  {
   "cell_type": "code",
   "execution_count": 13,
   "id": "2b7ae07c",
   "metadata": {},
   "outputs": [],
   "source": [
    "# a=int(input(\"Enter a number : \"))\n",
    "# b=int(input(\"Enter a number : \"))\n",
    "# print(\"Sum : \",a+b)\n",
    "\n",
    "# Enter a number : 23\n",
    "# Enter a number : abc\n",
    "# ---------------------------------------------------------------------------\n",
    "# ValueError                                Traceback (most recent call last)\n",
    "# Cell In[12], line 2\n",
    "#       1 a=int(input(\"Enter a number : \"))\n",
    "# ----> 2 b=int(input(\"Enter a number : \"))\n",
    "#       3 print(\"Sum : \",a+b)\n",
    "\n",
    "# ValueError: invalid literal for int() with base 10: 'abc'\n",
    "\n"
   ]
  },
  {
   "cell_type": "code",
   "execution_count": 15,
   "id": "105880aa",
   "metadata": {},
   "outputs": [],
   "source": [
    "# ls=['c','java','python']\n",
    "# print(\"list item is : \",ls[5])\n",
    "\n",
    "# ---------------------------------------------------------------------------\n",
    "# IndexError                                Traceback (most recent call last)\n",
    "# Cell In[14], line 2\n",
    "#       1 ls=['c','java','python']\n",
    "# ----> 2 print(\"list item is : \",ls[5])\n",
    "\n",
    "# IndexError: list index out of range\n",
    "\n"
   ]
  },
  {
   "cell_type": "code",
   "execution_count": 17,
   "id": "0ee1a391",
   "metadata": {},
   "outputs": [],
   "source": [
    "# dic={\n",
    "#     \"name\":\"Atharva\",\n",
    "#     \"location\":\"Pune\"\n",
    "# }\n",
    "# print(\"Thae Age is : \",dic[\"age\"])\n",
    "\n",
    "# ---------------------------------------------------------------------------\n",
    "# KeyError                                  Traceback (most recent call last)\n",
    "# Cell In[16], line 5\n",
    "#       1 dic={\n",
    "#       2     \"name\":\"Atharva\",\n",
    "#       3     \"location\":\"Pune\"\n",
    "#       4 }\n",
    "# ----> 5 print(\"Thae Age is : \",dic[\"age\"])\n",
    "\n",
    "# KeyError: 'age'\n"
   ]
  },
  {
   "cell_type": "code",
   "execution_count": 19,
   "id": "38401100",
   "metadata": {},
   "outputs": [],
   "source": [
    "# fn=open(\"exam.py\")\n",
    "# print(fn)\n",
    "\n",
    "# ---------------------------------------------------------------------------\n",
    "# FileNotFoundError                         Traceback (most recent call last)\n",
    "# Cell In[18], line 1\n",
    "# ----> 1 fn=open(\"exam.py\")\n",
    "#       2 print(fn)\n",
    "\n",
    "# File ~\\anaconda3\\Lib\\site-packages\\IPython\\core\\interactiveshell.py:286, in _modified_open(file, *args, **kwargs)\n",
    "#     279 if file in {0, 1, 2}:\n",
    "#     280     raise ValueError(\n",
    "#     281         f\"IPython won't let you open fd={file} by default \"\n",
    "#     282         \"as it is likely to crash IPython. If you know what you are doing, \"\n",
    "#     283         \"you can use builtins' open.\"\n",
    "#     284     )\n",
    "# --> 286 return io_open(file, *args, **kwargs)\n",
    "\n",
    "# FileNotFoundError: [Errno 2] No such file or directory: 'exam.py'\n"
   ]
  },
  {
   "cell_type": "code",
   "execution_count": 29,
   "id": "57056817",
   "metadata": {},
   "outputs": [],
   "source": [
    "# try:\n",
    "#     age=int(input(\"Enter the age : \"))\n",
    "#     if age<18:\n",
    "#         raise Exception;\n",
    "#     else:\n",
    "#         print(\"The age is valid\")\n",
    "# except Exception:\n",
    "#     print(\"The age is invalid\")\n",
    "    \n",
    "# Enter the age : 12\n",
    "# The age is invalid\n",
    "\n",
    "# Enter the age : 22\n",
    "# The age is valid\n",
    "\n"
   ]
  },
  {
   "cell_type": "code",
   "execution_count": 34,
   "id": "a26bcfdd",
   "metadata": {},
   "outputs": [],
   "source": [
    "# try:\n",
    "#     a=int(input(\"Enter a : \"))\n",
    "#     b=int(input(\"Enter b : \"))\n",
    "    \n",
    "#     if b == 0:\n",
    "#         raise ArithmeticError;\n",
    "#     else:\n",
    "#         print(\"a/b = \",a/b)\n",
    "# except ValueError:\n",
    "#     print(\"The value must be numbers\")\n",
    "# except ArithmeticError:\n",
    "#     print(\"The value of b can't be 0\")\n",
    "    \n",
    "    \n",
    "# Enter a : abc\n",
    "# The value must be numbers\n",
    "\n",
    "# Enter a : 12\n",
    "# Enter b : 0\n",
    "# The value of b can't be 0\n",
    "\n"
   ]
  },
  {
   "cell_type": "code",
   "execution_count": 36,
   "id": "374286d4",
   "metadata": {},
   "outputs": [
    {
     "name": "stdout",
     "output_type": "stream",
     "text": [
      "The average of marks :  75.8\n"
     ]
    },
    {
     "ename": "AssertionError",
     "evalue": "The list is empty.",
     "output_type": "error",
     "traceback": [
      "\u001b[1;31m---------------------------------------------------------------------------\u001b[0m",
      "\u001b[1;31mAssertionError\u001b[0m                            Traceback (most recent call last)",
      "Cell \u001b[1;32mIn[36], line 8\u001b[0m\n\u001b[0;32m      6\u001b[0m \u001b[38;5;28mprint\u001b[39m(\u001b[38;5;124m\"\u001b[39m\u001b[38;5;124mThe average of marks : \u001b[39m\u001b[38;5;124m\"\u001b[39m,avg(marks1))\n\u001b[0;32m      7\u001b[0m marks2\u001b[38;5;241m=\u001b[39m[]\n\u001b[1;32m----> 8\u001b[0m \u001b[38;5;28mprint\u001b[39m(\u001b[38;5;124m\"\u001b[39m\u001b[38;5;124mThe average of marks : \u001b[39m\u001b[38;5;124m\"\u001b[39m,avg(marks2))\n",
      "Cell \u001b[1;32mIn[36], line 2\u001b[0m, in \u001b[0;36mavg\u001b[1;34m(marks)\u001b[0m\n\u001b[0;32m      1\u001b[0m \u001b[38;5;28;01mdef\u001b[39;00m \u001b[38;5;21mavg\u001b[39m(marks):\n\u001b[1;32m----> 2\u001b[0m     \u001b[38;5;28;01massert\u001b[39;00m \u001b[38;5;28mlen\u001b[39m(marks) \u001b[38;5;241m!=\u001b[39m \u001b[38;5;241m0\u001b[39m,\u001b[38;5;124m\"\u001b[39m\u001b[38;5;124mThe list is empty.\u001b[39m\u001b[38;5;124m\"\u001b[39m\n\u001b[0;32m      3\u001b[0m     \u001b[38;5;28;01mreturn\u001b[39;00m \u001b[38;5;28msum\u001b[39m(marks)\u001b[38;5;241m/\u001b[39m\u001b[38;5;28mlen\u001b[39m(marks)\n",
      "\u001b[1;31mAssertionError\u001b[0m: The list is empty."
     ]
    }
   ],
   "source": [
    "def avg(marks):\n",
    "    assert len(marks) != 0,\"The list is empty.\"\n",
    "    return sum(marks)/len(marks)\n",
    "\n",
    "marks1=[67,59,86,75,92]\n",
    "print(\"The average of marks : \",avg(marks1))\n",
    "marks2=[]\n",
    "print(\"The average of marks : \",avg(marks2))\n",
    "\n",
    "\n",
    "# The average of marks :  75.8\n",
    "# ---------------------------------------------------------------------------\n",
    "# AssertionError                            Traceback (most recent call last)\n",
    "# Cell In[36], line 8\n",
    "#       6 print(\"The average of marks : \",avg(marks1))\n",
    "#       7 marks2=[]\n",
    "# ----> 8 print(\"The average of marks : \",avg(marks2))\n",
    "\n",
    "# Cell In[36], line 2, in avg(marks)\n",
    "#       1 def avg(marks):\n",
    "# ----> 2     assert len(marks) != 0,\"The list is empty.\"\n",
    "#       3     return sum(marks)/len(marks)\n",
    "\n",
    "# AssertionError: The list is empty.\n"
   ]
  }
 ],
 "metadata": {
  "kernelspec": {
   "display_name": "Python 3 (ipykernel)",
   "language": "python",
   "name": "python3"
  },
  "language_info": {
   "codemirror_mode": {
    "name": "ipython",
    "version": 3
   },
   "file_extension": ".py",
   "mimetype": "text/x-python",
   "name": "python",
   "nbconvert_exporter": "python",
   "pygments_lexer": "ipython3",
   "version": "3.11.5"
  }
 },
 "nbformat": 4,
 "nbformat_minor": 5
}
