{
 "cells": [
  {
   "cell_type": "markdown",
   "id": "12eaef84",
   "metadata": {},
   "source": [
    "## Operation in String\n",
    "- append\n",
    "- insert\n",
    "- index\n",
    "- count\n",
    "- sort\n",
    "- reverse\n",
    "- remove\n",
    "- pop\n",
    "- extend\n",
    "- indexing\te.g. L[i]\n",
    "- Slicing\t\tL[1:5]\n",
    "- Concatination\tL+1\n",
    "- Repetiition\tL *  5\n",
    "- Membership test\te.g. 'a' in L\n",
    "- Length\t\te.g. len [L]"
   ]
  },
  {
   "cell_type": "code",
   "execution_count": 2,
   "id": "47b3aff6",
   "metadata": {},
   "outputs": [
    {
     "data": {
      "text/plain": [
       "['begin', [1, 2, 3], 'end']"
      ]
     },
     "execution_count": 2,
     "metadata": {},
     "output_type": "execute_result"
    }
   ],
   "source": [
    "s=[1,2,3]\n",
    "t=['begin',s,'end']\n",
    "t"
   ]
  },
  {
   "cell_type": "code",
   "execution_count": 9,
   "id": "2923f678",
   "metadata": {},
   "outputs": [
    {
     "name": "stdout",
     "output_type": "stream",
     "text": [
      "[1, 2, 3]\n"
     ]
    }
   ],
   "source": [
    "s = [1, 2]\n",
    "s.append(3)\n",
    "print(s)"
   ]
  },
  {
   "cell_type": "code",
   "execution_count": 10,
   "id": "2dd9c24d",
   "metadata": {},
   "outputs": [
    {
     "name": "stdout",
     "output_type": "stream",
     "text": [
      "[1, 4, 2, 3]\n"
     ]
    }
   ],
   "source": [
    "L = [1, 2, 3]\n",
    "L.insert(1, 4)\n",
    "print(L) "
   ]
  },
  {
   "cell_type": "code",
   "execution_count": 11,
   "id": "6db278fc",
   "metadata": {},
   "outputs": [
    {
     "name": "stdout",
     "output_type": "stream",
     "text": [
      "1\n"
     ]
    }
   ],
   "source": [
    "L = [1, 2, 3, 4, 2]\n",
    "print(L.index(2)) "
   ]
  },
  {
   "cell_type": "code",
   "execution_count": 12,
   "id": "481b623b",
   "metadata": {},
   "outputs": [
    {
     "name": "stdout",
     "output_type": "stream",
     "text": [
      "2\n"
     ]
    }
   ],
   "source": [
    "L = [1, 2, 3, 4, 2]\n",
    "print(L.count(2))"
   ]
  },
  {
   "cell_type": "code",
   "execution_count": 13,
   "id": "2d3d5cdd",
   "metadata": {},
   "outputs": [
    {
     "name": "stdout",
     "output_type": "stream",
     "text": [
      "[1, 1, 2, 3, 4, 5, 9]\n"
     ]
    }
   ],
   "source": [
    "L = [3, 1, 4, 1, 5, 9, 2]\n",
    "L.sort()\n",
    "print(L)"
   ]
  },
  {
   "cell_type": "code",
   "execution_count": 14,
   "id": "c4ce608b",
   "metadata": {},
   "outputs": [
    {
     "name": "stdout",
     "output_type": "stream",
     "text": [
      "[4, 3, 2, 1]\n"
     ]
    }
   ],
   "source": [
    "L = [1, 2, 3, 4]\n",
    "L.reverse()\n",
    "print(L)  "
   ]
  },
  {
   "cell_type": "code",
   "execution_count": 15,
   "id": "c95a629e",
   "metadata": {},
   "outputs": [
    {
     "name": "stdout",
     "output_type": "stream",
     "text": [
      "[1, 3, 4, 2]\n"
     ]
    }
   ],
   "source": [
    "L = [1, 2, 3, 4, 2]\n",
    "L.remove(2)\n",
    "print(L) "
   ]
  },
  {
   "cell_type": "code",
   "execution_count": 16,
   "id": "98be17e3",
   "metadata": {},
   "outputs": [
    {
     "name": "stdout",
     "output_type": "stream",
     "text": [
      "[1, 2, 4]\n",
      "3\n"
     ]
    }
   ],
   "source": [
    "L = [1, 2, 3, 4]\n",
    "popped_element = L.pop(2)\n",
    "print(L)\n",
    "print(popped_element)"
   ]
  },
  {
   "cell_type": "code",
   "execution_count": 17,
   "id": "369eb576",
   "metadata": {},
   "outputs": [
    {
     "name": "stdout",
     "output_type": "stream",
     "text": [
      "[1, 2, 3, 4, 5, 6]\n"
     ]
    }
   ],
   "source": [
    "L = [1, 2, 3]\n",
    "L.extend([4, 5, 6])\n",
    "print(L) "
   ]
  },
  {
   "cell_type": "code",
   "execution_count": 18,
   "id": "7a1ee075",
   "metadata": {},
   "outputs": [
    {
     "name": "stdout",
     "output_type": "stream",
     "text": [
      "3\n"
     ]
    }
   ],
   "source": [
    "L = [1, 2, 3, 4]\n",
    "print(L[2])"
   ]
  },
  {
   "cell_type": "code",
   "execution_count": 19,
   "id": "6bb518f7",
   "metadata": {},
   "outputs": [
    {
     "name": "stdout",
     "output_type": "stream",
     "text": [
      "[2, 3, 4]\n"
     ]
    }
   ],
   "source": [
    "L = [1, 2, 3, 4, 5]\n",
    "print(L[1:4])"
   ]
  },
  {
   "cell_type": "code",
   "execution_count": 20,
   "id": "6092ec99",
   "metadata": {},
   "outputs": [
    {
     "name": "stdout",
     "output_type": "stream",
     "text": [
      "[1, 2, 3, 4, 5, 6]\n"
     ]
    }
   ],
   "source": [
    "L1 = [1, 2, 3]\n",
    "L2 = [4, 5, 6]\n",
    "result = L1 + L2\n",
    "print(result) "
   ]
  },
  {
   "cell_type": "code",
   "execution_count": 21,
   "id": "2787bbf2",
   "metadata": {},
   "outputs": [
    {
     "name": "stdout",
     "output_type": "stream",
     "text": [
      "[1, 2, 3, 1, 2, 3, 1, 2, 3]\n"
     ]
    }
   ],
   "source": [
    "L = [1, 2, 3]\n",
    "repeated_list = L * 3\n",
    "print(repeated_list) "
   ]
  },
  {
   "cell_type": "code",
   "execution_count": 22,
   "id": "e897c85c",
   "metadata": {},
   "outputs": [
    {
     "name": "stdout",
     "output_type": "stream",
     "text": [
      "True\n"
     ]
    }
   ],
   "source": [
    "L = [1, 2, 3, 4, 5]\n",
    "print(3 in L)"
   ]
  },
  {
   "cell_type": "code",
   "execution_count": 23,
   "id": "2363ddfb",
   "metadata": {},
   "outputs": [
    {
     "name": "stdout",
     "output_type": "stream",
     "text": [
      "5\n"
     ]
    }
   ],
   "source": [
    "L = [1, 2, 3, 4, 5]\n",
    "print(len(L))"
   ]
  },
  {
   "cell_type": "code",
   "execution_count": null,
   "id": "1e48c3c7",
   "metadata": {},
   "outputs": [],
   "source": []
  }
 ],
 "metadata": {
  "kernelspec": {
   "display_name": "Python 3 (ipykernel)",
   "language": "python",
   "name": "python3"
  },
  "language_info": {
   "codemirror_mode": {
    "name": "ipython",
    "version": 3
   },
   "file_extension": ".py",
   "mimetype": "text/x-python",
   "name": "python",
   "nbconvert_exporter": "python",
   "pygments_lexer": "ipython3",
   "version": "3.11.5"
  }
 },
 "nbformat": 4,
 "nbformat_minor": 5
}
