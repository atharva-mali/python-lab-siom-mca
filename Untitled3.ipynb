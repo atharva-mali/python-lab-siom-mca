{
 "cells": [
  {
   "cell_type": "code",
   "execution_count": 2,
   "id": "737e4da7",
   "metadata": {},
   "outputs": [
    {
     "name": "stdout",
     "output_type": "stream",
     "text": [
      "f\n",
      "l\n",
      "o\n",
      "g\n"
     ]
    }
   ],
   "source": [
    "def reverse(data): \n",
    "    for index in range(len(data)-1, -1, -1): \n",
    "        yield data[index] \n",
    "for char in reverse('golf'): print(char) "
   ]
  },
  {
   "cell_type": "code",
   "execution_count": 6,
   "id": "7e9f1d9e",
   "metadata": {},
   "outputs": [
    {
     "name": "stdout",
     "output_type": "stream",
     "text": [
      "6\n",
      "8\n",
      "0.5\n"
     ]
    }
   ],
   "source": [
    "class C1:\n",
    "    def add(self, x, y):\n",
    "        return x + y\n",
    "\n",
    "class C2:\n",
    "    def mul(self, x, y):\n",
    "        return x * y\n",
    "\n",
    "class D(C1, C2):\n",
    "    def div(self, a, b):\n",
    "        return a / b\n",
    "\n",
    "d = D()\n",
    "print(d.add(2, 4))\n",
    "print(d.mul(2, 4))\n",
    "print(d.div(2, 4))\n"
   ]
  },
  {
   "cell_type": "code",
   "execution_count": 10,
   "id": "84f9135d",
   "metadata": {},
   "outputs": [
    {
     "data": {
      "text/plain": [
       "43"
      ]
     },
     "execution_count": 10,
     "metadata": {},
     "output_type": "execute_result"
    }
   ],
   "source": [
    "def make_incrementor(n):\n",
    "    return lambda x: x + n\n",
    "f = make_incrementor(42) \n",
    "f(0) \n",
    "f(1)"
   ]
  },
  {
   "cell_type": "code",
   "execution_count": 14,
   "id": "4d0c23bf",
   "metadata": {},
   "outputs": [
    {
     "name": "stdout",
     "output_type": "stream",
     "text": [
      "[55, 75, 13, 63]\n"
     ]
    }
   ],
   "source": [
    "list_ = [34, 12, 64, 55, 75, 13, 63]\n",
    "odd_list = list(filter(lambda num: num % 2 != 0, list_))\n",
    "print(odd_list)"
   ]
  },
  {
   "cell_type": "code",
   "execution_count": 17,
   "id": "02319d84",
   "metadata": {},
   "outputs": [
    {
     "name": "stdout",
     "output_type": "stream",
     "text": [
      "[4, 16, 25, 1]\n"
     ]
    }
   ],
   "source": [
    "numbers_list = [2, 4, 5, 1]\n",
    "squared_list = list(map(lambda num: num ** 2, numbers_list))\n",
    "print(squared_list)"
   ]
  },
  {
   "cell_type": "code",
   "execution_count": 19,
   "id": "7be95630",
   "metadata": {},
   "outputs": [
    {
     "name": "stdout",
     "output_type": "stream",
     "text": [
      "Enter radius: 7\n",
      "Area: 153.86\n",
      "Circumference: 43.96\n"
     ]
    }
   ],
   "source": [
    "class Circle:\n",
    "    def __init__(self, radius):\n",
    "        self.radius = radius\n",
    "\n",
    "    def calculate_area(self):\n",
    "        area = 3.14 * self.radius * self.radius\n",
    "        return area\n",
    "\n",
    "    def calculate_circumference(self):\n",
    "        circumference = 2 * 3.14 * self.radius\n",
    "        return circumference\n",
    "\n",
    "    def print_results(self):\n",
    "        area = self.calculate_area()\n",
    "        circumference = self.calculate_circumference()\n",
    "        print(f\"Area: {area:.2f}\")\n",
    "        print(f\"Circumference: {circumference:.2f}\")\n",
    "\n",
    "# Example usage:\n",
    "radius = float(input(\"Enter radius: \"))\n",
    "circle = Circle(radius)\n",
    "circle.print_results()\n"
   ]
  },
  {
   "cell_type": "code",
   "execution_count": 23,
   "id": "24d85269",
   "metadata": {},
   "outputs": [
    {
     "data": {
      "text/plain": [
       "{'Java': 'Java New Book',\n",
       " 'C++': 'C++ Book',\n",
       " 'Python': 'Python Book',\n",
       " 'Data Structures': 'Data Structures Book'}"
      ]
     },
     "execution_count": 23,
     "metadata": {},
     "output_type": "execute_result"
    }
   ],
   "source": [
    "# Create a dictionary of 4 books\n",
    "books = {\n",
    "    \"Java\": \"Java Book\",\n",
    "    \"C++\": \"C++ Book\",\n",
    "    \"Python\": \"Python Book\",\n",
    "    \"Data Structures\": \"Data Structures Book\"\n",
    "}\n",
    "\n",
    "# Add a new book to the dictionary\n",
    "books[\"C#\"] = \"C# Book\"\n",
    "\n",
    "# Modify the first book's name\n",
    "books[\"Java\"] = \"Java New Book\"\n",
    "\n",
    "# Delete the last book from the dictionary\n",
    "del books[\"C#\"]\n",
    "\n",
    "# Print the modified dictionary\n",
    "books\n"
   ]
  },
  {
   "cell_type": "code",
   "execution_count": 27,
   "id": "ac827548",
   "metadata": {},
   "outputs": [
    {
     "name": "stdout",
     "output_type": "stream",
     "text": [
      "Sachin 36\n"
     ]
    }
   ],
   "source": [
    "class Stud:\n",
    "    def __init__(self,name,age):\n",
    "        self.name=name\n",
    "        self.age=age\n",
    "    def get_data(self):\n",
    "        print(f'{self.name} {self.age}')\n",
    "\n",
    "p1=Stud(\"Sachin\",36)\n",
    "p1.get_data()"
   ]
  },
  {
   "cell_type": "code",
   "execution_count": 32,
   "id": "535cdaee",
   "metadata": {},
   "outputs": [],
   "source": [
    "a = 33\n",
    "b = 40\n",
    "if b > a:\n",
    "    pass"
   ]
  },
  {
   "cell_type": "code",
   "execution_count": 35,
   "id": "c3ab698b",
   "metadata": {},
   "outputs": [
    {
     "name": "stdout",
     "output_type": "stream",
     "text": [
      "1\n",
      "2\n",
      "3\n"
     ]
    }
   ],
   "source": [
    "i = 1\n",
    "while i < 6:\n",
    "    print(i)\n",
    "    if i == 3:\n",
    "        break\n",
    "    i += 1"
   ]
  },
  {
   "cell_type": "code",
   "execution_count": 36,
   "id": "5142c38d",
   "metadata": {},
   "outputs": [
    {
     "name": "stdout",
     "output_type": "stream",
     "text": [
      "1\n",
      "2\n",
      "4\n",
      "5\n",
      "6\n"
     ]
    }
   ],
   "source": [
    "i = 0\n",
    "while i < 6:\n",
    "    i += 1\n",
    "    if i == 3:\n",
    "        continue\n",
    "    print(i)"
   ]
  }
 ],
 "metadata": {
  "kernelspec": {
   "display_name": "Python 3 (ipykernel)",
   "language": "python",
   "name": "python3"
  },
  "language_info": {
   "codemirror_mode": {
    "name": "ipython",
    "version": 3
   },
   "file_extension": ".py",
   "mimetype": "text/x-python",
   "name": "python",
   "nbconvert_exporter": "python",
   "pygments_lexer": "ipython3",
   "version": "3.11.5"
  }
 },
 "nbformat": 4,
 "nbformat_minor": 5
}
