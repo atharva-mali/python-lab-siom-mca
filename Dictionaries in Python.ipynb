{
 "cells": [
  {
   "cell_type": "code",
   "execution_count": 12,
   "id": "da3e8ff2",
   "metadata": {},
   "outputs": [
    {
     "name": "stdout",
     "output_type": "stream",
     "text": [
      "{'name': 'Guido', 'age': 43, ('hello', 'world'): 1, 42: 'yes', 'flag': ['red', 'white', 'blue']}\n"
     ]
    },
    {
     "data": {
      "text/plain": [
       "{'name': 'Guido',\n",
       " 'age': 43,\n",
       " ('hello', 'world'): 1,\n",
       " 42: 'yes',\n",
       " 'flag': ['red', 'white', 'blue']}"
      ]
     },
     "execution_count": 12,
     "metadata": {},
     "output_type": "execute_result"
    }
   ],
   "source": [
    "sample = {\n",
    "    \"name\":\"Guido\",\n",
    "    \"age\":43,\n",
    "    (\"hello\",\"world\"):1,\n",
    "    42:\"yes\",\n",
    "    \"flag\":[\"red\",\"white\",\"blue\"]\n",
    "}\n",
    "print(sample)\n",
    "sample"
   ]
  },
  {
   "cell_type": "code",
   "execution_count": 2,
   "id": "825b2a5f",
   "metadata": {},
   "outputs": [],
   "source": [
    "d={\n",
    "    \"foo\":1,\n",
    "    \"bar\":2\n",
    "}"
   ]
  },
  {
   "cell_type": "code",
   "execution_count": 13,
   "id": "057b29d4",
   "metadata": {},
   "outputs": [
    {
     "name": "stdout",
     "output_type": "stream",
     "text": [
      "2\n"
     ]
    },
    {
     "data": {
      "text/plain": [
       "2"
      ]
     },
     "execution_count": 13,
     "metadata": {},
     "output_type": "execute_result"
    }
   ],
   "source": [
    "print (d[\"bar\"])\n",
    "d[\"bar\"]"
   ]
  },
  {
   "cell_type": "code",
   "execution_count": 16,
   "id": "15a341f9",
   "metadata": {},
   "outputs": [
    {
     "name": "stdout",
     "output_type": "stream",
     "text": [
      "dict_keys(['foo', 'name', 'rno'])\n",
      "dict_values(['yow!', 'Atharva', 23436])\n"
     ]
    },
    {
     "data": {
      "text/plain": [
       "dict_values(['yow!', 'Atharva', 23436])"
      ]
     },
     "execution_count": 16,
     "metadata": {},
     "output_type": "execute_result"
    }
   ],
   "source": [
    "some_dict = {}\n",
    "some_dict[\"foo\"]=\"yow!\"\n",
    "some_dict[\"name\"]=\"Atharva\"\n",
    "some_dict[\"rno\"]=23436\n",
    "\n",
    "print (some_dict.keys())\n",
    "some_dict.keys()\n",
    "\n",
    "print (some_dict.values())\n",
    "some_dict.values()\n"
   ]
  },
  {
   "cell_type": "markdown",
   "id": "dcea8a78",
   "metadata": {},
   "source": [
    "## Operation in Dictionary\n",
    "- keys()\n",
    "- values()\n",
    "- items()\n",
    "- has_key(key)\n",
    "- clear()\n",
    "- copy()\n",
    "- get(key[,x])\n",
    "- setdefault(key[,x])\n",
    "- update(D)\n",
    "- popitem()\n",
    "\n",
    "Keys must be mutable"
   ]
  },
  {
   "cell_type": "code",
   "execution_count": 17,
   "id": "d73a64b7",
   "metadata": {},
   "outputs": [
    {
     "name": "stdout",
     "output_type": "stream",
     "text": [
      "Keys: dict_keys(['a', 'b', 'c'])\n",
      "Values: dict_values(['yow!', 'Atharva', 23436])\n",
      "Items: dict_items([('a', 'yow!'), ('b', 'Atharva'), ('c', 23436)])\n",
      "Key 'b' exists: True\n",
      "Dictionary after clear: {}\n",
      "Copied Dictionary: {'a': 'yow!', 'b': 'Atharva', 'c': 23436}\n",
      "Value for key 'b': Atharva\n",
      "Dictionary after setdefault: {'a': 'yow!', 'b': 'Atharva', 'c': 23436, 'd': 'Default'}\n",
      "Default value for key 'd': Default\n",
      "Updated Dictionary: {'a': 'yow!', 'b': 'Atharva', 'c': 999, 'd': 'Default', 'e': 'New value'}\n",
      "Popped item: ('e', 'New value')\n",
      "Dictionary after popitem: {'a': 'yow!', 'b': 'Atharva', 'c': 999, 'd': 'Default'}\n"
     ]
    }
   ],
   "source": [
    "my_dict = {'a': 'yow!', 'b': 'Atharva', 'c': 23436}\n",
    "\n",
    "\n",
    "keys_list = my_dict.keys()\n",
    "print(\"Keys:\", keys_list)\n",
    "\n",
    "values_list = my_dict.values()\n",
    "print(\"Values:\", values_list)\n",
    "\n",
    "items_list = my_dict.items()\n",
    "print(\"Items:\", items_list)\n",
    "\n",
    "key_exists = 'b' in my_dict\n",
    "print(\"Key 'b' exists:\", key_exists)\n",
    "\n",
    "my_dict.clear()\n",
    "print(\"Dictionary after clear:\", my_dict)\n",
    "\n",
    "original_dict = {'a': 'yow!', 'b': 'Atharva', 'c': 23436}\n",
    "copied_dict = original_dict.copy()\n",
    "print(\"Copied Dictionary:\", copied_dict)\n",
    "\n",
    "value = original_dict.get('b', 'Not found')\n",
    "print(\"Value for key 'b':\", value)\n",
    "\n",
    "default_value = original_dict.setdefault('d', 'Default')\n",
    "print(\"Dictionary after setdefault:\", original_dict)\n",
    "print(\"Default value for key 'd':\", default_value)\n",
    "\n",
    "update_dict = {'c': 999, 'e': 'New value'}\n",
    "original_dict.update(update_dict)\n",
    "print(\"Updated Dictionary:\", original_dict)\n",
    "\n",
    "popped_item = original_dict.popitem()\n",
    "print(\"Popped item:\", popped_item)\n",
    "print(\"Dictionary after popitem:\", original_dict)"
   ]
  }
 ],
 "metadata": {
  "kernelspec": {
   "display_name": "Python 3 (ipykernel)",
   "language": "python",
   "name": "python3"
  },
  "language_info": {
   "codemirror_mode": {
    "name": "ipython",
    "version": 3
   },
   "file_extension": ".py",
   "mimetype": "text/x-python",
   "name": "python",
   "nbconvert_exporter": "python",
   "pygments_lexer": "ipython3",
   "version": "3.11.5"
  }
 },
 "nbformat": 4,
 "nbformat_minor": 5
}
