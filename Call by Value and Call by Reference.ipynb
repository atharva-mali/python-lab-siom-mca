{
 "cells": [
  {
   "cell_type": "markdown",
   "id": "cb08814c",
   "metadata": {},
   "source": [
    "# Call by value"
   ]
  },
  {
   "cell_type": "code",
   "execution_count": 2,
   "id": "f8179e48",
   "metadata": {},
   "outputs": [
    {
     "name": "stdout",
     "output_type": "stream",
     "text": [
      "5\n"
     ]
    }
   ],
   "source": [
    "def change(x):\n",
    "    x=x+1\n",
    "    return x\n",
    "\n",
    "a=5\n",
    "change(a)\n",
    "print(a)"
   ]
  },
  {
   "cell_type": "code",
   "execution_count": 7,
   "id": "6526e7a8",
   "metadata": {},
   "outputs": [
    {
     "name": "stdout",
     "output_type": "stream",
     "text": [
      "aditya\n",
      "aditya is the best\n"
     ]
    }
   ],
   "source": [
    "name=\"aditya\"\n",
    "def test(string):\n",
    "    string=\"aditya is the best\"\n",
    "    print(string)\n",
    "print(name)    \n",
    "test(name)"
   ]
  },
  {
   "cell_type": "markdown",
   "id": "b58d60e4",
   "metadata": {},
   "source": [
    "# Call by reference"
   ]
  },
  {
   "cell_type": "code",
   "execution_count": 10,
   "id": "408e6fed",
   "metadata": {},
   "outputs": [
    {
     "name": "stdout",
     "output_type": "stream",
     "text": [
      "[1, 2, 3, 'This is the mew item']\n"
     ]
    }
   ],
   "source": [
    "def modify_list(lst):\n",
    "    lst.append(\"This is the mew item\")\n",
    "\n",
    "my_list=[1,2,3]\n",
    "modify_list(my_list)\n",
    "print(my_list)"
   ]
  },
  {
   "cell_type": "code",
   "execution_count": 11,
   "id": "038629cb",
   "metadata": {},
   "outputs": [
    {
     "name": "stdout",
     "output_type": "stream",
     "text": [
      "{'a': 1, 'b': 2, 'c': 3}\n"
     ]
    }
   ],
   "source": [
    "def modify_dict(d):\n",
    "    d['c']=3\n",
    "\n",
    "my_dict={\n",
    "    'a':1,\n",
    "    'b':2\n",
    "}\n",
    "modify_dict(my_dict)\n",
    "print(my_dict)"
   ]
  }
 ],
 "metadata": {
  "kernelspec": {
   "display_name": "Python 3 (ipykernel)",
   "language": "python",
   "name": "python3"
  },
  "language_info": {
   "codemirror_mode": {
    "name": "ipython",
    "version": 3
   },
   "file_extension": ".py",
   "mimetype": "text/x-python",
   "name": "python",
   "nbconvert_exporter": "python",
   "pygments_lexer": "ipython3",
   "version": "3.11.5"
  }
 },
 "nbformat": 4,
 "nbformat_minor": 5
}
