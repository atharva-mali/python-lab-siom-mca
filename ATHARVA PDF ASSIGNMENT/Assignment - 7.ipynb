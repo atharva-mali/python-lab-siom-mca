{
 "cells": [
  {
   "cell_type": "markdown",
   "id": "8f5f03d6",
   "metadata": {},
   "source": [
    "# Python Assignment - 7\n",
    "### Atharva Suryakant Mali | Class: MCA - I - D | Roll No: 23436"
   ]
  },
  {
   "cell_type": "code",
   "execution_count": 2,
   "id": "c7bc4fbd",
   "metadata": {},
   "outputs": [],
   "source": [
    "import pymongo\n",
    "\n",
    "# Establishing connection to MongoDB\n",
    "client = pymongo.MongoClient(\"mongodb://localhost:27017/\")\n",
    "\n",
    "# Creating a database named 'college'\n",
    "db = client[\"college\"]\n"
   ]
  },
  {
   "cell_type": "code",
   "execution_count": 4,
   "id": "f12a5415",
   "metadata": {},
   "outputs": [
    {
     "name": "stdout",
     "output_type": "stream",
     "text": [
      "Inserted document:\n",
      "{'_id': 1, 'name': 'Ashok Deshpande', 'year': 'MCA-I', 'address': 'Vadgaon - Pune'}\n"
     ]
    }
   ],
   "source": [
    "# 6. Write a python program to create a MongoDB database named ‘college’, collection named\n",
    "# ‘student’ and insert one document in the collection ‘student’ having following structure.\n",
    "# {“_id”: 1, “name”: “Ashok Deshpande”, “year”: “MCA-I”, “address”: “Vadgaon - Pune”}\n",
    "# Display the inserted document in the collection ‘student’.\n",
    "\n",
    "student_collection = db[\"student\"]\n",
    "student_data_1 = {\"_id\": 1, \"name\": \"Ashok Deshpande\", \"year\": \"MCA-I\", \"address\": \"Vadgaon - Pune\"}\n",
    "student_collection.insert_one(student_data_1)\n",
    "\n",
    "# Displaying the inserted document\n",
    "print(\"Inserted document:\")\n",
    "print(student_collection.find_one({\"_id\": 1}))"
   ]
  },
  {
   "cell_type": "code",
   "execution_count": 5,
   "id": "95c54ecb",
   "metadata": {},
   "outputs": [
    {
     "name": "stdout",
     "output_type": "stream",
     "text": [
      "\n",
      "All documents after insert operation:\n",
      "{'_id': 1, 'name': 'Ashok Deshpande', 'year': 'MCA-I', 'address': 'Vadgaon - Pune'}\n",
      "{'_id': 2, 'name': 'Abhijeet Kulkarni', 'year': 'MCA-I', 'address': 'Malegaon Nashik'}\n",
      "{'_id': 3, 'name': 'Usha Shinde', 'year': 'MCA-I', 'address': 'Lasalgaon - Nashik'}\n",
      "{'_id': 4, 'name': 'Akshay Kumar', 'year': 'MCA-I', 'address': 'Dadar - Mumbai'}\n",
      "{'_id': 5, 'name': 'Amisha Patel', 'year': 'MCA-I', 'address': 'Lasalgaon - Nashik'}\n"
     ]
    }
   ],
   "source": [
    "# 7. Write a python program to insert many documents in a MongoDB collection named\n",
    "# ‘student’.\n",
    "# {“_id”: 2, “name”: “Abhijeet Kulkarni”, “year”: “MCA-I”, “address”: “Malegaon Nashik”}\n",
    "# {“_id”: 3, “name”: “Usha Shinde”, “year”: “MCA-I”, “address”: “Lasalgaon - Nashik”}\n",
    "# {“_id”: 4, “name”: “Akshay Kumar”, “year”: “MCA-I”, “address”: “Dadar - Mumbai”}\n",
    "# {“_id”: 5, “name”: “Amisha Patel”, “year”: “MCA-I”, “address”: “Lasalgaon - Nashik”}\n",
    "# Display all the documents of the collection ‘student’ after insert operation.\n",
    "\n",
    "student_data_many = [\n",
    "    {\"_id\": 2, \"name\": \"Abhijeet Kulkarni\", \"year\": \"MCA-I\", \"address\": \"Malegaon Nashik\"},\n",
    "    {\"_id\": 3, \"name\": \"Usha Shinde\", \"year\": \"MCA-I\", \"address\": \"Lasalgaon - Nashik\"},\n",
    "    {\"_id\": 4, \"name\": \"Akshay Kumar\", \"year\": \"MCA-I\", \"address\": \"Dadar - Mumbai\"},\n",
    "    {\"_id\": 5, \"name\": \"Amisha Patel\", \"year\": \"MCA-I\", \"address\": \"Lasalgaon - Nashik\"}\n",
    "]\n",
    "student_collection.insert_many(student_data_many)\n",
    "\n",
    "# Displaying all documents after insertion\n",
    "print(\"\\nAll documents after insert operation:\")\n",
    "for student in student_collection.find():\n",
    "    print(student)\n"
   ]
  },
  {
   "cell_type": "code",
   "execution_count": 6,
   "id": "29265f58",
   "metadata": {},
   "outputs": [
    {
     "name": "stdout",
     "output_type": "stream",
     "text": [
      "\n",
      "Documents before update:\n",
      "{'_id': 3, 'name': 'Usha Shinde', 'year': 'MCA-I', 'address': 'Lasalgaon - Nashik'}\n",
      "{'_id': 5, 'name': 'Amisha Patel', 'year': 'MCA-I', 'address': 'Lasalgaon - Nashik'}\n",
      "\n",
      "Documents after update:\n",
      "{'_id': 1, 'name': 'Ashok Deshpande', 'year': 'MCA-I', 'address': 'Vadgaon - Pune'}\n",
      "{'_id': 2, 'name': 'Abhijeet Kulkarni', 'year': 'MCA-I', 'address': 'Malegaon Nashik'}\n",
      "{'_id': 3, 'name': 'Usha Shinde', 'year': 'MCA-I', 'address': 'Hadapsar - Pune'}\n",
      "{'_id': 4, 'name': 'Akshay Kumar', 'year': 'MCA-I', 'address': 'Dadar - Mumbai'}\n",
      "{'_id': 5, 'name': 'Amisha Patel', 'year': 'MCA-I', 'address': 'Hadapsar - Pune'}\n"
     ]
    }
   ],
   "source": [
    "# 8. Write a python program to update many documents in a MongoDB collection named\n",
    "# ‘student’ having address = “Lasalgaon – Nashik” with new address = “Hadapsar - Pune”.\n",
    "# Display all documents of the collection named ‘student’ before and after updating the\n",
    "# documents.\n",
    "\n",
    "print(\"\\nDocuments before update:\")\n",
    "for student in student_collection.find({\"address\": \"Lasalgaon - Nashik\"}):\n",
    "    print(student)\n",
    "\n",
    "student_collection.update_many({\"address\": \"Lasalgaon - Nashik\"}, {\"$set\": {\"address\": \"Hadapsar - Pune\"}})\n",
    "\n",
    "# Displaying all documents after update\n",
    "print(\"\\nDocuments after update:\")\n",
    "for student in student_collection.find():\n",
    "    print(student)"
   ]
  },
  {
   "cell_type": "code",
   "execution_count": 7,
   "id": "855d5a7b",
   "metadata": {},
   "outputs": [
    {
     "name": "stdout",
     "output_type": "stream",
     "text": [
      "\n",
      "Documents before delete:\n",
      "{'_id': 3, 'name': 'Usha Shinde', 'year': 'MCA-I', 'address': 'Hadapsar - Pune'}\n",
      "{'_id': 5, 'name': 'Amisha Patel', 'year': 'MCA-I', 'address': 'Hadapsar - Pune'}\n",
      "\n",
      "Documents after delete:\n",
      "{'_id': 1, 'name': 'Ashok Deshpande', 'year': 'MCA-I', 'address': 'Vadgaon - Pune'}\n",
      "{'_id': 2, 'name': 'Abhijeet Kulkarni', 'year': 'MCA-I', 'address': 'Malegaon Nashik'}\n",
      "{'_id': 4, 'name': 'Akshay Kumar', 'year': 'MCA-I', 'address': 'Dadar - Mumbai'}\n"
     ]
    }
   ],
   "source": [
    "# 9. Write a python program to delete documents from a MongoDB collection named ‘student’\n",
    "# having address = “Hadapsar - Pune”.\n",
    "# Display all the documents of the collection named ‘student’ before and after deleting\n",
    "# documents.\n",
    "\n",
    "print(\"\\nDocuments before delete:\")\n",
    "for student in student_collection.find({\"address\": \"Hadapsar - Pune\"}):\n",
    "    print(student)\n",
    "\n",
    "student_collection.delete_many({\"address\": \"Hadapsar - Pune\"})\n",
    "\n",
    "# Displaying all documents after delete\n",
    "print(\"\\nDocuments after delete:\")\n",
    "for student in student_collection.find():\n",
    "    print(student)"
   ]
  },
  {
   "cell_type": "code",
   "execution_count": null,
   "id": "a9d7a02f",
   "metadata": {},
   "outputs": [],
   "source": [
    "# 10. Import the given collection data file ‘restaurants.json’ in MongoDB database named\n",
    "# ‘business’ and collection named ‘reviews’.\n",
    "\n",
    "# a. Write a python program to display all documents from a MongoDB named\n",
    "# ‘business’ and collection named ‘reviews’ having “cuisine” = “Vegetarian”. Also\n",
    "# display the count of documents having “cuisine” = “Vegetarian”.\n",
    "# b. Write a python program to display all documents from a MongoDB named\n",
    "# ‘business’ and collection named ‘reviews’ having “rating” = 5. Also display the\n",
    "# count of documents having “rating” = 5.\n",
    "# c. Write a python program to display all documents from a MongoDB named\n",
    "# ‘business’ and collection named ‘reviews’ having “cuisine” = “American”. Also\n",
    "# display the count of documents having “cuisine” = “American”.\n",
    "# d. Write a python program to display all documents from a MongoDB named\n",
    "# ‘business’ and collection named ‘reviews’ having “cuisine” = “Fast Food”. Also\n",
    "# display the count of documents having “cuisine” = “Fast Food”.\n"
   ]
  }
 ],
 "metadata": {
  "kernelspec": {
   "display_name": "Python 3 (ipykernel)",
   "language": "python",
   "name": "python3"
  },
  "language_info": {
   "codemirror_mode": {
    "name": "ipython",
    "version": 3
   },
   "file_extension": ".py",
   "mimetype": "text/x-python",
   "name": "python",
   "nbconvert_exporter": "python",
   "pygments_lexer": "ipython3",
   "version": "3.11.5"
  }
 },
 "nbformat": 4,
 "nbformat_minor": 5
}
