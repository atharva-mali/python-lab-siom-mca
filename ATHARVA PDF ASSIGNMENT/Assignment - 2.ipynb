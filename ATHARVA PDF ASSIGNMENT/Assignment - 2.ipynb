{
 "cells": [
  {
   "cell_type": "markdown",
   "id": "37696863",
   "metadata": {},
   "source": [
    "# Python Assignment - 2\n",
    "### Atharva Suryakant Mali | Class: MCA - I - D | Roll No: 23436"
   ]
  },
  {
   "cell_type": "code",
   "execution_count": 23,
   "id": "4f38eabd",
   "metadata": {},
   "outputs": [],
   "source": [
    "# 1. Write a Python function to find the Max of three numbers.\n"
   ]
  },
  {
   "cell_type": "code",
   "execution_count": 24,
   "id": "6e753d89",
   "metadata": {},
   "outputs": [
    {
     "name": "stdout",
     "output_type": "stream",
     "text": [
      "20\n"
     ]
    }
   ],
   "source": [
    "# 2. Write a Python function to sum all the numbers in a list.\n",
    "# Sample List: (8, 2, 3, 0, 7)\n",
    "# Expected Output: 20\n",
    "def sum_of_list(numbers):\n",
    "    return sum(numbers)\n",
    "\n",
    "# Example usage:\n",
    "sample_list = [8, 2, 3, 0, 7]\n",
    "print(sum_of_list(sample_list))  # Output: 20\n"
   ]
  },
  {
   "cell_type": "code",
   "execution_count": 25,
   "id": "ccff7ec7",
   "metadata": {},
   "outputs": [
    {
     "name": "stdout",
     "output_type": "stream",
     "text": [
      "-336\n"
     ]
    }
   ],
   "source": [
    "# 3. Write a Python function to multiply all the numbers in a list.\n",
    "# Sample List: (8, 2, 3, -1, 7)\n",
    "# Expected Output: -336\n",
    "def multiply_list(numbers):\n",
    "    result = 1\n",
    "    for num in numbers:\n",
    "        result *= num\n",
    "    return result\n",
    "\n",
    "# Example usage:\n",
    "sample_list = [8, 2, 3, -1, 7]\n",
    "print(multiply_list(sample_list))  # Output: -336\n"
   ]
  },
  {
   "cell_type": "code",
   "execution_count": 26,
   "id": "ecf132a5",
   "metadata": {},
   "outputs": [
    {
     "name": "stdout",
     "output_type": "stream",
     "text": [
      "dcba4321\n"
     ]
    }
   ],
   "source": [
    "# 4. Write a Python function to reverse a string.\n",
    "# Sample String: \"1234abcd\"\n",
    "# Expected Output: \"dcba4321\"\n",
    "def reverse_string(string):\n",
    "    return string[::-1]\n",
    "\n",
    "# Example usage:\n",
    "sample_string = \"1234abcd\"\n",
    "print(reverse_string(sample_string))  # Output: \"dcba4321\"\n"
   ]
  },
  {
   "cell_type": "code",
   "execution_count": 27,
   "id": "f269d265",
   "metadata": {},
   "outputs": [
    {
     "name": "stdout",
     "output_type": "stream",
     "text": [
      "True\n"
     ]
    }
   ],
   "source": [
    "# 5. Write a Python function to check whether a number falls in a given range.\n",
    "def check_in_range(num, start, end):\n",
    "    return start <= num <= end\n",
    "\n",
    "# Example usage:\n",
    "print(check_in_range(5, 1, 10))  # Output: True\n"
   ]
  },
  {
   "cell_type": "code",
   "execution_count": 28,
   "id": "8cc74755",
   "metadata": {},
   "outputs": [
    {
     "name": "stdout",
     "output_type": "stream",
     "text": [
      "No. of Upper case characters: 3\n",
      "No. of Lower case Characters: 12\n"
     ]
    }
   ],
   "source": [
    "# 6. Write a Python function that accepts a string and calculate the number of upper case letters\n",
    "# and lower case letters.\n",
    "# Sample String: 'The quick Brow Fox'\n",
    "# Expected Output:\n",
    "# No. of Upper case characters: 3\n",
    "# No. of Lower case Characters: 12\n",
    "def count_upper_lower(string):\n",
    "    upper_count = sum(1 for char in string if char.isupper())\n",
    "    lower_count = sum(1 for char in string if char.islower())\n",
    "    return upper_count, lower_count\n",
    "\n",
    "# Example usage:\n",
    "sample_string = 'The quick Brow Fox'\n",
    "upper, lower = count_upper_lower(sample_string)\n",
    "print(\"No. of Upper case characters:\", upper)\n",
    "print(\"No. of Lower case Characters:\", lower)\n"
   ]
  },
  {
   "cell_type": "code",
   "execution_count": 29,
   "id": "b6cf73b4",
   "metadata": {},
   "outputs": [
    {
     "name": "stdout",
     "output_type": "stream",
     "text": [
      "Unique List: [1, 2, 3, 4, 5]\n"
     ]
    }
   ],
   "source": [
    "# 7. Write a Python function that takes a list and returns a new list with unique elements of the\n",
    "# first list.\n",
    "# Sample List: [1,2,3,3,3,3,4,5]\n",
    "# Unique List: [1, 2, 3, 4, 5]\n",
    "def unique_elements(input_list):\n",
    "    return list(set(input_list))\n",
    "\n",
    "# Example usage:\n",
    "sample_list = [1, 2, 3, 3, 3, 3, 4, 5]\n",
    "print(\"Unique List:\", unique_elements(sample_list))\n"
   ]
  },
  {
   "cell_type": "code",
   "execution_count": 30,
   "id": "8d36fb94",
   "metadata": {},
   "outputs": [
    {
     "name": "stdout",
     "output_type": "stream",
     "text": [
      "True\n"
     ]
    }
   ],
   "source": [
    "# 8. Write a Python function that checks whether a passed string is palindrome or not.\n",
    "def is_palindrome(string):\n",
    "    return string == string[::-1]\n",
    "\n",
    "# Example usage:\n",
    "sample_string = \"radar\"\n",
    "print(is_palindrome(sample_string))  # Output: True"
   ]
  },
  {
   "cell_type": "code",
   "execution_count": 31,
   "id": "ff47232c",
   "metadata": {},
   "outputs": [
    {
     "name": "stdout",
     "output_type": "stream",
     "text": [
      "[1]\n",
      "[1, 1]\n",
      "[1, 2, 1]\n",
      "[1, 3, 3, 1]\n",
      "[1, 4, 6, 4, 1]\n"
     ]
    }
   ],
   "source": [
    "# 9. Write a Python function that prints out the first n rows of Pascal’s triangle.\n",
    "# Note: Pascal’s triangle is an arithmetic and geometric figure first imagined by Blaise Pascal.\n",
    "\n",
    "def generate_pascals_triangle(n):\n",
    "    triangle = [[1]]\n",
    "    for _ in range(1, n):\n",
    "        row = [1]\n",
    "        for j in range(1, len(triangle[-1])):\n",
    "            row.append(triangle[-1][j - 1] + triangle[-1][j])\n",
    "        row.append(1)\n",
    "        triangle.append(row)\n",
    "    return triangle\n",
    "\n",
    "# Example usage:\n",
    "n = 5\n",
    "pascals_triangle = generate_pascals_triangle(n)\n",
    "for row in pascals_triangle:\n",
    "    print(row)\n"
   ]
  },
  {
   "cell_type": "code",
   "execution_count": 32,
   "id": "18162ea4",
   "metadata": {},
   "outputs": [
    {
     "name": "stdout",
     "output_type": "stream",
     "text": [
      "<b><i><u>Hello, World</u></i></b>\n"
     ]
    }
   ],
   "source": [
    "# 10. Write a Python program to make a chain of function decorators (bold, italic, underline etc.) in\n",
    "# Python.\n",
    "def bold_decorator(func):\n",
    "    def wrapper(*args, **kwargs):\n",
    "        return \"<b>\" + func(*args, **kwargs) + \"</b>\"\n",
    "    return wrapper\n",
    "\n",
    "def italic_decorator(func):\n",
    "    def wrapper(*args, **kwargs):\n",
    "        return \"<i>\" + func(*args, **kwargs) + \"</i>\"\n",
    "    return wrapper\n",
    "\n",
    "def underline_decorator(func):\n",
    "    def wrapper(*args, **kwargs):\n",
    "        return \"<u>\" + func(*args, **kwargs) + \"</u>\"\n",
    "    return wrapper\n",
    "\n",
    "@bold_decorator\n",
    "@italic_decorator\n",
    "@underline_decorator\n",
    "def greet(name):\n",
    "    return \"Hello, \" + name\n",
    "\n",
    "print(greet(\"World\"))\n"
   ]
  },
  {
   "cell_type": "code",
   "execution_count": 33,
   "id": "378343db",
   "metadata": {},
   "outputs": [
    {
     "name": "stdout",
     "output_type": "stream",
     "text": [
      "Even numbers from the said list: [2, 4, 6, 8, 10]\n",
      "Odd numbers from the said list: [1, 3, 5, 7, 9]\n"
     ]
    }
   ],
   "source": [
    "# 11. Write a Python program to filter a list of integers using Lambda.\n",
    "# Original list of integers:\n",
    "# [1, 2, 3, 4, 5, 6, 7, 8, 9, 10]\n",
    "# Even numbers from the said list:\n",
    "# [2, 4, 6, 8, 10]\n",
    "# Odd numbers from the said list:\n",
    "# [1, 3, 5, 7, 9]\n",
    "numbers = [1, 2, 3, 4, 5, 6, 7, 8, 9, 10]\n",
    "even_numbers = list(filter(lambda x: x % 2 == 0, numbers))\n",
    "odd_numbers = list(filter(lambda x: x % 2 != 0, numbers))\n",
    "\n",
    "print(\"Even numbers from the said list:\", even_numbers)\n",
    "print(\"Odd numbers from the said list:\", odd_numbers)\n"
   ]
  },
  {
   "cell_type": "code",
   "execution_count": 34,
   "id": "5c35d753",
   "metadata": {},
   "outputs": [
    {
     "name": "stdout",
     "output_type": "stream",
     "text": [
      "Square every number of the said list: [1, 4, 9, 16, 25, 36, 49, 64, 81, 100]\n",
      "Cube every number of the said list: [1, 8, 27, 64, 125, 216, 343, 512, 729, 1000]\n"
     ]
    }
   ],
   "source": [
    "# 12. Write a Python program to square and cube every number in a given list of integers using\n",
    "# Lambda.\n",
    "# Original list of integers:\n",
    "# [1, 2, 3, 4, 5, 6, 7, 8, 9, 10]\n",
    "# Square every number of the said list:\n",
    "# [1, 4, 9, 16, 25, 36, 49, 64, 81, 100]\n",
    "# Cube every number of the said list:\n",
    "# [1, 8, 27, 64, 125, 216, 343, 512, 729, 1000]\n",
    "numbers = [1, 2, 3, 4, 5, 6, 7, 8, 9, 10]\n",
    "square_result = list(map(lambda x: x ** 2, numbers))\n",
    "cube_result = list(map(lambda x: x ** 3, numbers))\n",
    "\n",
    "print(\"Square every number of the said list:\", square_result)\n",
    "print(\"Cube every number of the said list:\", cube_result)\n"
   ]
  },
  {
   "cell_type": "code",
   "execution_count": 35,
   "id": "00b941a1",
   "metadata": {},
   "outputs": [
    {
     "name": "stdout",
     "output_type": "stream",
     "text": [
      "2024-04-03 17:23:52.393875\n",
      "2024\n",
      "4\n",
      "3\n",
      "17:23:52.393875\n"
     ]
    }
   ],
   "source": [
    "# 13. Write a Python program to extract year, month, date and time using Lambda .\n",
    "# Sample Output:\n",
    "# 2020-01-15 09:03:32.744178\n",
    "# 2020\n",
    "# 1\n",
    "# 15\n",
    "# 09:03:32.744178\n",
    "import datetime\n",
    "\n",
    "dt = datetime.datetime.now()\n",
    "\n",
    "year = lambda x: x.year\n",
    "month = lambda x: x.month\n",
    "day = lambda x: x.day\n",
    "time = lambda x: x.time()\n",
    "\n",
    "print(dt)\n",
    "print(year(dt))\n",
    "print(month(dt))\n",
    "print(day(dt))\n",
    "print(time(dt))\n"
   ]
  },
  {
   "cell_type": "code",
   "execution_count": 36,
   "id": "040f0fe0",
   "metadata": {},
   "outputs": [
    {
     "name": "stdout",
     "output_type": "stream",
     "text": [
      "Rearrange positive and negative numbers of the said array: [-10, -3, -1, 2, 5, 7, 8, 9]\n"
     ]
    }
   ],
   "source": [
    "# 14. Write a Python program to rearrange positive and negative numbers in a given array using\n",
    "# Lambda.\n",
    "# Original arrays:\n",
    "# [-1, 2, -3, 5, 7, 8, 9, -10]\n",
    "# Rearrange positive and negative numbers of the said array:\n",
    "# [2, 5, 7, 8, 9, -10, -3, -1]\n",
    "original_array = [-1, 2, -3, 5, 7, 8, 9, -10]\n",
    "rearranged_array = sorted(original_array, key=lambda x: (x >= 0, x))\n",
    "print(\"Rearrange positive and negative numbers of the said array:\", rearranged_array)\n"
   ]
  },
  {
   "cell_type": "code",
   "execution_count": 37,
   "id": "52205d00",
   "metadata": {},
   "outputs": [
    {
     "name": "stdout",
     "output_type": "stream",
     "text": [
      "Result after adding two lists: [5, 7, 9]\n"
     ]
    }
   ],
   "source": [
    "# 15. Write a Python program to add two given lists using map and lambda.\n",
    "# Original list:\n",
    "# [1, 2, 3]\n",
    "# [4, 5, 6]\n",
    "# Result: after adding two list\n",
    "# [5, 7, 9]\n",
    "list1 = [1, 2, 3]\n",
    "list2 = [4, 5, 6]\n",
    "\n",
    "result = list(map(lambda x, y: x + y, list1, list2))\n",
    "print(\"Result after adding two lists:\", result)\n"
   ]
  },
  {
   "cell_type": "code",
   "execution_count": 38,
   "id": "9300e58f",
   "metadata": {},
   "outputs": [
    {
     "name": "stdout",
     "output_type": "stream",
     "text": [
      "['B', 'c', 'G', 'd', 'b', 'a', 'g', 'A', 'E', 'C', 'D', 'f', 'e', 'F']\n"
     ]
    }
   ],
   "source": [
    "# 16. Write a Python program to convert all the characters in uppercase and lowercase and\n",
    "# eliminate duplicate letters from a given sequence. Use map() function.\n",
    "sequence = \"abBCDefG\"\n",
    "result = list(set(map(lambda x: x.lower(), sequence)) | set(map(lambda x: x.upper(), sequence)))\n",
    "print(result)\n"
   ]
  },
  {
   "cell_type": "code",
   "execution_count": 39,
   "id": "06464552",
   "metadata": {},
   "outputs": [
    {
     "name": "stdout",
     "output_type": "stream",
     "text": [
      "['1', '2', '3', '4', '5']\n",
      "['6', '7', '8', '9', '10']\n"
     ]
    }
   ],
   "source": [
    "# 17. Write a Python program to convert a given list of integers and a tuple of integers in a list of\n",
    "# strings. Use map() function.\n",
    "integers_list = [1, 2, 3, 4, 5]\n",
    "integers_tuple = (6, 7, 8, 9, 10)\n",
    "\n",
    "result_list = list(map(str, integers_list))\n",
    "result_tuple = list(map(str, integers_tuple))\n",
    "\n",
    "print(result_list)\n",
    "print(result_tuple)\n"
   ]
  },
  {
   "cell_type": "code",
   "execution_count": 40,
   "id": "2cf3c135",
   "metadata": {},
   "outputs": [
    {
     "name": "stdout",
     "output_type": "stream",
     "text": [
      "Intersection of the said arrays: [1, 2, 8, 9]\n"
     ]
    }
   ],
   "source": [
    "# 18. Write a Python program to find intersection of two given arrays using Lambda.\n",
    "# Original arrays:\n",
    "# [1, 2, 3, 5, 7, 8, 9, 10]\n",
    "# [1, 2, 4, 8, 9]\n",
    "# Intersection of the said arrays: [1, 2, 8, 9]\n",
    "array1 = [1, 2, 3, 5, 7, 8, 9, 10]\n",
    "array2 = [1, 2, 4, 8, 9]\n",
    "\n",
    "intersection = list(filter(lambda x: x in array1, array2))\n",
    "print(\"Intersection of the said arrays:\", intersection)\n"
   ]
  },
  {
   "cell_type": "code",
   "execution_count": 41,
   "id": "3fd771e7",
   "metadata": {},
   "outputs": [
    {
     "name": "stdout",
     "output_type": "stream",
     "text": [
      "Number of even numbers in the above array: 3\n",
      "Number of odd numbers in the above array: 5\n"
     ]
    }
   ],
   "source": [
    "# 19. Write a Python program to count the even, odd numbers in a given array of integers using\n",
    "# Lambda.\n",
    "# Original arrays:\n",
    "# [1, 2, 3, 5, 7, 8, 9, 10]\n",
    "# Number of even numbers in the above array: 3\n",
    "# Number of odd numbers in the above array: 5\n",
    "array = [1, 2, 3, 5, 7, 8, 9, 10]\n",
    "\n",
    "count_even = len(list(filter(lambda x: x % 2 == 0, array)))\n",
    "count_odd = len(list(filter(lambda x: x % 2 != 0, array)))\n",
    "\n",
    "print(\"Number of even numbers in the above array:\", count_even)\n",
    "print(\"Number of odd numbers in the above array:\", count_odd)\n"
   ]
  },
  {
   "cell_type": "code",
   "execution_count": 42,
   "id": "0efdd0ab",
   "metadata": {},
   "outputs": [
    {
     "name": "stdout",
     "output_type": "stream",
     "text": [
      "List of palindromes: ['php', 'aaa']\n"
     ]
    }
   ],
   "source": [
    "# 20. Write a Python program to find palindromes in a given list of strings using Lambda.\n",
    "# Original list of strings:\n",
    "# ['php', 'w3r', 'Python', 'abcd', 'Java', 'aaa']\n",
    "# List of palindromes:\n",
    "# ['php', 'aaa']Asas\n",
    "strings_list = ['php', 'w3r', 'Python', 'abcd', 'Java', 'aaa']\n",
    "\n",
    "palindromes = list(filter(lambda x: x == x[::-1], strings_list))\n",
    "print(\"List of palindromes:\", palindromes)\n"
   ]
  }
 ],
 "metadata": {
  "kernelspec": {
   "display_name": "Python 3 (ipykernel)",
   "language": "python",
   "name": "python3"
  },
  "language_info": {
   "codemirror_mode": {
    "name": "ipython",
    "version": 3
   },
   "file_extension": ".py",
   "mimetype": "text/x-python",
   "name": "python",
   "nbconvert_exporter": "python",
   "pygments_lexer": "ipython3",
   "version": "3.11.5"
  }
 },
 "nbformat": 4,
 "nbformat_minor": 5
}
