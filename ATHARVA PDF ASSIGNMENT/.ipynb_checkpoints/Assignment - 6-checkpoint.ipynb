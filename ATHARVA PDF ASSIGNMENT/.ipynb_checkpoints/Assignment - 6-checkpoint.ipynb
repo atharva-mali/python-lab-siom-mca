{
 "cells": [
  {
   "cell_type": "markdown",
   "id": "37696863",
   "metadata": {},
   "source": [
    "# Python Assignment - 6\n",
    "### Atharva Suryakant Mali | Class: MCA - I - D | Roll No: 23436"
   ]
  },
  {
   "cell_type": "code",
   "execution_count": 5,
   "id": "44073237",
   "metadata": {},
   "outputs": [],
   "source": [
    "# 1. Write a Python program that allows you to create a file on desktop called myFile.txt and\n",
    "# write on it the content s = 'Python is object oriented programming language'. You must at\n",
    "# first retrieve the username via the os.getlogin() method.\n",
    "import os\n",
    "\n",
    "username = os.getlogin()\n",
    "file_path = f\"C:/Users/athar/Desktop/myFile.txt\"\n",
    "\n",
    "s = 'Python is object oriented programming language'\n",
    "\n",
    "with open(file_path, 'w') as file:\n",
    "    file.write(s)\n"
   ]
  },
  {
   "cell_type": "code",
   "execution_count": 6,
   "id": "a766a1c6",
   "metadata": {},
   "outputs": [
    {
     "name": "stdout",
     "output_type": "stream",
     "text": [
      "Python is object oriented programming language\n"
     ]
    }
   ],
   "source": [
    "# 2. Write a Python program to read the existing file on the desktop myFile.txt.\n",
    "import os\n",
    "\n",
    "username = os.getlogin()\n",
    "file_path = f\"C:/Users/athar/Desktop/myFile.txt\"\n",
    "\n",
    "with open(file_path, 'r') as file:\n",
    "    content = file.read()\n",
    "    print(content)\n"
   ]
  },
  {
   "cell_type": "code",
   "execution_count": 7,
   "id": "892242c8",
   "metadata": {},
   "outputs": [],
   "source": [
    "# 3. Using the os.rename() method, create a python program to rename an existing file on the\n",
    "# desktop called myFile.txt to myFile1.txt.\n",
    "import os\n",
    "\n",
    "username = os.getlogin()\n",
    "old_file_path = f\"C:/Users/athar/Desktop/myFile.txt\"\n",
    "new_file_path = f\"C:/Users/athar/Desktop/myFile1.txt\"\n",
    "\n",
    "os.rename(old_file_path, new_file_path)\n"
   ]
  },
  {
   "cell_type": "code",
   "execution_count": 11,
   "id": "22882fdd",
   "metadata": {},
   "outputs": [],
   "source": [
    "# 4. Write a python program that allowing you to create a directory in the desktop called myDir,\n",
    "# also allow you to move myFile.txt (present on desktop) into the directory myDir.\n",
    "import os\n",
    "\n",
    "username = os.getlogin()\n",
    "directory_path = f\"C:/Users/athar/Desktop/myDir\"\n",
    "file_path = f\"C:/Users/athar/Desktop/myFile.txt\"\n",
    "\n",
    "os.makedirs(directory_path, exist_ok=True)\n",
    "os.rename(file_path, os.path.join(directory_path, \"myFile.txt\"))\n"
   ]
  },
  {
   "cell_type": "code",
   "execution_count": 14,
   "id": "b40c3e38",
   "metadata": {},
   "outputs": [],
   "source": [
    "# 5. Write a program in Python which allows you to insert at the 3 rd position of an existing file\n",
    "# called myFile.txt, the line “This line was inserted via Python code!” without changing the\n",
    "# existing content file.\n",
    "file_path = f\"C:/Users/athar/Desktop/myFile.txt\"\n",
    "with open(file_path, 'r+') as file:\n",
    "    lines = file.readlines()\n",
    "    lines.insert(2, \"This line was inserted via Python code!\\n\")\n",
    "    file.seek(0)\n",
    "    file.writelines(lines)\n"
   ]
  },
  {
   "cell_type": "code",
   "execution_count": 15,
   "id": "dcaa2b52",
   "metadata": {},
   "outputs": [],
   "source": [
    "# 6. Write Python program that removes the 3rd word from this file.\n",
    "file_path = f\"C:/Users/athar/Desktop/myFile.txt\"\n",
    "with open(file_path, 'r') as file:\n",
    "    content = file.read().split()\n",
    "    del content[2]\n",
    "\n",
    "with open('myFile.txt', 'w') as file:\n",
    "    file.write(' '.join(content))\n"
   ]
  },
  {
   "cell_type": "code",
   "execution_count": 16,
   "id": "c9c5541c",
   "metadata": {},
   "outputs": [],
   "source": [
    "# 7. Given a file called myfile.txt which contains the text: “Python is object oriented\n",
    "# programming language”. Write a program in Python that transforms the content of the file by\n",
    "# writing each word in a separate line.\n",
    "with open('myfile.txt', 'r') as file:\n",
    "    content = file.read().split()\n",
    "\n",
    "with open('myfile_transformed.txt', 'w') as file:\n",
    "    for word in content:\n",
    "        file.write(word + '\\n')\n"
   ]
  },
  {
   "cell_type": "code",
   "execution_count": 17,
   "id": "28e3e0a3",
   "metadata": {},
   "outputs": [
    {
     "name": "stdout",
     "output_type": "stream",
     "text": [
      "Longest word: languageThis\n"
     ]
    }
   ],
   "source": [
    "# 8. Write a Python program that displays the longest word found in a text file.\n",
    "with open('myfile.txt', 'r') as file:\n",
    "    content = file.read().split()\n",
    "\n",
    "longest_word = max(content, key=len)\n",
    "print(\"Longest word:\", longest_word)\n"
   ]
  },
  {
   "cell_type": "code",
   "execution_count": 18,
   "id": "c1922a25",
   "metadata": {},
   "outputs": [
    {
     "name": "stdout",
     "output_type": "stream",
     "text": [
      "Word frequency: Counter({'Python': 2, 'is': 1, 'oriented': 1, 'programming': 1, 'languageThis': 1, 'line': 1, 'was': 1, 'inserted': 1, 'via': 1, 'code!': 1})\n"
     ]
    }
   ],
   "source": [
    "# 9. Write a function in python that allows you to count the frequency of repetition of each word\n",
    "# found in a given file.\n",
    "from collections import Counter\n",
    "\n",
    "def count_word_frequency(file_path):\n",
    "    with open(file_path, 'r') as file:\n",
    "        content = file.read().split()\n",
    "        word_counts = Counter(content)\n",
    "    return word_counts\n",
    "\n",
    "file_path = 'myfile.txt'\n",
    "word_counts = count_word_frequency(file_path)\n",
    "print(\"Word frequency:\", word_counts)\n"
   ]
  },
  {
   "cell_type": "code",
   "execution_count": 20,
   "id": "13c40bfa",
   "metadata": {},
   "outputs": [],
   "source": [
    "# 10. Write a Python program which allows you to extract the content of a file from the 3rd line to\n",
    "# the 7th line and save it in another file called extract_content.txt.\n",
    "with open('myfile.txt', 'r') as file:\n",
    "    lines = file.readlines()\n",
    "\n",
    "extracted_lines = lines[2:7]\n",
    "\n",
    "with open('extract_content.txt', 'w') as file:\n",
    "    file.writelines(extracted_lines)\n"
   ]
  }
 ],
 "metadata": {
  "kernelspec": {
   "display_name": "Python 3 (ipykernel)",
   "language": "python",
   "name": "python3"
  },
  "language_info": {
   "codemirror_mode": {
    "name": "ipython",
    "version": 3
   },
   "file_extension": ".py",
   "mimetype": "text/x-python",
   "name": "python",
   "nbconvert_exporter": "python",
   "pygments_lexer": "ipython3",
   "version": "3.11.5"
  }
 },
 "nbformat": 4,
 "nbformat_minor": 5
}
