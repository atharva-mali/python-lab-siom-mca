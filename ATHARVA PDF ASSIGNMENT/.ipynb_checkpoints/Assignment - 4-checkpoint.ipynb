{
 "cells": [
  {
   "cell_type": "markdown",
   "id": "28c7d266",
   "metadata": {},
   "source": [
    "# Python Assignment - 4\n",
    "### Atharva Suryakant Mali | Class: MCA - I - D | Roll No: 23436"
   ]
  },
  {
   "cell_type": "code",
   "execution_count": 1,
   "id": "ce2f1f49",
   "metadata": {},
   "outputs": [
    {
     "name": "stdout",
     "output_type": "stream",
     "text": [
      "String is allowed.\n"
     ]
    }
   ],
   "source": [
    "# 1. Write a Python program to check that a string contains only a certain set of characters (in this\n",
    "# case a-z, A-Z and 0-9).\n",
    "\n",
    "import re\n",
    "\n",
    "def allowed_string(s):\n",
    "    charRe = re.compile(r'[^a-zA-Z0-9.]')\n",
    "    string = charRe.search(s)\n",
    "    return not bool(string)\n",
    "\n",
    "# Test the function\n",
    "test_str = \"ABCdef123\"\n",
    "if allowed_string(test_str):\n",
    "    print(\"String is allowed.\")\n",
    "else:\n",
    "    print(\"String contains invalid characters.\")\n"
   ]
  },
  {
   "cell_type": "code",
   "execution_count": 2,
   "id": "4687a5aa",
   "metadata": {},
   "outputs": [
    {
     "name": "stdout",
     "output_type": "stream",
     "text": [
      "Found a match!\n",
      "Found a match!\n",
      "No match.\n"
     ]
    }
   ],
   "source": [
    "# 2. Write a Python program that matches a string that has an ‘a’ followed by zero or more b’s.\n",
    "\n",
    "import re\n",
    "\n",
    "def match_ab(string):\n",
    "    # This pattern will match an 'a' followed by zero or more 'b's\n",
    "    pattern = r'ab*'\n",
    "    if re.match(pattern, string):\n",
    "        return \"Found a match!\"\n",
    "    else:\n",
    "        return \"No match.\"\n",
    "\n",
    "test_string1 = \"abc\"\n",
    "test_string2 = \"acb\"\n",
    "test_string3 = \"bbc\"\n",
    "\n",
    "print(match_ab(test_string1))  # Output: Found a match!\n",
    "print(match_ab(test_string2))  # Output: No match.\n",
    "print(match_ab(test_string3))  # Output: No match.\n"
   ]
  },
  {
   "cell_type": "code",
   "execution_count": 3,
   "id": "b8d15099",
   "metadata": {},
   "outputs": [
    {
     "name": "stdout",
     "output_type": "stream",
     "text": [
      "Found a match!\n",
      "No match.\n",
      "Found a match!\n",
      "No match.\n",
      "No match.\n"
     ]
    }
   ],
   "source": [
    "# 3. Write a Python program that matches a string that has an ‘a’ followed by one or more b’s.\n",
    "\n",
    "import re\n",
    "\n",
    "def match_ab(string):\n",
    "    # This pattern will match an 'a' followed by one or more 'b's\n",
    "    pattern = r'ab+'\n",
    "    \n",
    "    # If the pattern is found at the beginning of the string, it will return True\n",
    "    if re.match(pattern, string):\n",
    "        return \"Found a match!\"\n",
    "    else:\n",
    "        return \"No match.\"\n",
    "\n",
    "test_string1 = \"ab\"\n",
    "test_string2 = \"aabbb\"\n",
    "test_string3 = \"abc\"\n",
    "test_string4 = \"acb\"\n",
    "test_string5 = \"bbc\"\n",
    "print(match_ab(test_string1))  # Output: Found a match!\n",
    "print(match_ab(test_string2))  # Output: No match.\n",
    "print(match_ab(test_string3))  # Output: Found a match!\n",
    "print(match_ab(test_string4))  # Output: No match.\n",
    "print(match_ab(test_string5))  # Output: No match.\n"
   ]
  },
  {
   "cell_type": "code",
   "execution_count": 4,
   "id": "f4bb894d",
   "metadata": {},
   "outputs": [
    {
     "name": "stdout",
     "output_type": "stream",
     "text": [
      "['sample_string', 'lowercase_letters', 'an_underscore']\n"
     ]
    }
   ],
   "source": [
    "# 4. Write a Python program to find sequences of lowercase letters joined with a underscore.\n",
    "\n",
    "import re\n",
    "\n",
    "def find_sequences(string):\n",
    "    pattern = r'[a-z]+_[a-z]+'\n",
    "    \n",
    "    # Find all matches of the pattern in the string\n",
    "    matches = re.findall(pattern, string)\n",
    "    return matches\n",
    "test_string = \"Here is a sample_string with lowercase_letters joined by an_underscore.\"\n",
    "\n",
    "# Find and print all sequences of lowercase letters joined with an underscore\n",
    "print(find_sequences(test_string))\n"
   ]
  },
  {
   "cell_type": "code",
   "execution_count": 5,
   "id": "2cfcf318",
   "metadata": {},
   "outputs": [
    {
     "name": "stdout",
     "output_type": "stream",
     "text": [
      "Matches found: ['This', 'Example', 'Upper', 'Lower']\n"
     ]
    }
   ],
   "source": [
    "# 5. Write a Python program to find the sequences of one upper case letter followed by lower case\n",
    "# letters.\n",
    "\n",
    "import re\n",
    "\n",
    "def find_upper_lower_sequences(text):\n",
    "    pattern = r'\\b[A-Z][a-z]+\\b'\n",
    "    \n",
    "    # Find all matches using the pattern\n",
    "    matches = re.findall(pattern, text)\n",
    "    \n",
    "    return matches\n",
    "\n",
    "# Example usage:\n",
    "sample_text = \"This is an Example of a sequence with Upper case letter followed by Lower case letters.\"\n",
    "matches = find_upper_lower_sequences(sample_text)\n",
    "\n",
    "# Display the matches\n",
    "print(\"Matches found:\", matches)\n"
   ]
  },
  {
   "cell_type": "code",
   "execution_count": 6,
   "id": "393972ca",
   "metadata": {},
   "outputs": [
    {
     "name": "stdout",
     "output_type": "stream",
     "text": [
      "Matches found: ['This', 'Example', 'Upper', 'Lower']\n"
     ]
    }
   ],
   "source": [
    "# 6. Write a Python program that matches a word containing ‘z’.\n",
    "\n",
    "import re\n",
    "\n",
    "def find_upper_lower_sequences(text):\n",
    "    # Regular expression pattern for sequences of one upper case letter followed by lower case letters\n",
    "    pattern = r'\\b[A-Z][a-z]+\\b'\n",
    "    \n",
    "    # Find all matches using the pattern\n",
    "    matches = re.findall(pattern, text)\n",
    "    \n",
    "    return matches\n",
    "\n",
    "# Example usage:\n",
    "sample_text = \"This is an Example of a sequence with Upper case letter followed by Lower case letters.\"\n",
    "matches = find_upper_lower_sequences(sample_text)\n",
    "\n",
    "# Display the matches\n",
    "print(\"Matches found:\", matches)\n"
   ]
  },
  {
   "cell_type": "code",
   "execution_count": 7,
   "id": "e78c9187",
   "metadata": {},
   "outputs": [
    {
     "name": "stdout",
     "output_type": "stream",
     "text": [
      "Matches found: ['z', 'z']\n"
     ]
    }
   ],
   "source": [
    "# 7. Write a Python program that matches a word containing ‘z’, not at the start or end of the\n",
    "# word.\n",
    "\n",
    "import re\n",
    "\n",
    "def match_word_with_z(text):\n",
    "    pattern = r'\\Bz\\B'\n",
    "    \n",
    "    # Find all matches using the pattern\n",
    "    matches = re.findall(pattern, text)\n",
    "    \n",
    "    return matches\n",
    "\n",
    "# Example usage:\n",
    "sample_text = \"The lazy dog jumps over the sizeable brown fox.\"\n",
    "matches = match_word_with_z(sample_text)\n",
    "\n",
    "# Display the matches\n",
    "print(\"Matches found:\", matches)\n"
   ]
  },
  {
   "cell_type": "code",
   "execution_count": 8,
   "id": "ed8ebf59",
   "metadata": {},
   "outputs": [
    {
     "name": "stdout",
     "output_type": "stream",
     "text": [
      "The string is a match.\n",
      "The string is not a match.\n"
     ]
    }
   ],
   "source": [
    "# 8. Write a Python program to match a string that contains only upper and lowercase letters,\n",
    "# numbers, and underscores.\n",
    "\n",
    "import re\n",
    "\n",
    "def match_string(text):\n",
    "    pattern = r'^[a-zA-Z0-9_]+$'\n",
    "    \n",
    "    # Check if the string matches the pattern\n",
    "    if re.match(pattern, text):\n",
    "        return \"The string is a match.\"\n",
    "    else:\n",
    "        return \"The string is not a match.\"\n",
    "\n",
    "# Example usage:\n",
    "sample_text = \"This_is_a_valid_String123\"\n",
    "print(match_string(sample_text))  # Output: The string is a match.\n",
    "\n",
    "sample_text2 = \"This is not! A valid string.\"\n",
    "print(match_string(sample_text2))  # Output: The string is not a match.\n"
   ]
  },
  {
   "cell_type": "code",
   "execution_count": 9,
   "id": "00989ad6",
   "metadata": {},
   "outputs": [
    {
     "name": "stdout",
     "output_type": "stream",
     "text": [
      "The password is valid.\n",
      "The password is invalid.\n"
     ]
    }
   ],
   "source": [
    "# 9. Write a python program to validate the password by using regular expression.\n",
    "# a. Complexity requirement is we need at least one capital letter, one number and one\n",
    "# special character.\n",
    "# b. We also need the length of the password to be between 8 and 18.\n",
    "\n",
    "    \n",
    "import re\n",
    "\n",
    "def validate_password(password):\n",
    "    # Regular expression pattern for the password complexity requirement\n",
    "    pattern = r'^(?=.*[A-Z])(?=.*\\d)(?=.*[@$!%*?&])[A-Za-z\\d@$!%*?&]{8,18}$'\n",
    "    \n",
    "    # Check if the password matches the pattern\n",
    "    if re.match(pattern, password):\n",
    "        return \"The password is valid.\"\n",
    "    else:\n",
    "        return \"The password is invalid.\"\n",
    "\n",
    "# Example usage:\n",
    "sample_password = \"Password123!\"\n",
    "print(validate_password(sample_password))  # Output: The password is valid.\n",
    "\n",
    "sample_password2 = \"pass\"\n",
    "print(validate_password(sample_password2))  # Output: The password is invalid.\n",
    "\n"
   ]
  },
  {
   "cell_type": "code",
   "execution_count": 10,
   "id": "5a74db90",
   "metadata": {},
   "outputs": [
    {
     "name": "stdout",
     "output_type": "stream",
     "text": [
      "The URL is invalid.\n",
      "The URL is invalid.\n",
      "The URL is invalid.\n"
     ]
    }
   ],
   "source": [
    "# 10. Write a python program to validate the URL by using regular expression.\n",
    "\n",
    "import re\n",
    "\n",
    "def validate_url(url):\n",
    "    # Regular expression pattern for validating a URL\n",
    "    pattern = re.compile(\n",
    "        r'^(?:http|ftp)s?://'  # http:// or https:// or ftp:// or ftps://\n",
    "        r'(?:(?:A-Z0-9?\\.)+(?:[A-Z]{2,6}\\.?|[A-Z0-9-]{2,}\\.?)|'  # domain\n",
    "        r'localhost|'  # localhost\n",
    "        r'\\d{1,3}\\.\\d{1,3}\\.\\d{1,3}\\.\\d{1,3}|'  # ...or ipv4\n",
    "        r'\\[?[A-F0-9]*:[A-F0-9:]+\\]?)'  # ...or ipv6\n",
    "        r'(?::\\d+)?'  # optional port\n",
    "        r'(?:/?|[/?]\\S+)$', re.IGNORECASE)\n",
    "\n",
    "    # Check if the URL matches the pattern\n",
    "    if re.match(pattern, url):\n",
    "        return \"The URL is valid.\"\n",
    "    else:\n",
    "        return \"The URL is invalid.\"\n",
    "\n",
    "# Example usage:\n",
    "sample_url = \"https://www.example.com\"\n",
    "print(validate_url(sample_url))  # Output: The URL is valid.\n",
    "\n",
    "sample_url2 = \"ftp://example.com/file.txt\"\n",
    "print(validate_url(sample_url2))  # Output: The URL is valid.\n",
    "\n",
    "sample_url3 = \"not-a-valid-url\"\n",
    "print(validate_url(sample_url3))  # Output: The URL is invalid.\n"
   ]
  },
  {
   "cell_type": "code",
   "execution_count": 11,
   "id": "5747642f",
   "metadata": {},
   "outputs": [
    {
     "name": "stdout",
     "output_type": "stream",
     "text": [
      "Valid email address\n"
     ]
    }
   ],
   "source": [
    "# 11. Write a python program to validate an email address by using regular expression.\n",
    "\n",
    "import re\n",
    "\n",
    "def validate_email(email):\n",
    "    pattern = r'^[a-zA-Z0-9._%+-]+@[a-zA-Z0-9.-]+\\.[a-zA-Z]{2,}$'\n",
    "    return re.match(pattern, email) is not None\n",
    "\n",
    "# Example usage:\n",
    "email = \"atharva@example.com\"\n",
    "if validate_email(email):\n",
    "    print(\"Valid email address\")\n",
    "else:\n",
    "    print(\"Invalid email address\")\n"
   ]
  },
  {
   "cell_type": "code",
   "execution_count": 9,
   "id": "38ee8c51",
   "metadata": {},
   "outputs": [
    {
     "name": "stdout",
     "output_type": "stream",
     "text": [
      "Numbers found: ['1', '12', '13', '345']\n"
     ]
    }
   ],
   "source": [
    "# 12. Write a Python program to search the numbers (0-9) of length between 1 to 3 in a given\n",
    "# string. Example input String is: “Exercises number 1, 12, 13, and 345 are important”\n",
    "import re\n",
    "\n",
    "def search_numbers(text):\n",
    "    # Regular expression pattern for numbers of length between 1 to 3\n",
    "    pattern = r'\\b\\d{1,3}\\b'\n",
    "    \n",
    "    # Find all matches using the pattern\n",
    "    matches = re.findall(pattern, text)\n",
    "    \n",
    "    return matches\n",
    "\n",
    "# Example usage:\n",
    "input_string = \"Exercises number 1, 12, 13, and 345 are important\"\n",
    "numbers_found = search_numbers(input_string)\n",
    "\n",
    "# Display the matches\n",
    "print(\"Numbers found:\", numbers_found)\n"
   ]
  },
  {
   "cell_type": "code",
   "execution_count": 12,
   "id": "7e4dfac3",
   "metadata": {},
   "outputs": [
    {
     "name": "stdout",
     "output_type": "stream",
     "text": [
      "The substring 'test' occurred at the following positions: [(10, 14), (28, 32), (40, 44)]\n"
     ]
    }
   ],
   "source": [
    "# 13. Write a Python program to find the occurrence and position of the substrings within a string.\n",
    "\n",
    "import re\n",
    "\n",
    "def find_substring_occurrences(text, substring):\n",
    "    # Regular expression pattern for finding the substring\n",
    "    pattern = re.escape(substring)\n",
    "    \n",
    "    # Find all matches using the pattern\n",
    "    matches = [(match.start(), match.end()) for match in re.finditer(pattern, text)]\n",
    "    \n",
    "    return matches\n",
    "\n",
    "# Example usage:\n",
    "input_string = \"This is a test string. This test is for testing substring occurrences.\"\n",
    "substring_to_find = \"test\"\n",
    "\n",
    "# Find and display the occurrences and positions of the substring\n",
    "occurrences = find_substring_occurrences(input_string, substring_to_find)\n",
    "print(f\"The substring '{substring_to_find}' occurred at the following positions: {occurrences}\")\n"
   ]
  },
  {
   "cell_type": "code",
   "execution_count": 13,
   "id": "7f494900",
   "metadata": {},
   "outputs": [
    {
     "name": "stdout",
     "output_type": "stream",
     "text": [
      "Original text: This is a sample text with whitespaces\n",
      "After replacing whitespaces with underscore: This_is_a_sample_text_with_whitespaces\n",
      "After replacing underscore with whitespaces: This is a sample text with whitespaces\n"
     ]
    }
   ],
   "source": [
    "# 14. Write a Python program to replace whitespaces with an underscore and vice versa.\n",
    "\n",
    "def replace_whitespace(text, replace_with='_'):\n",
    "    return text.replace(' ', replace_with)\n",
    "\n",
    "def replace_underscore(text, replace_with=' '):\n",
    "    return text.replace('_', replace_with)\n",
    "\n",
    "# Example usage\n",
    "text = \"This is a sample text with whitespaces\"\n",
    "print(\"Original text:\", text)\n",
    "print(\"After replacing whitespaces with underscore:\", replace_whitespace(text))\n",
    "print(\"After replacing underscore with whitespaces:\", replace_underscore(replace_whitespace(text)))\n"
   ]
  },
  {
   "cell_type": "code",
   "execution_count": 14,
   "id": "3b3928a6",
   "metadata": {},
   "outputs": [
    {
     "name": "stdout",
     "output_type": "stream",
     "text": [
      "Words of length [3, 4, 5] in the text: []\n"
     ]
    }
   ],
   "source": [
    "# 15. Write a Python program to find all three, four, five characters long words in a string.\n",
    "\n",
    "import re\n",
    "\n",
    "# Define a function to find all words of length 3, 4, and 5\n",
    "def find_words_of_length(text, lengths):\n",
    "    # Create a regular expression pattern to match words of specified lengths\n",
    "    pattern = r'\\\\b\\\\w{' + '|'.join(map(str, lengths)) + r'}\\\\b'\n",
    "    # Find all matches in the text\n",
    "    return re.findall(pattern, text)\n",
    "\n",
    "# Example usage\n",
    "text = \"Here are some words of varying lengths: cat, dog, apple, tree, house, sun, moon, star\"\n",
    "lengths = [3, 4, 5]\n",
    "words_found = find_words_of_length(text, lengths)\n",
    "\n",
    "# Print the results\n",
    "print(f\"Words of length {lengths} in the text: {words_found}\")\n"
   ]
  },
  {
   "cell_type": "code",
   "execution_count": 2,
   "id": "2c22c024",
   "metadata": {},
   "outputs": [
    {
     "name": "stdout",
     "output_type": "stream",
     "text": [
      "Words of length [3, 4, 5] in the text: []\n"
     ]
    }
   ],
   "source": [
    "# 16. Write a python program to convert camel case string to snake case string.\n",
    "\n",
    "import re\n",
    "def find_words_of_length(text, lengths):\n",
    "    # Create a regular expression pattern to match words of specified lengths\n",
    "    pattern = r'\\\\b\\\\w{' + '|'.join(map(str, lengths)) + r'}\\\\b'\n",
    "    # Find all matches in the text\n",
    "    return re.findall(pattern, text)\n",
    "\n",
    "# Example usage\n",
    "text = \"Here are some words of varying lengths: cat, dog, apple, tree, house, sun, moon, star\"\n",
    "lengths = [3, 4, 5]\n",
    "words_found = find_words_of_length(text, lengths)\n",
    "\n",
    "# Print the results\n",
    "print(f\"Words of length {lengths} in the text: {words_found}\")\n"
   ]
  },
  {
   "cell_type": "code",
   "execution_count": 5,
   "id": "6774e1b0",
   "metadata": {},
   "outputs": [
    {
     "name": "stdout",
     "output_type": "stream",
     "text": [
      "HelloThisisateststring123\n"
     ]
    }
   ],
   "source": [
    "# 17. Write a Python program to remove everything except alphanumeric characters from a string.\n",
    "import re\n",
    "\n",
    "def remove_non_alphanumeric(string):\n",
    "    return re.sub(r'[^a-zA-Z0-9]', '', string)\n",
    "\n",
    "# Example usage:\n",
    "input_string = \"Hello! This is a test string 123.\"\n",
    "print(remove_non_alphanumeric(input_string))  # Output: HelloThisisateststring123\n"
   ]
  },
  {
   "cell_type": "code",
   "execution_count": 6,
   "id": "ed63d735",
   "metadata": {},
   "outputs": [
    {
     "name": "stdout",
     "output_type": "stream",
     "text": [
      "['Split', 'This', 'String', 'At', 'Uppercase', 'Letters']\n"
     ]
    }
   ],
   "source": [
    "# 18. Write a Python program to split a string at uppercase letters.\n",
    "import re\n",
    "\n",
    "def split_at_uppercase(string):\n",
    "    return re.findall('[A-Z][^A-Z]*', string)\n",
    "\n",
    "# Example usage:\n",
    "input_string = \"SplitThisStringAtUppercaseLetters\"\n",
    "print(split_at_uppercase(input_string))  # Output: ['Split', 'This', 'String', 'At', 'Uppercase', 'Letters']\n"
   ]
  },
  {
   "cell_type": "code",
   "execution_count": 7,
   "id": "3b872150",
   "metadata": {},
   "outputs": [
    {
     "name": "stdout",
     "output_type": "stream",
     "text": [
      "Insert Spaces Between Words Starting With Capital Letters\n"
     ]
    }
   ],
   "source": [
    "# 19. Write a Python program to insert spaces between words starting with capital letters.\n",
    "import re\n",
    "\n",
    "def insert_spaces(string):\n",
    "    return re.sub(r'(?<!^)(?=[A-Z])', ' ', string)\n",
    "\n",
    "# Example usage:\n",
    "input_string = \"InsertSpacesBetweenWordsStartingWithCapitalLetters\"\n",
    "print(insert_spaces(input_string))  # Output: Insert Spaces Between Words Starting With Capital Letters\n"
   ]
  },
  {
   "cell_type": "code",
   "execution_count": 8,
   "id": "80ecc97c",
   "metadata": {},
   "outputs": [
    {
     "name": "stdout",
     "output_type": "stream",
     "text": [
      "Remove Lowercase Substrings From This String  Keep The Rest.\n"
     ]
    }
   ],
   "source": [
    "# 20. Write a Python program to remove lowercase substrings from a given string.\n",
    "import re\n",
    "\n",
    "def remove_lowercase_substrings(string):\n",
    "    return re.sub(r'\\b[a-z]+\\b', '', string)\n",
    "\n",
    "# Example usage:\n",
    "input_string = \"Remove Lowercase Substrings From This String and Keep The Rest.\"\n",
    "print(remove_lowercase_substrings(input_string))  # Output:  Lowercase  From   and Keep The Rest."
   ]
  }
 ],
 "metadata": {
  "kernelspec": {
   "display_name": "Python 3 (ipykernel)",
   "language": "python",
   "name": "python3"
  },
  "language_info": {
   "codemirror_mode": {
    "name": "ipython",
    "version": 3
   },
   "file_extension": ".py",
   "mimetype": "text/x-python",
   "name": "python",
   "nbconvert_exporter": "python",
   "pygments_lexer": "ipython3",
   "version": "3.11.5"
  }
 },
 "nbformat": 4,
 "nbformat_minor": 5
}
