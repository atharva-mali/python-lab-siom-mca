{
 "cells": [
  {
   "cell_type": "markdown",
   "id": "7a338129",
   "metadata": {},
   "source": [
    "# Python Assignment - 3\n",
    "### Atharva Suryakant Mali | Class: MCA - I - D | Roll No: 23436"
   ]
  },
  {
   "cell_type": "code",
   "execution_count": null,
   "id": "70d9eaa7",
   "metadata": {},
   "outputs": [],
   "source": [
    "# 1. Write a Python program to create a class and display the namespace of the said class."
   ]
  },
  {
   "cell_type": "code",
   "execution_count": 3,
   "id": "fc5ab69a",
   "metadata": {},
   "outputs": [
    {
     "name": "stdout",
     "output_type": "stream",
     "text": [
      "The namespace of my_instance of MyClass:\n",
      "{'attribute': 'This is an attribute value'}\n"
     ]
    }
   ],
   "source": [
    "class MyClass:\n",
    "    def __init__(self):\n",
    "        self.attribute = \"This is an attribute value\"\n",
    "\n",
    "my_instance = MyClass()\n",
    "\n",
    "# Display the namespace of the instance\n",
    "print(\"The namespace of my_instance of MyClass:\")\n",
    "print(vars(my_instance))"
   ]
  },
  {
   "cell_type": "code",
   "execution_count": null,
   "id": "df4b4537",
   "metadata": {},
   "outputs": [],
   "source": [
    "# 2. Write a Python program to create an instance of a specified class and display the\n",
    "# namespace of the said instance."
   ]
  },
  {
   "cell_type": "code",
   "execution_count": 4,
   "id": "5675a9ab",
   "metadata": {},
   "outputs": [
    {
     "name": "stdout",
     "output_type": "stream",
     "text": [
      "The namespace of car instance of Vehicle:\n",
      "{'brand': 'Tesla', 'model': 'Model S'}\n"
     ]
    }
   ],
   "source": [
    "class Vehicle:\n",
    "    def __init__(self, brand, model):\n",
    "        self.brand = brand\n",
    "        self.model = model\n",
    "\n",
    "# Create an instance of Vehicle\n",
    "car = Vehicle(\"Tesla\", \"Model S\")\n",
    "\n",
    "# Display the namespace of the car instance\n",
    "print(\"The namespace of car instance of Vehicle:\")\n",
    "print(vars(car))"
   ]
  },
  {
   "cell_type": "code",
   "execution_count": null,
   "id": "91655c4e",
   "metadata": {},
   "outputs": [],
   "source": [
    "# 3. Write a Python program to create two empty classes, Student and Marks. Now create some\n",
    "# instances and check whether they are instances of the said classes or not. Also, check\n",
    "# whether the said classes are subclasses of the built-in object class or not."
   ]
  },
  {
   "cell_type": "code",
   "execution_count": 5,
   "id": "4bfad24a",
   "metadata": {
    "scrolled": false
   },
   "outputs": [
    {
     "name": "stdout",
     "output_type": "stream",
     "text": [
      "Is student1 an instance of Student? True\n",
      "Is marks1 an instance of Marks? True\n",
      "Is Student a subclass of object? True\n",
      "Is Marks a subclass of object? True\n"
     ]
    }
   ],
   "source": [
    "# Define two empty classes\n",
    "class Student:\n",
    "    pass\n",
    "\n",
    "class Marks:\n",
    "    pass\n",
    "\n",
    "student1 = Student()\n",
    "marks1 = Marks()\n",
    "\n",
    "# Check if they are instances of the said classes\n",
    "print(\"Is student1 an instance of Student?\", isinstance(student1, Student))\n",
    "print(\"Is marks1 an instance of Marks?\", isinstance(marks1, Marks))\n",
    "\n",
    "# Check if the said classes are subclasses of the built-in object class\n",
    "print(\"Is Student a subclass of object?\", issubclass(Student, object))\n",
    "print(\"Is Marks a subclass of object?\", issubclass(Marks, object))\n",
    "\n"
   ]
  },
  {
   "cell_type": "code",
   "execution_count": 7,
   "id": "cf96e534",
   "metadata": {},
   "outputs": [],
   "source": [
    "# 4. Write a Python class named Student with two attributes student_name, marks. Modify the\n",
    "# attribute values of the said class and print the original and modified values of the said\n",
    "# attributes."
   ]
  },
  {
   "cell_type": "code",
   "execution_count": 8,
   "id": "2644804e",
   "metadata": {
    "scrolled": true
   },
   "outputs": [
    {
     "name": "stdout",
     "output_type": "stream",
     "text": [
      "Original Values:\n",
      "Student Name: Jinny Doe, Marks: 75\n",
      "\n",
      "Modified Values:\n",
      "Student Name: Yasheswin Vyas, Marks: 85\n"
     ]
    }
   ],
   "source": [
    "class Student:\n",
    "    def __init__(self, student_name, marks):\n",
    "        self.student_name = student_name\n",
    "        self.marks = marks\n",
    "\n",
    "    def set_student_name(self, new_name):\n",
    "        self.student_name = new_name\n",
    "\n",
    "    def set_marks(self, new_marks):\n",
    "        self.marks = new_marks\n",
    "\n",
    "    def get_student_info(self):\n",
    "        return f\"Student Name: {self.student_name}, Marks: {self.marks}\"\n",
    "\n",
    "# Create an instance of Student\n",
    "student = Student(\"Jinny Doe\", 75)\n",
    "\n",
    "# Print the original values\n",
    "print(\"Original Values:\")\n",
    "print(student.get_student_info())\n",
    "\n",
    "# Modify the attributes\n",
    "student.set_student_name(\"Atharva Mali\")\n",
    "student.set_marks(85)\n",
    "\n",
    "# Print the modified values\n",
    "print(\"\\nModified Values:\")\n",
    "print(student.get_student_info())"
   ]
  },
  {
   "cell_type": "code",
   "execution_count": null,
   "id": "1b36f624",
   "metadata": {},
   "outputs": [],
   "source": [
    "# 5. Write a Python class named Student with two attributes student_id, student_name. Add a\n",
    "# new attribute student_class. Create a function to display the entire attribute and their values\n",
    "# in Student class."
   ]
  },
  {
   "cell_type": "code",
   "execution_count": 9,
   "id": "227139e4",
   "metadata": {},
   "outputs": [
    {
     "name": "stdout",
     "output_type": "stream",
     "text": [
      "Student ID: 1\n",
      "Student Name: Yasheswin Vyas\n",
      "Student Class: MCA\n"
     ]
    }
   ],
   "source": [
    "class Student:\n",
    "    def __init__(self, student_id, student_name, student_class):\n",
    "        self.student_id = student_id\n",
    "        self.student_name = student_name\n",
    "        self.student_class = student_class\n",
    "\n",
    "    def display_student_info(self):\n",
    "        print(f\"Student ID: {self.student_id}\")\n",
    "        print(f\"Student Name: {self.student_name}\")\n",
    "        print(f\"Student Class: {self.student_class}\")\n",
    "\n",
    "# Create an instance of Student\n",
    "student = Student(1, \"Atharva Mali\", \"MCA\")\n",
    "\n",
    "# Display the attributes and their values\n",
    "student.display_student_info()\n"
   ]
  },
  {
   "cell_type": "code",
   "execution_count": null,
   "id": "c7552b2f",
   "metadata": {},
   "outputs": [],
   "source": [
    "# 6. Write a Python class to convert a roman numeral to an integer."
   ]
  },
  {
   "cell_type": "code",
   "execution_count": 10,
   "id": "bf794abe",
   "metadata": {},
   "outputs": [
    {
     "name": "stdout",
     "output_type": "stream",
     "text": [
      "The Roman numeral MCMXCIX converts to the integer 1999\n"
     ]
    }
   ],
   "source": [
    "class RomanToInteger:\n",
    "    def __init__(self):\n",
    "        self.roman_numerals = {'I': 1, 'V': 5, 'X': 10, 'L': 50,\n",
    "                               'C': 100, 'D': 500, 'M': 1000}\n",
    "    \n",
    "    def convert(self, s):\n",
    "        integer_val = 0\n",
    "        prev_value = 0\n",
    "        for char in reversed(s):\n",
    "            if self.roman_numerals[char] >= prev_value:\n",
    "                integer_val += self.roman_numerals[char]\n",
    "            else:\n",
    "                integer_val -= self.roman_numerals[char]\n",
    "            prev_value = self.roman_numerals[char]\n",
    "        return integer_val\n",
    "\n",
    "converter = RomanToInteger()\n",
    "roman_numeral = \"MCMXCIX\"\n",
    "integer_value = converter.convert(roman_numeral)\n",
    "print(f\"The Roman numeral {roman_numeral} converts to the integer {integer_value}\")\n"
   ]
  },
  {
   "cell_type": "code",
   "execution_count": null,
   "id": "d10842ea",
   "metadata": {},
   "outputs": [],
   "source": [
    "# 7. Write a Python class to implement pow(x, n) by operator overloading."
   ]
  },
  {
   "cell_type": "code",
   "execution_count": 12,
   "id": "2a237528",
   "metadata": {},
   "outputs": [
    {
     "name": "stdout",
     "output_type": "stream",
     "text": [
      "2 raised to the power of 3 is 8\n"
     ]
    }
   ],
   "source": [
    "class Power:\n",
    "    def __init__(self, x):\n",
    "        self.x = x\n",
    "\n",
    "    def __pow__(self, n):\n",
    "        return self.x ** n\n",
    "\n",
    "# Example usage:\n",
    "base = Power(2)\n",
    "exponent = 3\n",
    "result = base ** exponent\n",
    "print(f\"{base.x} raised to the power of {exponent} is {result}\")\n"
   ]
  },
  {
   "cell_type": "code",
   "execution_count": null,
   "id": "3be97ea7",
   "metadata": {},
   "outputs": [],
   "source": [
    "# 8. Write a Python class to reverse a string word by word."
   ]
  },
  {
   "cell_type": "code",
   "execution_count": 13,
   "id": "cde650f1",
   "metadata": {},
   "outputs": [
    {
     "name": "stdout",
     "output_type": "stream",
     "text": [
      "Management Of Institute Sinhgad\n"
     ]
    }
   ],
   "source": [
    "class ReverseString:\n",
    "    def __init__(self, string):\n",
    "        self.string = string\n",
    "\n",
    "    def reverse_words(self):\n",
    "        return ' '.join(reversed(self.string.split()))\n",
    "\n",
    "# Example usage:\n",
    "sentence = ReverseString(\"Sinhgad Institute Of Management\")\n",
    "reversed_sentence = sentence.reverse_words()\n",
    "print(reversed_sentence)\n"
   ]
  },
  {
   "cell_type": "code",
   "execution_count": null,
   "id": "a544bb3b",
   "metadata": {},
   "outputs": [],
   "source": [
    "# 9. Write a Python class which has two methods get_String and print_String. get_String\n",
    "# accept a string from the user and print_String print the string in upper case."
   ]
  },
  {
   "cell_type": "code",
   "execution_count": 15,
   "id": "1adbdba8",
   "metadata": {},
   "outputs": [
    {
     "name": "stdout",
     "output_type": "stream",
     "text": [
      "Enter a string: hello\n",
      "HELLO\n"
     ]
    }
   ],
   "source": [
    "class StringManipulator:\n",
    "    def __init__(self):\n",
    "        self.input_string = \"\"\n",
    "\n",
    "    def get_String(self):\n",
    "        self.input_string = input(\"Enter a string: \")\n",
    "\n",
    "    def print_String(self):\n",
    "        print(self.input_string.upper())\n",
    "\n",
    "# Example usage:\n",
    "string_manipulator = StringManipulator()\n",
    "string_manipulator.get_String()  # User inputs a string\n",
    "string_manipulator.print_String()  # Prints the string in upper case\n"
   ]
  },
  {
   "cell_type": "code",
   "execution_count": null,
   "id": "2f1ee85e",
   "metadata": {},
   "outputs": [],
   "source": [
    "# 10. Create a Python class called BankAccount which represents a bank account, having as\n",
    "# attributes: accountNumber (numeric type), name (name of the account owner as string\n",
    "# type), balance.\n",
    "# - Create a constructor with parameters: accountNumber, name, balance.\n",
    "# - Create a Deposit() method which manages the deposit act ions.\n",
    "# - Create a Withdrawal() method which manages wit hdrawals act ions.\n",
    "# - Create an bankFees() method to apply t he bank fees wit h a percentage of\n",
    "# 5% of the balance account.\n",
    "# - Create a display() method to display account details.\n",
    "# - Give the complete code for the BankAccount class."
   ]
  },
  {
   "cell_type": "code",
   "execution_count": 16,
   "id": "7ca96b59",
   "metadata": {},
   "outputs": [
    {
     "name": "stdout",
     "output_type": "stream",
     "text": [
      "Account Number: 123000\n",
      "Account Holder: Yasheswin Vyas\n",
      "Account Balance: $1235.00\n"
     ]
    }
   ],
   "source": [
    "class BankAccount:\n",
    "    def __init__(self, accountNumber, name, balance):\n",
    "        self.accountNumber = accountNumber\n",
    "        self.name = name\n",
    "        self.balance = balance\n",
    "\n",
    "    def Deposit(self, amount):\n",
    "        self.balance += amount\n",
    "\n",
    "    def Withdrawal(self, amount):\n",
    "        if amount > self.balance:\n",
    "            print(\"Insufficient funds!\")\n",
    "        else:\n",
    "            self.balance -= amount\n",
    "\n",
    "    def bankFees(self):\n",
    "        fees = self.balance * 0.05\n",
    "        self.balance -= fees\n",
    "\n",
    "    def display(self):\n",
    "        print(f\"Account Number: {self.accountNumber}\")\n",
    "        print(f\"Account Holder: {self.name}\")\n",
    "        print(f\"Account Balance: ${self.balance:.2f}\")\n",
    "\n",
    "# Example usage:\n",
    "account = BankAccount(123000, \"Atharva Mali\", 1000)\n",
    "account.Deposit(500)\n",
    "account.Withdrawal(200)\n",
    "account.bankFees()\n",
    "account.display()\n"
   ]
  },
  {
   "cell_type": "code",
   "execution_count": null,
   "id": "6e495626",
   "metadata": {},
   "outputs": [],
   "source": [
    "# 11. Create a Python class Person wit h attributes: name and age of t ype string.\n",
    "# - Create a display() method that displays the name and age of an object\n",
    "# created via the Person class.\n",
    "# - Create a child class Student which inherits from the Person class and\n",
    "# which also has a section attribute.\n",
    "# - Create a method displayStudent() that displays the name, age and sect ion\n",
    "# of an object created via the Student class.\n",
    "# - Create a student object via an instant iat ion on the Student class and then\n",
    "# test the displayStudent met hod."
   ]
  },
  {
   "cell_type": "code",
   "execution_count": 17,
   "id": "b56d7d08",
   "metadata": {},
   "outputs": [
    {
     "name": "stdout",
     "output_type": "stream",
     "text": [
      "Name: Yasheswin Vyas, Age: 24, Section: A\n"
     ]
    }
   ],
   "source": [
    "class Person:\n",
    "    def __init__(self, name, age):\n",
    "        self.name = name\n",
    "        self.age = age\n",
    "\n",
    "    def display(self):\n",
    "        print(f\"Name: {self.name}, Age: {self.age}\")\n",
    "\n",
    "class Student(Person):\n",
    "    def __init__(self, name, age, section):\n",
    "        super().__init__(name, age)\n",
    "        self.section = section\n",
    "\n",
    "    def displayStudent(self):\n",
    "        print(f\"Name: {self.name}, Age: {self.age}, Section: {self.section}\")\n",
    "\n",
    "# Creating a student object and testing the displayStudent method\n",
    "student = Student(\"Atharva Mali\", \"24\", \"A\")\n",
    "student.displayStudent()\n"
   ]
  },
  {
   "cell_type": "code",
   "execution_count": null,
   "id": "53262da0",
   "metadata": {},
   "outputs": [],
   "source": [
    "# 12. Write a Python class program for single inheritance."
   ]
  },
  {
   "cell_type": "code",
   "execution_count": 19,
   "id": "139bc9ad",
   "metadata": {},
   "outputs": [
    {
     "name": "stdout",
     "output_type": "stream",
     "text": [
      "Value: 10\n",
      "Value: 10, Child Value: 20\n"
     ]
    }
   ],
   "source": [
    "# 12.\tWrite a Python class program for single inheritance.\n",
    "\n",
    "class Parent:\n",
    "    def __init__(self, value):\n",
    "        self.value = value\n",
    "\n",
    "    def show(self):\n",
    "        print(f\"Value: {self.value}\")\n",
    "\n",
    "class Child(Parent):\n",
    "    def __init__(self, value, child_value):\n",
    "        super().__init__(value)\n",
    "        self.child_value = child_value\n",
    "\n",
    "    def show_child(self):\n",
    "        print(f\"Value: {self.value}, Child Value: {self.child_value}\")\n",
    "\n",
    "# Creating an object of the Child class and demonstrating single inheritance\n",
    "child_obj = Child(10, 20)\n",
    "child_obj.show()         # From Parent class\n",
    "child_obj.show_child()   # From Child class\n"
   ]
  },
  {
   "cell_type": "code",
   "execution_count": null,
   "id": "784dfa1d",
   "metadata": {},
   "outputs": [],
   "source": [
    "# 13. Write a Python class program for multiple inheritance (in multiple inheritance one child\n",
    "# class can inherit multiple parent classes)."
   ]
  },
  {
   "cell_type": "code",
   "execution_count": 20,
   "id": "58f741c4",
   "metadata": {},
   "outputs": [
    {
     "name": "stdout",
     "output_type": "stream",
     "text": [
      "This animal is a Canine.\n",
      "This dog's name is Pluto. It is a Canine.\n"
     ]
    }
   ],
   "source": [
    "class Animal:\n",
    "    def __init__(self, species):\n",
    "        self.species = species\n",
    "\n",
    "    def display_species(self):\n",
    "        print(f\"This animal is a {self.species}.\")\n",
    "\n",
    "class Dog(Animal):\n",
    "    def __init__(self, species, name):\n",
    "        super().__init__(species)\n",
    "        self.name = name\n",
    "\n",
    "    def display_dog(self):\n",
    "        print(f\"This dog's name is {self.name}. It is a {self.species}.\")\n",
    "\n",
    "# Creating an object of the Dog class and demonstrating single inheritance\n",
    "dog = Dog(\"Canine\", \"Pluto\")\n",
    "dog.display_species()  # From Animal class\n",
    "dog.display_dog()      # From Dog class\n"
   ]
  },
  {
   "cell_type": "code",
   "execution_count": null,
   "id": "182e7e58",
   "metadata": {},
   "outputs": [],
   "source": [
    "# 13. Write a Python class program for multiple inheritance (in multiple inheritance one child\n",
    "# class can inherit multiple parent classes)."
   ]
  },
  {
   "cell_type": "code",
   "execution_count": 22,
   "id": "6ff73bda",
   "metadata": {},
   "outputs": [
    {
     "name": "stdout",
     "output_type": "stream",
     "text": [
      "Enter the father's name: AAA\n",
      "Enter the mother's name: BBB\n",
      "Enter the child's name: CCC\n",
      "Child's Name: CCC\n",
      "Father's Name: AAA\n",
      "Mother's Name: BBB\n"
     ]
    }
   ],
   "source": [
    "class Father:\n",
    "    def __init__(self, father_name):\n",
    "        self.father_name = father_name\n",
    "\n",
    "    def show_father(self):\n",
    "        print(f\"Father's Name: {self.father_name}\")\n",
    "\n",
    "class Mother:\n",
    "    def __init__(self, mother_name):\n",
    "        self.mother_name = mother_name\n",
    "\n",
    "    def show_mother(self):\n",
    "        print(f\"Mother's Name: {self.mother_name}\")\n",
    "\n",
    "class Child(Father, Mother):\n",
    "    def __init__(self, father_name, mother_name, child_name):\n",
    "        Father.__init__(self, father_name)\n",
    "        Mother.__init__(self, mother_name)\n",
    "        self.child_name = child_name\n",
    "\n",
    "    def show_child(self):\n",
    "        print(f\"Child's Name: {self.child_name}\")\n",
    "        print(f\"Father's Name: {self.father_name}\")\n",
    "        print(f\"Mother's Name: {self.mother_name}\")\n",
    "\n",
    "# Taking user input\n",
    "father_name = input(\"Enter the father's name: \")\n",
    "mother_name = input(\"Enter the mother's name: \")\n",
    "child_name = input(\"Enter the child's name: \")\n",
    "\n",
    "# Creating an object of the Child class with user input\n",
    "child = Child(father_name, mother_name, child_name)\n",
    "child.show_child()"
   ]
  },
  {
   "cell_type": "code",
   "execution_count": null,
   "id": "0cb36e7f",
   "metadata": {},
   "outputs": [],
   "source": [
    "# 14. Write a Python class program for multilevel inheritance (in which, a class can inherit from\n",
    "# a child class or derived class.)."
   ]
  },
  {
   "cell_type": "code",
   "execution_count": 23,
   "id": "82552efe",
   "metadata": {},
   "outputs": [
    {
     "name": "stdout",
     "output_type": "stream",
     "text": [
      "Kingdom: Animalia\n",
      "Class: Mammalia\n",
      "Breed: Golden Retriever\n",
      "Class: Mammalia\n",
      "Kingdom: Animalia\n"
     ]
    }
   ],
   "source": [
    "class Animal:\n",
    "    def __init__(self, kingdom):\n",
    "        self.kingdom = kingdom\n",
    "\n",
    "    def display_kingdom(self):\n",
    "        print(f\"Kingdom: {self.kingdom}\")\n",
    "\n",
    "class Mammal(Animal):\n",
    "    def __init__(self, kingdom, class_name):\n",
    "        super().__init__(kingdom)\n",
    "        self.class_name = class_name\n",
    "\n",
    "    def display_class(self):\n",
    "        print(f\"Class: {self.class_name}\")\n",
    "\n",
    "class Dog(Mammal):\n",
    "    def __init__(self, kingdom, class_name, breed):\n",
    "        super().__init__(kingdom, class_name)\n",
    "        self.breed = breed\n",
    "\n",
    "    def display_dog(self):\n",
    "        print(f\"Breed: {self.breed}\")\n",
    "        print(f\"Class: {self.class_name}\")\n",
    "        print(f\"Kingdom: {self.kingdom}\")\n",
    "\n",
    "# Creating an object of the Dog class and demonstrating multilevel inheritance\n",
    "dog = Dog(\"Animalia\", \"Mammalia\", \"Golden Retriever\")\n",
    "dog.display_kingdom()  # From Animal class\n",
    "dog.display_class()    # From Mammal class\n",
    "dog.display_dog()      # From Dog class\n"
   ]
  },
  {
   "cell_type": "code",
   "execution_count": 25,
   "id": "8afca64d",
   "metadata": {},
   "outputs": [],
   "source": [
    "# 15. Write a python program for method overriding in which create four Classes such as\n",
    "# Triangle, Rhombus, Pentagon and Hexagon have the same methods area() and perimeter()\n",
    "# with different implementations:"
   ]
  },
  {
   "cell_type": "code",
   "execution_count": 26,
   "id": "1d2f6044",
   "metadata": {},
   "outputs": [
    {
     "name": "stdout",
     "output_type": "stream",
     "text": [
      "Triangle area: 25.0\n",
      "Triangle perimeter: 23\n",
      "Rhombus area: 40.0\n",
      "Rhombus perimeter: 20\n",
      "Pentagon area: 84.30339262885938\n",
      "Pentagon perimeter: 35\n",
      "Hexagon area: 93.53074360871938\n",
      "Hexagon perimeter: 36\n"
     ]
    }
   ],
   "source": [
    "import math\n",
    "\n",
    "class Triangle:\n",
    "    def __init__(self, base, height):\n",
    "        self.base = base\n",
    "        self.height = height\n",
    "\n",
    "    def area(self):\n",
    "        return 0.5 * self.base * self.height\n",
    "\n",
    "    def perimeter(self, side1, side2):\n",
    "        return self.base + side1 + side2\n",
    "\n",
    "class Rhombus:\n",
    "    def __init__(self, diagonal1, diagonal2, side):\n",
    "        self.diagonal1 = diagonal1\n",
    "        self.diagonal2 = diagonal2\n",
    "        self.side = side\n",
    "\n",
    "    def area(self):\n",
    "        return 0.5 * self.diagonal1 * self.diagonal2\n",
    "\n",
    "    def perimeter(self):\n",
    "        return 4 * self.side\n",
    "\n",
    "class Pentagon:\n",
    "    def __init__(self, side):\n",
    "        self.side = side\n",
    "\n",
    "    def area(self):\n",
    "        return 0.25 * math.sqrt(5 * (5 + 2 * math.sqrt(5))) * self.side**2\n",
    "\n",
    "    def perimeter(self):\n",
    "        return 5 * self.side\n",
    "\n",
    "class Hexagon:\n",
    "    def __init__(self, side):\n",
    "        self.side = side\n",
    "\n",
    "    def area(self):\n",
    "        return (3 * math.sqrt(3) / 2) * self.side**2\n",
    "\n",
    "    def perimeter(self):\n",
    "        return 6 * self.side\n",
    "\n",
    "# Example usage:\n",
    "triangle = Triangle(10, 5)\n",
    "rhombus = Rhombus(8, 10, 5)\n",
    "pentagon = Pentagon(7)\n",
    "hexagon = Hexagon(6)\n",
    "\n",
    "print(f\"Triangle area: {triangle.area()}\")\n",
    "print(f\"Triangle perimeter: {triangle.perimeter(6, 7)}\")\n",
    "\n",
    "print(f\"Rhombus area: {rhombus.area()}\")\n",
    "print(f\"Rhombus perimeter: {rhombus.perimeter()}\")\n",
    "\n",
    "print(f\"Pentagon area: {pentagon.area()}\")\n",
    "print(f\"Pentagon perimeter: {pentagon.perimeter()}\")\n",
    "\n",
    "print(f\"Hexagon area: {hexagon.area()}\")\n",
    "print(f\"Hexagon perimeter: {hexagon.perimeter()}\")\n"
   ]
  }
 ],
 "metadata": {
  "kernelspec": {
   "display_name": "Python 3 (ipykernel)",
   "language": "python",
   "name": "python3"
  },
  "language_info": {
   "codemirror_mode": {
    "name": "ipython",
    "version": 3
   },
   "file_extension": ".py",
   "mimetype": "text/x-python",
   "name": "python",
   "nbconvert_exporter": "python",
   "pygments_lexer": "ipython3",
   "version": "3.11.5"
  }
 },
 "nbformat": 4,
 "nbformat_minor": 5
}
