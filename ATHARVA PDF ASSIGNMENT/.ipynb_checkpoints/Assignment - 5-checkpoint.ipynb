{
 "cells": [
  {
   "cell_type": "markdown",
   "id": "6378d01a",
   "metadata": {},
   "source": [
    "# Python Assignment - 5\n",
    "### Atharva Suryakant Mali | Class: MCA - I - D | Roll No: 23436"
   ]
  },
  {
   "cell_type": "code",
   "execution_count": null,
   "id": "6b3dda85",
   "metadata": {},
   "outputs": [],
   "source": [
    "# Exception Handling:\n",
    "# 1. You’re going to write an interactive calculator! User input is assumed to be a formula that\n",
    "# consist of a number, an operator (at least + and -), and another number, separated by white\n",
    "# space (e.g. 1 + 1). Split user input using str.split(), and check whether the resulting list is\n",
    "# valid:\n",
    "# - If the input does not consist of 3 elements, raise a FormulaError, which is a\n",
    "# custom Exception.\n",
    "# - Try to convert the first and third input to a float (like so: float_value =\n",
    "# float(str_value)). Catch any ValueError that occurs, and instead raise a FormulaError\n",
    "# - If the second input is not '+' or '-', again raise a FormulaError\n",
    "\n",
    "# If the input is valid, perform the calculation and print out the result. The user is then\n",
    "# prompted to provide new input, and so on, until the user enters quit.\n",
    "# An interaction could look like this:\n",
    "# >>> 1 + 1\n",
    "# 2.0\n",
    "# >>> 3.2 - 1.5\n",
    "# 1.7000000000000002\n",
    "# >>> quit\n"
   ]
  },
  {
   "cell_type": "code",
   "execution_count": 8,
   "id": "da2ef802",
   "metadata": {},
   "outputs": [
    {
     "name": "stdout",
     "output_type": "stream",
     "text": [
      ">>> 1 + 2\n",
      "3.0\n",
      ">>> 3 - 1\n",
      "2.0\n",
      ">>> quit\n"
     ]
    }
   ],
   "source": [
    "class FormulaError(Exception):\n",
    "    \"\"\"Custom exception for invalid formulas.\"\"\"\n",
    "    def __init__(self, message):\n",
    "        super().__init__(message)\n",
    "\n",
    "def calculate_formula(formula):\n",
    "    \"\"\"Calculates the result of a formula with two operands and an operator.\"\"\"\n",
    "    try:\n",
    "        num1, operator, num2 = formula.split()\n",
    "        num1, num2 = float(num1), float(num2)\n",
    "    except ValueError:\n",
    "        raise FormulaError(\"Invalid input. Please ensure you enter two numbers and an operator.\")\n",
    "    \n",
    "    if operator not in ('+', '-'):\n",
    "        raise FormulaError(\"Invalid operator. Please use '+' or '-'.\")\n",
    "\n",
    "    return num1 + num2 if operator == '+' else num1 - num2\n",
    "\n",
    "def main():\n",
    "    while True:\n",
    "        user_input = input(\">>> \")\n",
    "        if user_input.lower() == 'quit':\n",
    "            break\n",
    "        try:\n",
    "            result = calculate_formula(user_input)\n",
    "            print(result)\n",
    "        except FormulaError as e:\n",
    "            print(e)\n",
    "\n",
    "if __name__ == \"__main__\":\n",
    "    main()\n",
    "\n"
   ]
  },
  {
   "cell_type": "code",
   "execution_count": 9,
   "id": "593f962f",
   "metadata": {},
   "outputs": [
    {
     "name": "stdout",
     "output_type": "stream",
     "text": [
      "5.0\n",
      "An error occurred: division by zero\n",
      "None\n",
      "An error occurred: unsupported operand type(s) for /: 'int' and 'str'\n",
      "None\n"
     ]
    }
   ],
   "source": [
    "# 2. Write a python program to handle multiple exceptions with a single except clause.\n",
    "\n",
    "def divide_numbers(num1, num2):\n",
    "    try:\n",
    "        result = num1 / num2\n",
    "    except (ZeroDivisionError, TypeError) as e:\n",
    "        print(f\"An error occurred: {e}\")\n",
    "        return None\n",
    "    return result\n",
    "\n",
    "# Example usage:\n",
    "print(divide_numbers(10, 2))   # Should print 5.0\n",
    "print(divide_numbers(10, 0))   # Should handle ZeroDivisionError\n",
    "print(divide_numbers(10, 'a')) \n",
    "\n"
   ]
  },
  {
   "cell_type": "code",
   "execution_count": 10,
   "id": "f29d87da",
   "metadata": {},
   "outputs": [
    {
     "name": "stdout",
     "output_type": "stream",
     "text": [
      "Yeah ! Your answer is : 1\n",
      "Sorry ! You are dividing by zero \n"
     ]
    }
   ],
   "source": [
    "# 3. Write a python program which consist of Else statement with try - except block.\n",
    "\n",
    "def divide(x, y): \n",
    "    try: \n",
    "        # Floor Division : Gives only Fractional\n",
    "        # Part as Answer \n",
    "        result = x // y \n",
    "    except ZeroDivisionError: \n",
    "        print(\"Sorry ! You are dividing by zero \") \n",
    "    else:\n",
    "        print(\"Yeah ! Your answer is :\", result) \n",
    "   \n",
    "# Look at parameters and note the working of Program \n",
    "divide(3, 2) \n",
    "divide(3, 0)"
   ]
  },
  {
   "cell_type": "code",
   "execution_count": 11,
   "id": "236249f4",
   "metadata": {},
   "outputs": [
    {
     "name": "stdout",
     "output_type": "stream",
     "text": [
      "Cannot divide by zero.\n"
     ]
    }
   ],
   "source": [
    "# 4. Write a python program which consists of except statement with no exception.\n",
    "\n",
    "try:\n",
    "    result = 10 / 0\n",
    "except ZeroDivisionError:\n",
    "    print(\"Cannot divide by zero.\")\n",
    "except Exception as e:\n",
    "    print(f\"An error occurred: {e}\")\n"
   ]
  },
  {
   "cell_type": "code",
   "execution_count": 12,
   "id": "32370d30",
   "metadata": {},
   "outputs": [
    {
     "name": "stdout",
     "output_type": "stream",
     "text": [
      "An error occurred: division by zero\n"
     ]
    }
   ],
   "source": [
    "# 5. Write a python program which consists of except statement with exception variable.\n",
    "\n",
    "try:\n",
    "    result = 10 / 0\n",
    "except Exception as e:\n",
    "    print(f\"An error occurred: {e}\")\n",
    "\n"
   ]
  },
  {
   "cell_type": "code",
   "execution_count": 13,
   "id": "032451a3",
   "metadata": {},
   "outputs": [
    {
     "name": "stdout",
     "output_type": "stream",
     "text": [
      "The file at example.txt was not found.\n",
      "File operation attempted.\n"
     ]
    }
   ],
   "source": [
    "# 6. Write a python program for Safe guarding file operation using exception handling.\n",
    "\n",
    "def safe_file_operation(file_path, mode):\n",
    "    try:\n",
    "        # Attempt to open the file\n",
    "        with open(file_path, mode) as file:\n",
    "            # Perform file operations, for example, read the contents\n",
    "            content = file.read()\n",
    "            print(content)\n",
    "    except FileNotFoundError:\n",
    "        print(f\"The file at {file_path} was not found.\")\n",
    "    except IOError:\n",
    "        print(f\"An I/O error occurred while handling the file.\")\n",
    "    except Exception as e:\n",
    "        print(f\"An unexpected error occurred: {e}\")\n",
    "    finally:\n",
    "        print(\"File operation attempted.\")\n",
    "\n",
    "\n",
    "safe_file_operation(\"example.txt\", \"r\")\n",
    "\n"
   ]
  },
  {
   "cell_type": "code",
   "execution_count": 14,
   "id": "9e74e671",
   "metadata": {},
   "outputs": [
    {
     "name": "stdout",
     "output_type": "stream",
     "text": [
      "Enter the first number: 10\n",
      "Enter the second number: 3\n",
      "The result is 3.3333333333333335\n",
      "Executing the final block.\n"
     ]
    }
   ],
   "source": [
    "# 7. Write a python program which consists of - try, except, else, finally blocks.\n",
    "\n",
    "def divide(x, y):\n",
    "    try:\n",
    "        result = x / y\n",
    "    except ZeroDivisionError:\n",
    "        print(\"You can't divide by zero!\")\n",
    "    except TypeError:\n",
    "        print(\"Both numbers must be of type int or float.\")\n",
    "    else:\n",
    "        print(f\"The result is {result}\")\n",
    "    finally:\n",
    "        print(\"Executing the final block.\")\n",
    "\n",
    "# Example usage:\n",
    "try:\n",
    "    num1 = float(input(\"Enter the first number: \"))\n",
    "    num2 = float(input(\"Enter the second number: \"))\n",
    "    divide(num1, num2)\n",
    "except ValueError:\n",
    "    print(\"Enter Valid Details>>\")\n"
   ]
  },
  {
   "cell_type": "code",
   "execution_count": 15,
   "id": "623556c3",
   "metadata": {},
   "outputs": [
    {
     "name": "stdout",
     "output_type": "stream",
     "text": [
      "Caught an exception: An error occurred in the dangerous bawaal\n"
     ]
    }
   ],
   "source": [
    "# 8. Write a python program which raises the exception with message.\n",
    "\n",
    "class CustomError(Exception):\n",
    "    pass\n",
    "\n",
    "\n",
    "def do_something_bawaal():\n",
    "    raise CustomError(\"An error occurred in the dangerous bawaal\")\n",
    "\n",
    "# Main program\n",
    "try:\n",
    "    do_something_bawaal()\n",
    "except CustomError as e:\n",
    "    print(f\"Caught an exception: {e}\")\n"
   ]
  },
  {
   "cell_type": "code",
   "execution_count": 16,
   "id": "d330558a",
   "metadata": {},
   "outputs": [],
   "source": [
    "# Multithreading:"
   ]
  },
  {
   "cell_type": "code",
   "execution_count": 17,
   "id": "27764497",
   "metadata": {},
   "outputs": [
    {
     "name": "stdout",
     "output_type": "stream",
     "text": [
      "Current date: 2024-04-03\n"
     ]
    }
   ],
   "source": [
    "# 1. Write a Python multithreading program to print current date.\n",
    "\n",
    "import threading\n",
    "from datetime import datetime\n",
    "\n",
    "def print_current_date():\n",
    "    today = datetime.now()\n",
    "    print(f\"Current date: {today.strftime('%Y-%m-%d')}\")\n",
    "date_thread = threading.Thread(target=print_current_date)\n",
    "\n",
    "# Start the thread\n",
    "date_thread.start()\n",
    "date_thread.join()\n"
   ]
  },
  {
   "cell_type": "code",
   "execution_count": 18,
   "id": "c210ea1f",
   "metadata": {},
   "outputs": [
    {
     "name": "stdout",
     "output_type": "stream",
     "text": [
      "Thread Name: Thread-1\n",
      "Process ID: 11784\n",
      "Thread Name: Thread-2\n",
      "Process ID: 11784\n",
      "Thread Name: Thread-3\n",
      "Process ID: 11784\n",
      "Thread Name: Thread-4\n",
      "Process ID: 11784\n"
     ]
    }
   ],
   "source": [
    "# 2. Write a Python multithreading program to print thread name and corresponding process for\n",
    "# each task (assume that there are four tasks).\n",
    "\n",
    "import threading\n",
    "import os\n",
    "\n",
    "# Task function to print current thread name and process ID\n",
    "def task():\n",
    "    print(f\"Thread Name: {threading.current_thread().name}\")\n",
    "    print(f\"Process ID: {os.getpid()}\")\n",
    "\n",
    "# Create and start four threads\n",
    "for i in range(4):\n",
    "    thread = threading.Thread(target=task, name=f\"Thread-{i+1}\")\n",
    "    thread.start()\n",
    "    thread.join()\n"
   ]
  },
  {
   "cell_type": "code",
   "execution_count": 19,
   "id": "ac9df9c0",
   "metadata": {},
   "outputs": [
    {
     "name": "stdout",
     "output_type": "stream",
     "text": [
      "Thread Thread-1 has finished execution.Thread Thread-2 has finished execution.\n",
      "Thread Thread-3 has finished execution.\n",
      "\n",
      "Total Time Taken: 1.00647 seconds\n"
     ]
    }
   ],
   "source": [
    "# 3. Write a Python multithreading program to print Total Time Taken by threads to complete\n",
    "# their execution (consider 3 threads and a function which includes a 1 second sleep).\n",
    "\n",
    "import threading\n",
    "import time\n",
    "from datetime import datetime\n",
    "\n",
    "# Define the task function that includes a 1-second sleep\n",
    "def task():\n",
    "    time.sleep(1)\n",
    "    print(f\"Thread {threading.current_thread().name} has finished execution.\")\n",
    "\n",
    "# Record the start time\n",
    "start_time = datetime.now()\n",
    "threads = []\n",
    "for i in range(3):\n",
    "    thread = threading.Thread(target=task, name=f\"Thread-{i+1}\")\n",
    "    threads.append(thread)\n",
    "    thread.start()\n",
    "for thread in threads:\n",
    "    thread.join()\n",
    "\n",
    "# Record the end time\n",
    "end_time = datetime.now()\n",
    "\n",
    "# Calculate and print the total time taken\n",
    "total_time = end_time - start_time\n",
    "print(f\"Total Time Taken: {total_time.total_seconds()} seconds\")\n"
   ]
  },
  {
   "cell_type": "code",
   "execution_count": 20,
   "id": "99598a60",
   "metadata": {},
   "outputs": [
    {
     "name": "stdout",
     "output_type": "stream",
     "text": [
      "The square of 4 is 16\n",
      "The cube of 4 is 64\n"
     ]
    }
   ],
   "source": [
    "# 4. Write a Python multithreading program which creates two threads, one for calculating\n",
    "# square of a given number and other for calculating the cube of a given number.\n",
    "\n",
    "import threading\n",
    "\n",
    "# Function to calculate square\n",
    "def calc_square(number):\n",
    "    print(f\"The square of {number} is {number ** 2}\")\n",
    "\n",
    "# Function to calculate cube\n",
    "def calc_cube(number):\n",
    "    print(f\"The cube of {number} is {number ** 3}\")\n",
    "\n",
    "# Main function to run the threads\n",
    "def main():\n",
    "    number = 4  # Example number\n",
    "    # Creating threads\n",
    "    thread1 = threading.Thread(target=calc_square, args=(number,))\n",
    "    thread2 = threading.Thread(target=calc_cube, args=(number,))\n",
    "\n",
    "    # Starting threads\n",
    "    thread1.start()\n",
    "    thread2.start()\n",
    "\n",
    "    # Waiting for both threads to complete\n",
    "    thread1.join()\n",
    "    thread2.join()\n",
    "\n",
    "if __name__ == \"__main__\":\n",
    "    main()\n",
    "\n"
   ]
  },
  {
   "cell_type": "code",
   "execution_count": 21,
   "id": "381fe685",
   "metadata": {},
   "outputs": [
    {
     "name": "stdout",
     "output_type": "stream",
     "text": [
      "Square of 1 is 1\n",
      "Square of 2 is 4\n",
      "Square of 3 is 9\n",
      "Square of 4 is 16\n",
      "Square of 5 is 25\n",
      "Cube of 1 is 1\n",
      "Cube of 2 is 8\n",
      "Cube of 3 is 27\n",
      "Cube of 4 is 64\n",
      "Cube of 5 is 125\n",
      "Done!\n"
     ]
    }
   ],
   "source": [
    "# 5. Write a Python multithreading program which creates two threads, one for calculating\n",
    "# squares of numbers (from list) and other for calculating the cubes of numbers (from list).\n",
    "\n",
    "import threading\n",
    "\n",
    "# Function to calculate squares of numbers from a list\n",
    "def calc_squares(numbers):\n",
    "    for n in numbers:\n",
    "        print(f\"Square of {n} is {n**2}\")\n",
    "def calc_cubes(numbers):\n",
    "    for n in numbers:\n",
    "        print(f\"Cube of {n} is {n**3}\")\n",
    "\n",
    "numbers = [1, 2, 3, 4, 5]\n",
    "\n",
    "t1 = threading.Thread(target=calc_squares, args=(numbers,))\n",
    "t2 = threading.Thread(target=calc_cubes, args=(numbers,))\n",
    "\n",
    "# Starting threads\n",
    "t1.start()\n",
    "t2.start()\n",
    "\n",
    "t1.join()\n",
    "t2.join()\n",
    "\n",
    "print(\"Done!\")\n"
   ]
  }
 ],
 "metadata": {
  "kernelspec": {
   "display_name": "Python 3 (ipykernel)",
   "language": "python",
   "name": "python3"
  },
  "language_info": {
   "codemirror_mode": {
    "name": "ipython",
    "version": 3
   },
   "file_extension": ".py",
   "mimetype": "text/x-python",
   "name": "python",
   "nbconvert_exporter": "python",
   "pygments_lexer": "ipython3",
   "version": "3.11.5"
  }
 },
 "nbformat": 4,
 "nbformat_minor": 5
}
