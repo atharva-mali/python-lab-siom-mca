{
 "cells": [
  {
   "cell_type": "markdown",
   "id": "49693d32",
   "metadata": {},
   "source": [
    "# Python Assignment - 1\n",
    "### Atharva Suryakant Mali | Class: MCA - I - D | Roll No: 23436"
   ]
  },
  {
   "cell_type": "code",
   "execution_count": 1,
   "id": "f2b11b3b",
   "metadata": {},
   "outputs": [],
   "source": [
    "# 2. Write a Python program to calculate the length of a string."
   ]
  },
  {
   "cell_type": "code",
   "execution_count": 2,
   "id": "79d3ed86",
   "metadata": {},
   "outputs": [
    {
     "name": "stdout",
     "output_type": "stream",
     "text": [
      "Enter a string: atharva\n",
      "Length of the string is: 7\n"
     ]
    }
   ],
   "source": [
    "def findLen(str):\n",
    "    counter = 0   \n",
    "    for i in str:\n",
    "        counter += 1\n",
    "    return counter\n",
    "input_string = input(\"Enter a string: \")\n",
    "length = findLen(input_string)\n",
    "print(\"Length of the string is:\", length)"
   ]
  },
  {
   "cell_type": "code",
   "execution_count": 3,
   "id": "275498e4",
   "metadata": {},
   "outputs": [],
   "source": [
    "# 3. Write a Python program to sum all the items in a list."
   ]
  },
  {
   "cell_type": "code",
   "execution_count": 4,
   "id": "2f554b1b",
   "metadata": {},
   "outputs": [
    {
     "name": "stdout",
     "output_type": "stream",
     "text": [
      "Sum of all elements in given list:  91\n"
     ]
    }
   ],
   "source": [
    "total = 0\n",
    "\n",
    "list1 = [1, 15, 34, 18, 23]\n",
    "\n",
    "for ele in range(0, len(list1)):\n",
    "    total = total + list1[ele]\n",
    " \n",
    "print(\"Sum of all elements in given list: \", total)\n"
   ]
  },
  {
   "cell_type": "code",
   "execution_count": 5,
   "id": "c514e9c8",
   "metadata": {},
   "outputs": [],
   "source": [
    "# 4. Write a Python program to multiply all the items in a list."
   ]
  },
  {
   "cell_type": "code",
   "execution_count": 6,
   "id": "4e2d34a8",
   "metadata": {},
   "outputs": [
    {
     "name": "stdout",
     "output_type": "stream",
     "text": [
      "24\n"
     ]
    }
   ],
   "source": [
    "def multiplyList(myList):\n",
    "    result = 1\n",
    "    for x in myList:\n",
    "        result = result * x\n",
    "    return result\n",
    " \n",
    "list1 = [1, 2, 3, 4]\n",
    "print(multiplyList(list1))"
   ]
  },
  {
   "cell_type": "code",
   "execution_count": 7,
   "id": "747c500c",
   "metadata": {},
   "outputs": [],
   "source": [
    "# 5. Write a Python program to get the largest number from a list."
   ]
  },
  {
   "cell_type": "code",
   "execution_count": 8,
   "id": "b9ed72e9",
   "metadata": {},
   "outputs": [
    {
     "name": "stdout",
     "output_type": "stream",
     "text": [
      "Largest element is: 99\n"
     ]
    }
   ],
   "source": [
    "list1 = [10, 20, 4, 45, 99]\n",
    " \n",
    "list1.sort()\n",
    " \n",
    "print(\"Largest element is:\", list1[-1])"
   ]
  },
  {
   "cell_type": "code",
   "execution_count": 9,
   "id": "5f22f3ed",
   "metadata": {},
   "outputs": [],
   "source": [
    "# 6. Write a Python program to get the smallest number from a list."
   ]
  },
  {
   "cell_type": "code",
   "execution_count": 10,
   "id": "b9fb3c3e",
   "metadata": {},
   "outputs": [
    {
     "name": "stdout",
     "output_type": "stream",
     "text": [
      "Largest element is: 4\n"
     ]
    }
   ],
   "source": [
    "list1 = [10, 20, 4, 45, 99]\n",
    " \n",
    "list1.sort()\n",
    " \n",
    "print(\"Largest element is:\", list1[0])"
   ]
  },
  {
   "cell_type": "code",
   "execution_count": 11,
   "id": "bf8aeaa9",
   "metadata": {},
   "outputs": [],
   "source": [
    "# 7. Write a Python program to count the number of characters (character frequency) in a string.\n",
    "# Sample String: ‘google.com’\n",
    "# Expected Result: {'o': 3, 'g': 2, '.': 1, 'e': 1, 'l': 1, 'm': 1, 'c': 1}"
   ]
  },
  {
   "cell_type": "code",
   "execution_count": 12,
   "id": "ca04544a",
   "metadata": {},
   "outputs": [
    {
     "name": "stdout",
     "output_type": "stream",
     "text": [
      "Result:  {'w': 3, '.': 2, 'g': 2, 'o': 3, 'l': 1, 'e': 1, 'c': 1, 'm': 1}\n"
     ]
    }
   ],
   "source": [
    "def count_char(string):\n",
    "    char_freq = {}\n",
    "\n",
    "    for char in string:\n",
    "        if char in char_freq:\n",
    "            char_freq[char] += 1\n",
    "        else:\n",
    "            char_freq[char] = 1\n",
    "    \n",
    "    return char_freq\n",
    "\n",
    "sample_string = 'www.google.com'\n",
    "result = count_char(sample_string)\n",
    "print(\"Result: \", result)\n"
   ]
  },
  {
   "cell_type": "code",
   "execution_count": 13,
   "id": "d0df7641",
   "metadata": {},
   "outputs": [],
   "source": [
    "# 8. Write a Python program to count the number of strings where the string length is 2 or more\n",
    "# and the first and last character are same from a given list of strings.\n",
    "# Sample List: ['abc', 'xyz', 'aba', '1221']\n",
    "# Expected Result: 2"
   ]
  },
  {
   "cell_type": "code",
   "execution_count": 14,
   "id": "2d6e7680",
   "metadata": {},
   "outputs": [
    {
     "name": "stdout",
     "output_type": "stream",
     "text": [
      "Result:  3\n"
     ]
    }
   ],
   "source": [
    "def countStr(strings):\n",
    "    count = 0\n",
    "\n",
    "    for string in strings:\n",
    "        if len(string) >= 2 and string[0] == string[-1]:\n",
    "            count += 1\n",
    "    \n",
    "    return count\n",
    "\n",
    "sample_list = ['abc', 'xyz', 'aba', '1221', \"naman\"]\n",
    "result = countStr(sample_list)\n",
    "print(\"Result: \", result)\n"
   ]
  },
  {
   "cell_type": "code",
   "execution_count": 15,
   "id": "9259048e",
   "metadata": {},
   "outputs": [],
   "source": [
    "# 9. Write a Python program to get a list, sorted in increasing order by the last element in each\n",
    "# tuple from a given list of non-empty tuples.\n",
    "# Sample List: [(2, 5), (1, 2), (4, 4), (2, 3), (2, 1)]\n",
    "# Expected Result: [(2, 1), (1, 2), (2, 3), (4, 4), (2, 5)]"
   ]
  },
  {
   "cell_type": "code",
   "execution_count": 16,
   "id": "8792e92d",
   "metadata": {},
   "outputs": [
    {
     "name": "stdout",
     "output_type": "stream",
     "text": [
      "Result:  [(2, 1), (1, 2), (2, 3), (4, 4), (2, 5)]\n"
     ]
    }
   ],
   "source": [
    "def sortListByLastEle(tuples_list):\n",
    "    sorted_list = sorted(tuples_list, key=lambda x: x[-1])\n",
    "    return sorted_list\n",
    "\n",
    "sample_list = [(2, 5), (1, 2), (4, 4), (2, 3), (2, 1)]\n",
    "result = sortListByLastEle(sample_list)\n",
    "print(\"Result: \", result)\n"
   ]
  },
  {
   "cell_type": "code",
   "execution_count": 17,
   "id": "53cc1f08",
   "metadata": {},
   "outputs": [],
   "source": [
    "# 10. Write a Python program to get a string made of the first 2 and the last 2 chars from a given a\n",
    "# string. If the string length is less than 2, return instead the empty string.\n",
    "# Sample String: 'milindgodase'\n",
    "# Expected Result: 'mise'\n",
    "# Sample String: 'w3'\n",
    "# Expected Result: 'w3w3'\n",
    "# Sample String: 'w'\n",
    "# Expected Result: Empty String"
   ]
  },
  {
   "cell_type": "code",
   "execution_count": 18,
   "id": "40565703",
   "metadata": {},
   "outputs": [
    {
     "name": "stdout",
     "output_type": "stream",
     "text": [
      "Sample String: 'HarshadaKulkarni', Expected Result: 'Hani'\n",
      "Sample String: 'p5', Expected Result: 'p5p5'\n",
      "Sample String: 'h', Expected Result: 'Empty String'\n"
     ]
    }
   ],
   "source": [
    "def first_and_last_two_chars(string):\n",
    "    if len(string) < 2:\n",
    "        return \"Empty String\"  \n",
    "    else:\n",
    "        return string[:2] + string[-2:] \n",
    "\n",
    "sample_strings = ['HarshadaKulkarni', 'p5', 'h']\n",
    "for sample_string in sample_strings:\n",
    "    result = first_and_last_two_chars(sample_string)\n",
    "    print(f\"Sample String: '{sample_string}', Expected Result: '{result}'\")\n"
   ]
  },
  {
   "cell_type": "code",
   "execution_count": 19,
   "id": "21455381",
   "metadata": {},
   "outputs": [],
   "source": [
    "# 11. Write a Python program to get a single string from two given strings, separated by a space\n",
    "# and swap the first two characters of each string.\n",
    "# Sample String: 'abc', 'xyz'\n",
    "# Expected Result: 'xyc abz'"
   ]
  },
  {
   "cell_type": "code",
   "execution_count": 20,
   "id": "a5fd42f5",
   "metadata": {},
   "outputs": [
    {
     "name": "stdout",
     "output_type": "stream",
     "text": [
      "xyc abz\n"
     ]
    }
   ],
   "source": [
    "def chars_mix_up(a, b):\n",
    "    new_a = b[:2] + a[2:]\n",
    "    new_b = a[:2] + b[2:]\n",
    "    return new_a + ' ' + new_b\n",
    "\n",
    "print(chars_mix_up('abc', 'xyz'))  "
   ]
  },
  {
   "cell_type": "code",
   "execution_count": 21,
   "id": "503a5f13",
   "metadata": {},
   "outputs": [],
   "source": [
    "# 12. Write a Python program to add 'ing' at the end of a given string (length should be at least 3).\n",
    "# If the given string is already ends with 'ing' then add 'ly' instead. If the string length of the\n",
    "# given string is less than 3, leave it unchanged.\n",
    "# Sample String: 'abc'\n",
    "# Expected Result: 'abcing'\n",
    "# Sample String: 'string'\n",
    "# Expected Result: 'stringly'"
   ]
  },
  {
   "cell_type": "code",
   "execution_count": 22,
   "id": "ae2492a0",
   "metadata": {},
   "outputs": [
    {
     "name": "stdout",
     "output_type": "stream",
     "text": [
      "abcing\n",
      "stringly\n"
     ]
    }
   ],
   "source": [
    "def add_string(str1):\n",
    "    length = len(str1)\n",
    "    if length > 2:\n",
    "        if str1[-3:] == 'ing':\n",
    "            str1 += 'ly'\n",
    "        else:\n",
    "            str1 += 'ing'\n",
    "        return str1\n",
    "      \n",
    "print(add_string('abc'))    \n",
    "print(add_string('string')) \n"
   ]
  },
  {
   "cell_type": "code",
   "execution_count": 23,
   "id": "e0591f59",
   "metadata": {},
   "outputs": [],
   "source": [
    "# 13. Write a Python program to test whether an input is an integer."
   ]
  },
  {
   "cell_type": "code",
   "execution_count": 24,
   "id": "c19f1e92",
   "metadata": {},
   "outputs": [
    {
     "name": "stdout",
     "output_type": "stream",
     "text": [
      "Enter a value: 45\n",
      "Input is an integer.\n"
     ]
    }
   ],
   "source": [
    "def is_integer(input_str):\n",
    "    return input_str.isdigit()\n",
    "\n",
    "# Example usage\n",
    "input_value = input(\"Enter a value: \")\n",
    "if is_integer(input_value):\n",
    "    print(\"Input is an integer.\")\n",
    "else:\n",
    "    print(\"Input is not an integer.\")\n"
   ]
  },
  {
   "cell_type": "code",
   "execution_count": 25,
   "id": "8dd7a10b",
   "metadata": {},
   "outputs": [],
   "source": [
    "# 14. Write a Python program to sort (ascending and descending) a dictionary by value."
   ]
  },
  {
   "cell_type": "code",
   "execution_count": 26,
   "id": "2e266162",
   "metadata": {},
   "outputs": [
    {
     "name": "stdout",
     "output_type": "stream",
     "text": [
      "Original dictionary :  {1: 2, 3: 4, 4: 3, 2: 1, 0: 0}\n",
      "Dictionary in ascending order by value :  [(0, 0), (2, 1), (1, 2), (4, 3), (3, 4)]\n",
      "Dictionary in descending order by value :  {3: 4, 4: 3, 1: 2, 2: 1, 0: 0}\n"
     ]
    }
   ],
   "source": [
    "import operator\n",
    "d = {1: 2, 3: 4, 4: 3, 2: 1, 0: 0}\n",
    "print('Original dictionary : ',d)\n",
    "\n",
    "sorted_d = sorted(d.items(), key=operator.itemgetter(1))\n",
    "print('Dictionary in ascending order by value : ',sorted_d)\n",
    "sorted_d = dict( sorted(d.items(), key=operator.itemgetter(1), reverse=True))\n",
    "print('Dictionary in descending order by value : ',sorted_d)  \n"
   ]
  },
  {
   "cell_type": "code",
   "execution_count": 27,
   "id": "ae448bbe",
   "metadata": {},
   "outputs": [],
   "source": [
    "# 15. Write a Python program to sort (ascending and descending) a dictionary by key value."
   ]
  },
  {
   "cell_type": "code",
   "execution_count": 28,
   "id": "9f06a5c2",
   "metadata": {},
   "outputs": [
    {
     "name": "stdout",
     "output_type": "stream",
     "text": [
      "Original dictionary :  {1: 2, 3: 4, 4: 3, 2: 1, 0: 0}\n",
      "Dictionary in ascending order by value :  [(0, 0), (2, 1), (1, 2), (4, 3), (3, 4)]\n",
      "Dictionary in descending order by value :  {3: 4, 4: 3, 1: 2, 2: 1, 0: 0}\n"
     ]
    }
   ],
   "source": [
    "import operator\n",
    "d = {1: 2, 3: 4, 4: 3, 2: 1, 0: 0}\n",
    "print('Original dictionary : ',d)\n",
    "\n",
    "sorted_d = sorted(d.items(), key=operator.itemgetter(1))\n",
    "print('Dictionary in ascending order by value : ',sorted_d)\n",
    "sorted_d = dict( sorted(d.items(), key=operator.itemgetter(1), reverse=True))\n",
    "print('Dictionary in descending order by value : ',sorted_d)  \n"
   ]
  },
  {
   "cell_type": "code",
   "execution_count": 29,
   "id": "d993173a",
   "metadata": {},
   "outputs": [],
   "source": [
    "# 16. Write a Python program to add key to a dictionary.\n",
    "# Sample Dictionary: {0: 10, 1: 20}\n",
    "# Expected Result: {0: 10, 1: 20, 2: 30}"
   ]
  },
  {
   "cell_type": "code",
   "execution_count": 30,
   "id": "7fdc559c",
   "metadata": {},
   "outputs": [
    {
     "name": "stdout",
     "output_type": "stream",
     "text": [
      "{0: 10, 1: 20}\n",
      "{0: 10, 1: 20, 2: 30}\n"
     ]
    }
   ],
   "source": [
    "d = {0: 10, 1: 20}\n",
    "print(d)\n",
    "d.update({2: 30})\n",
    "print(d) "
   ]
  },
  {
   "cell_type": "code",
   "execution_count": 31,
   "id": "bd5fa8d9",
   "metadata": {},
   "outputs": [],
   "source": [
    "# 17. Write a Python program to concatenate following dictionaries to create a new one.\n",
    "# Sample Dictionary:\n",
    "# dic1={1:10, 2:20}\n",
    "# dic2={3:30, 4:40}\n",
    "# dic3={5:50,6:60}\n",
    "# Expected Result: {1: 10, 2: 20, 3: 30, 4: 40, 5: 50, 6: 60}"
   ]
  },
  {
   "cell_type": "code",
   "execution_count": 32,
   "id": "8a61a7bf",
   "metadata": {},
   "outputs": [
    {
     "name": "stdout",
     "output_type": "stream",
     "text": [
      "{1: 10, 2: 20, 3: 30, 4: 40, 5: 50, 6: 60}\n"
     ]
    }
   ],
   "source": [
    "dic1 = {1: 10, 2: 20}\n",
    "dic2 = {3: 30, 4: 40}\n",
    "dic3 = {5: 50, 6: 60}\n",
    "\n",
    "dic4 = {}\n",
    "for d in (dic1, dic2, dic3):\n",
    "    dic4.update(d)\n",
    "\n",
    "print(dic4) \n"
   ]
  },
  {
   "cell_type": "code",
   "execution_count": 33,
   "id": "d209184d",
   "metadata": {},
   "outputs": [],
   "source": [
    "# 18. Write a Python program to check if a given key already exists in a dictionary."
   ]
  },
  {
   "cell_type": "code",
   "execution_count": 34,
   "id": "0282a628",
   "metadata": {},
   "outputs": [
    {
     "name": "stdout",
     "output_type": "stream",
     "text": [
      "Key is present in the dictionary\n",
      "Key is not present in the dictionary\n"
     ]
    }
   ],
   "source": [
    "d = {1: 10, 2: 20, 3: 30, 4: 40, 5: 50, 6: 60}\n",
    "\n",
    "def is_key_present(x):\n",
    "    if x in d:\n",
    "        print('Key is present in the dictionary')\n",
    "    else:\n",
    "        print('Key is not present in the dictionary')\n",
    "\n",
    "is_key_present(5)\n",
    "is_key_present(9) \n"
   ]
  },
  {
   "cell_type": "code",
   "execution_count": 35,
   "id": "7844b1e1",
   "metadata": {},
   "outputs": [],
   "source": [
    "# 19. Write a Python program to iterate over dictionaries using for loops."
   ]
  },
  {
   "cell_type": "code",
   "execution_count": 36,
   "id": "fa7cfda5",
   "metadata": {},
   "outputs": [
    {
     "name": "stdout",
     "output_type": "stream",
     "text": [
      "Red corresponds to  1\n",
      "Green corresponds to  2\n",
      "Blue corresponds to  3\n"
     ]
    }
   ],
   "source": [
    "d = {'Red': 1, 'Green': 2, 'Blue': 3}\n",
    "for color_key, value in d.items():\n",
    "    print(color_key, 'corresponds to ', d[color_key]) \n"
   ]
  },
  {
   "cell_type": "code",
   "execution_count": 37,
   "id": "6af3e654",
   "metadata": {},
   "outputs": [],
   "source": [
    "# 20. Write a Python program to remove duplicates from a list."
   ]
  },
  {
   "cell_type": "code",
   "execution_count": 38,
   "id": "0ef98069",
   "metadata": {},
   "outputs": [
    {
     "name": "stdout",
     "output_type": "stream",
     "text": [
      "{40, 10, 80, 50, 20, 60, 30}\n"
     ]
    }
   ],
   "source": [
    "a = [10, 20, 30, 20, 10, 50, 60, 40, 80, 50, 40]\n",
    "\n",
    "dup_items = set()\n",
    "uniq_items = []\n",
    "for x in a:\n",
    "    if x not in dup_items:\n",
    "        uniq_items.append(x)\n",
    "        dup_items.add(x)\n",
    "print(dup_items) "
   ]
  },
  {
   "cell_type": "code",
   "execution_count": 39,
   "id": "5ad29fa0",
   "metadata": {},
   "outputs": [],
   "source": [
    "# 21. Write a Python program to check a list is empty or not."
   ]
  },
  {
   "cell_type": "code",
   "execution_count": 40,
   "id": "c22769f8",
   "metadata": {},
   "outputs": [
    {
     "name": "stdout",
     "output_type": "stream",
     "text": [
      "List is empty\n"
     ]
    }
   ],
   "source": [
    "li = []\n",
    "if not li:\n",
    "     print(\"List is empty\")\n"
   ]
  },
  {
   "cell_type": "code",
   "execution_count": 41,
   "id": "baacd66d",
   "metadata": {},
   "outputs": [],
   "source": [
    "# 22. Write a Python program to clone or copy a list."
   ]
  },
  {
   "cell_type": "code",
   "execution_count": 42,
   "id": "af01c676",
   "metadata": {},
   "outputs": [
    {
     "name": "stdout",
     "output_type": "stream",
     "text": [
      "[10, 22, 44, 23, 4]\n",
      "[10, 22, 44, 23, 4]\n"
     ]
    }
   ],
   "source": [
    "original_list = [10, 22, 44, 23, 4]\n",
    "new_list = list(original_list)\n",
    "\n",
    "print(original_list)\n",
    "\n",
    "print(new_list)\n"
   ]
  },
  {
   "cell_type": "code",
   "execution_count": 43,
   "id": "793a326e",
   "metadata": {},
   "outputs": [],
   "source": [
    "# 23. Write a Python program to remove the nth index character from a non-empty string."
   ]
  },
  {
   "cell_type": "code",
   "execution_count": 44,
   "id": "653da43e",
   "metadata": {},
   "outputs": [
    {
     "name": "stdout",
     "output_type": "stream",
     "text": [
      "ython\n",
      "Pyton\n"
     ]
    }
   ],
   "source": [
    "def remove_char(str, n):\n",
    "    first_part = str[:n]\n",
    "    last_part = str[n+1:]\n",
    "    return first_part + last_part\n",
    "\n",
    "print(remove_char('Python', 0))  \n",
    "print(remove_char('Python', 3))  "
   ]
  },
  {
   "cell_type": "code",
   "execution_count": 45,
   "id": "fafdb96c",
   "metadata": {},
   "outputs": [],
   "source": [
    "# 24. Write a Python program to change a given string to a new string where the first and last chars\n",
    "# have been exchanged."
   ]
  },
  {
   "cell_type": "code",
   "execution_count": 46,
   "id": "36d7e0f2",
   "metadata": {},
   "outputs": [
    {
     "name": "stdout",
     "output_type": "stream",
     "text": [
      "dbca\n"
     ]
    }
   ],
   "source": [
    "def change_string(str1):\n",
    "    return str1[-1:] + str1[1:-1] + str1[:1]\n",
    "\n",
    "print(change_string('abcd'))     "
   ]
  },
  {
   "cell_type": "code",
   "execution_count": 47,
   "id": "6a3dc7c8",
   "metadata": {},
   "outputs": [],
   "source": [
    "# 25. Write a Python program to remove the characters which have odd index values of a given\n",
    "# string."
   ]
  },
  {
   "cell_type": "code",
   "execution_count": 48,
   "id": "1120bf7f",
   "metadata": {},
   "outputs": [
    {
     "name": "stdout",
     "output_type": "stream",
     "text": [
      "acdxf\n"
     ]
    }
   ],
   "source": [
    "def odd_values_string(str):\n",
    "    result = \"\"\n",
    "    \n",
    "    for i in range(len(str)):\n",
    "        if i % 2 == 0:\n",
    "            result = result + str[i]\n",
    "    \n",
    "    return result\n",
    "print(odd_values_string('abcddsxef'))  # Output: 'ace'"
   ]
  },
  {
   "cell_type": "code",
   "execution_count": 49,
   "id": "23ae1062",
   "metadata": {},
   "outputs": [],
   "source": [
    "# 26. Write a Python program to count the occurrences of each word in a given sentence."
   ]
  },
  {
   "cell_type": "code",
   "execution_count": 50,
   "id": "17d7ff1c",
   "metadata": {},
   "outputs": [
    {
     "name": "stdout",
     "output_type": "stream",
     "text": [
      "{'the': 2, 'quick': 1, 'brown': 1, 'fox': 1, 'jumps': 1, 'over': 1, 'lazy': 1, 'dog.': 1}\n"
     ]
    }
   ],
   "source": [
    "def word_count(str):\n",
    "    counts = dict()\n",
    "    \n",
    "    words = str.split()\n",
    "    for word in words:\n",
    "        if word in counts:\n",
    "            counts[word] += 1\n",
    "        else:\n",
    "            counts[word] = 1\n",
    "\n",
    "    return counts\n",
    "\n",
    "print( word_count('the quick brown fox jumps over the lazy dog.'))"
   ]
  },
  {
   "cell_type": "code",
   "execution_count": 51,
   "id": "a3df610f",
   "metadata": {},
   "outputs": [],
   "source": [
    "# 27. Write a Python program that takes two lists and returns True if they have at least one\n",
    "# common member."
   ]
  },
  {
   "cell_type": "code",
   "execution_count": 52,
   "id": "62a9ff53",
   "metadata": {},
   "outputs": [
    {
     "name": "stdout",
     "output_type": "stream",
     "text": [
      "True\n",
      "None\n"
     ]
    }
   ],
   "source": [
    "def common_data(list1, list2):\n",
    "    result = False\n",
    "\n",
    "    for x in list1:\n",
    "        for y in list2:\n",
    "            if x == y:\n",
    "                result = True\n",
    "                return result\n",
    "\n",
    "print(common_data([1, 2, 3, 4, 5], [5, 6, 7, 8, 9]))\n",
    "print(common_data([1, 2, 3, 4, 5], [6, 7, 8, 9])) "
   ]
  },
  {
   "cell_type": "code",
   "execution_count": 53,
   "id": "5c78a6e5",
   "metadata": {},
   "outputs": [],
   "source": [
    "# 28. Write a Python program to find those numbers which are divisible by 7 and multiple of 5,\n",
    "# between 1500 and 2700 (both included)."
   ]
  },
  {
   "cell_type": "code",
   "execution_count": 54,
   "id": "5c3e768a",
   "metadata": {},
   "outputs": [
    {
     "name": "stdout",
     "output_type": "stream",
     "text": [
      "1505,1540,1575,1610,1645,1680,1715,1750,1785,1820,1855,1890,1925,1960,1995,2030,2065,2100,2135,2170,2205,2240,2275,2310,2345,2380,2415,2450,2485,2520,2555,2590,2625,2660,2695\n"
     ]
    }
   ],
   "source": [
    "nl = []\n",
    "for x in range(1500, 2701):\n",
    "    if (x % 7 == 0) and (x % 5 == 0):\n",
    "        nl.append(str(x))\n",
    "\n",
    "print(','.join(nl))"
   ]
  },
  {
   "cell_type": "code",
   "execution_count": 55,
   "id": "c1fb7db9",
   "metadata": {},
   "outputs": [],
   "source": [
    "# 29. Write a Python program to convert temperatures to and from Celsius, Fahrenheit.\n",
    "# Formula: c / 5 = f - 32/9 [where c = temperature in Celsius and f = temperature in\n",
    "# Fahrenheit]\n",
    "# Expected Output:\n",
    "# 60°C is 140 in Fahrenheit\n",
    "# 45°F is 7 in Celsius"
   ]
  },
  {
   "cell_type": "code",
   "execution_count": 56,
   "id": "a7f1fadd",
   "metadata": {},
   "outputs": [
    {
     "name": "stdout",
     "output_type": "stream",
     "text": [
      "Input the temperature you like to convert? (e.g., 45F, 102C etc.) : 102C\n",
      "The temperature in Fahrenheit is 216 degrees.\n"
     ]
    }
   ],
   "source": [
    "temp = input(\"Input the temperature you like to convert? (e.g., 45F, 102C etc.) : \")\n",
    "degree = int(temp[:-1])\n",
    "\n",
    "i_convention = temp[-1]\n",
    "\n",
    "if i_convention.upper() == \"C\":\n",
    "    result = int(round((9 * degree) / 5 + 32))\n",
    "    o_convention = \"Fahrenheit\"  # Set the output convention as Fahrenheit\n",
    "elif i_convention.upper() == \"F\":\n",
    "    result = int(round((degree - 32) * 5 / 9))\n",
    "    o_convention = \"Celsius\"  # Set the output convention as Celsius\n",
    "else:\n",
    "    print(\"Input proper convention.\")\n",
    "    quit()\n",
    "\n",
    "print(\"The temperature in\", o_convention, \"is\", result, \"degrees.\") \n"
   ]
  },
  {
   "cell_type": "code",
   "execution_count": 57,
   "id": "81170518",
   "metadata": {},
   "outputs": [],
   "source": [
    "# 30. Write a Python program to guess a number between 1 to 9.\n",
    "# Note: User is prompted to enter a guess. If the user guesses wrong then the prompt appears\n",
    "# again until the guess is correct, on successful guess, user will get a \"Well guessed!\"\n",
    "# message, and the program will exit."
   ]
  },
  {
   "cell_type": "code",
   "execution_count": 58,
   "id": "2864df61",
   "metadata": {},
   "outputs": [
    {
     "name": "stdout",
     "output_type": "stream",
     "text": [
      "Guess a number between 1 and 10 until you get it right : 1\n",
      "Guess a number between 1 and 10 until you get it right : 2\n",
      "Guess a number between 1 and 10 until you get it right : 3\n",
      "Well guessed!\n"
     ]
    }
   ],
   "source": [
    "import random\n",
    "target_num, guess_num = random.randint(1, 10), 0\n",
    "while target_num != guess_num:\n",
    "    # Prompt the user to input a number between 1 and 10 and convert it to an integer\n",
    "    guess_num = int(input('Guess a number between 1 and 10 until you get it right : '))\n",
    "print('Well guessed!') "
   ]
  },
  {
   "cell_type": "code",
   "execution_count": 59,
   "id": "05f1d0de",
   "metadata": {},
   "outputs": [],
   "source": [
    "# 31. Write a Python program to construct the following pattern, using a nested for loop.\n",
    "# *\n",
    "# * *\n",
    "# * * *\n",
    "# * * * *\n",
    "# * * * * *\n",
    "# * * * *\n",
    "# * * *\n",
    "# * *\n",
    "# *"
   ]
  },
  {
   "cell_type": "code",
   "execution_count": 60,
   "id": "f70dd221",
   "metadata": {},
   "outputs": [
    {
     "name": "stdout",
     "output_type": "stream",
     "text": [
      "\n",
      "* \n",
      "* * \n",
      "* * * \n",
      "* * * * \n",
      "* * * * * \n",
      "* * * * \n",
      "* * * \n",
      "* * \n",
      "* \n"
     ]
    }
   ],
   "source": [
    "n = 5\n",
    "for i in range(n):\n",
    "    for j in range(i):\n",
    "        print('* ', end=\"\")\n",
    "    print('')\n",
    "for i in range(n, 0, -1):\n",
    "    for j in range(i):\n",
    "        print('* ', end=\"\")\n",
    "    print('') "
   ]
  },
  {
   "cell_type": "code",
   "execution_count": 61,
   "id": "ce5cefe3",
   "metadata": {},
   "outputs": [],
   "source": [
    "# 32. Write a Python program that accepts a word from the user and reverse it."
   ]
  },
  {
   "cell_type": "code",
   "execution_count": 62,
   "id": "f111217a",
   "metadata": {},
   "outputs": [
    {
     "name": "stdout",
     "output_type": "stream",
     "text": [
      "Input a word to reverse: siom\n",
      "mois\n",
      "\n"
     ]
    }
   ],
   "source": [
    "word = input(\"Input a word to reverse: \")\n",
    "for char in range(len(word) - 1, -1, -1):\n",
    "    print(word[char], end=\"\")\n",
    "print(\"\\n\")"
   ]
  },
  {
   "cell_type": "code",
   "execution_count": 63,
   "id": "9e0990ef",
   "metadata": {},
   "outputs": [],
   "source": [
    "# 33. Write a Python program to count the number of even and odd numbers from a series of\n",
    "# numbers.\n",
    "# Sample numbers: numbers = (1, 2, 3, 4, 5, 6, 7, 8, 9)\n",
    "# Expected Output:\n",
    "# Number of even numbers: 5\n",
    "# Number of odd numbers: 4"
   ]
  },
  {
   "cell_type": "code",
   "execution_count": 64,
   "id": "1448a662",
   "metadata": {},
   "outputs": [
    {
     "name": "stdout",
     "output_type": "stream",
     "text": [
      "Number of even numbers: 4\n",
      "Number of odd numbers: 5\n"
     ]
    }
   ],
   "source": [
    "numbers = (1, 2, 3, 4, 5, 6, 7, 8, 9)\n",
    "count_odd = 0\n",
    "count_even = 0\n",
    "\n",
    "for x in numbers:\n",
    "    if not x % 2:  # If 'x' modulo 2 equals 0, it's even\n",
    "        count_even += 1\n",
    "    else:\n",
    "        count_odd += 1\n",
    "\n",
    "print(\"Number of even numbers:\", count_even)\n",
    "print(\"Number of odd numbers:\", count_odd) "
   ]
  },
  {
   "cell_type": "code",
   "execution_count": 65,
   "id": "eea47cdf",
   "metadata": {},
   "outputs": [],
   "source": [
    "# 34. Write a Python program that prints all the numbers from 0 to 6 except 3 and 6.\n",
    "# Note: Use ‘continue’ statement.\n",
    "# Expected Output: 0 1 2 4 5"
   ]
  },
  {
   "cell_type": "code",
   "execution_count": 66,
   "id": "0509532e",
   "metadata": {},
   "outputs": [
    {
     "name": "stdout",
     "output_type": "stream",
     "text": [
      "0 1 2 4 5 "
     ]
    }
   ],
   "source": [
    "for x in range(6):\n",
    "    if (x == 3 or x == 6):\n",
    "        continue\n",
    "    print(x, end=' ')"
   ]
  },
  {
   "cell_type": "code",
   "execution_count": 67,
   "id": "be092675",
   "metadata": {},
   "outputs": [],
   "source": [
    "# 35. Write a Python program to get the Fibonacci series between 0 to 50.\n",
    "# Note: The Fibonacci Sequence is the series of numbers:\n",
    "# 0, 1, 1, 2, 3, 5, 8, 13, 21, ....\n",
    "# Every next number is found by adding up the two numbers before it.\n",
    "# Expected Output: 1 1 2 3 5 8 13 21 34"
   ]
  },
  {
   "cell_type": "code",
   "execution_count": 68,
   "id": "c401f4c1",
   "metadata": {},
   "outputs": [
    {
     "name": "stdout",
     "output_type": "stream",
     "text": [
      "1\n",
      "1\n",
      "2\n",
      "3\n",
      "5\n",
      "8\n",
      "13\n",
      "21\n",
      "34\n"
     ]
    }
   ],
   "source": [
    "x, y = 0, 1\n",
    "while y < 50:\n",
    "    print(y)\n",
    "    x, y = y, x + y"
   ]
  },
  {
   "cell_type": "code",
   "execution_count": 69,
   "id": "3c4cc266",
   "metadata": {},
   "outputs": [],
   "source": [
    "# 36. Write a Python program which iterates the integers from 1 to 50. For multiples of three print\n",
    "# \"Fizz\" instead of the number and for the multiples of five print \"Buzz\". For numbers which\n",
    "# are multiples of both three and five print \"FizzBuzz\".\n",
    "# Sample Output:\n",
    "# 1\n",
    "# 2\n",
    "# Fizz\n",
    "# 4\n",
    "# Buzz"
   ]
  },
  {
   "cell_type": "code",
   "execution_count": 70,
   "id": "8b959636",
   "metadata": {},
   "outputs": [
    {
     "name": "stdout",
     "output_type": "stream",
     "text": [
      "fizzbuzz\n",
      "1\n",
      "2\n",
      "fizz\n",
      "4\n",
      "buzz\n",
      "fizz\n",
      "7\n",
      "8\n",
      "fizz\n",
      "buzz\n",
      "11\n",
      "fizz\n",
      "13\n",
      "14\n",
      "fizzbuzz\n",
      "16\n",
      "17\n",
      "fizz\n",
      "19\n",
      "buzz\n",
      "fizz\n",
      "22\n",
      "23\n",
      "fizz\n",
      "buzz\n",
      "26\n",
      "fizz\n",
      "28\n",
      "29\n",
      "fizzbuzz\n",
      "31\n",
      "32\n",
      "fizz\n",
      "34\n",
      "buzz\n",
      "fizz\n",
      "37\n",
      "38\n",
      "fizz\n",
      "buzz\n",
      "41\n",
      "fizz\n",
      "43\n",
      "44\n",
      "fizzbuzz\n",
      "46\n",
      "47\n",
      "fizz\n",
      "49\n",
      "buzz\n"
     ]
    }
   ],
   "source": [
    "for fizzbuzz in range(51):\n",
    "    if fizzbuzz % 3 == 0 and fizzbuzz % 5 == 0:\n",
    "        print(\"fizzbuzz\")\n",
    "        continue\n",
    "    elif fizzbuzz % 3 == 0:\n",
    "        print(\"fizz\")\n",
    "        continue\n",
    "    elif fizzbuzz % 5 == 0:\n",
    "        print(\"buzz\")\n",
    "        continue\n",
    "    print(fizzbuzz) "
   ]
  },
  {
   "cell_type": "code",
   "execution_count": 71,
   "id": "1e6cf18a",
   "metadata": {},
   "outputs": [],
   "source": [
    "# 37. Write a Python program which takes two digits m (row) and n (column) as input and\n",
    "# generates a two-dimensional array. The element value in the i-th row and j-th column of\n",
    "# the array should be i*j.\n",
    "# Note:\n",
    "# i = 0,1.., m-1\n",
    "# j = 0,1, n-1.\n",
    "# Test Data: Rows = 3, Columns = 4\n",
    "# Expected Result: [[0, 0, 0, 0], [0, 1, 2, 3], [0, 2, 4, 6]]"
   ]
  },
  {
   "cell_type": "code",
   "execution_count": 72,
   "id": "08b00e7a",
   "metadata": {},
   "outputs": [
    {
     "name": "stdout",
     "output_type": "stream",
     "text": [
      "Input number of rows: 3\n",
      "Input number of columns: 4\n",
      "[[0, 0, 0, 0], [0, 1, 2, 3], [0, 2, 4, 6]]\n"
     ]
    }
   ],
   "source": [
    "row_num = int(input(\"Input number of rows: \"))\n",
    "col_num = int(input(\"Input number of columns: \"))\n",
    "multi_list = [[0 for col in range(col_num)] for row in range(row_num)]\n",
    "\n",
    "for row in range(row_num):\n",
    "    for col in range(col_num):\n",
    "        multi_list[row][col] = row * col\n",
    "print(multi_list) "
   ]
  },
  {
   "cell_type": "code",
   "execution_count": 73,
   "id": "0f4141a0",
   "metadata": {},
   "outputs": [],
   "source": [
    "# 38. Write a Python program that accepts a string and calculate the number of digits and letters.\n",
    "# Sample Data: Python 3.2\n",
    "# Expected Output:\n",
    "# Letters 6\n",
    "# Digits 2"
   ]
  },
  {
   "cell_type": "code",
   "execution_count": 74,
   "id": "b7412be1",
   "metadata": {},
   "outputs": [
    {
     "name": "stdout",
     "output_type": "stream",
     "text": [
      "Input a stringPython 3.2\n",
      "Letters 6\n",
      "Digits 2\n"
     ]
    }
   ],
   "source": [
    "s = input(\"Input a string\")\n",
    "d = l = 0\n",
    "for c in s:\n",
    "    if c.isdigit():\n",
    "        d = d + 1\n",
    "    elif c.isalpha():\n",
    "        l = l + 1\n",
    "    else:\n",
    "        pass\n",
    "\n",
    "print(\"Letters\", l)\n",
    "print(\"Digits\", d)"
   ]
  },
  {
   "cell_type": "code",
   "execution_count": 75,
   "id": "8960f8a8",
   "metadata": {},
   "outputs": [],
   "source": [
    "# 39. Write a Python program to check the validity of password input by users.\n",
    "# Validation:\n",
    "# - At least 1 letter between [a-z] and 1 letter between [A-Z].\n",
    "# - At least 1 number between [0-9].\n",
    "# - At least 1 character from [$#@].\n",
    "# - Minimum length 6 characters.\n",
    "# - Maximum length 16 characters."
   ]
  },
  {
   "cell_type": "code",
   "execution_count": 76,
   "id": "f5d7444a",
   "metadata": {},
   "outputs": [
    {
     "name": "stdout",
     "output_type": "stream",
     "text": [
      "Input your password: Atharva@123\n",
      "Valid Password\n"
     ]
    }
   ],
   "source": [
    "import re\n",
    "p = input(\"Input your password: \")\n",
    "x = True\n",
    "while x:  \n",
    "    if (len(p) < 6 or len(p) > 12):\n",
    "        break\n",
    "    elif not re.search(\"[a-z]\", p):\n",
    "        break\n",
    "    elif not re.search(\"[0-9]\", p):\n",
    "        break\n",
    "    elif not re.search(\"[A-Z]\", p):\n",
    "        break\n",
    "    elif not re.search(\"[$#@]\", p):\n",
    "        break\n",
    "    elif re.search(\"\\s\", p):\n",
    "        break\n",
    "    else:\n",
    "        print(\"Valid Password\")\n",
    "        x = False\n",
    "        break\n",
    "\n",
    "if x:\n",
    "    print(\"Not a Valid Password\")"
   ]
  },
  {
   "cell_type": "code",
   "execution_count": 77,
   "id": "67094578",
   "metadata": {},
   "outputs": [],
   "source": [
    "# 40. Write a Python program to create the multiplication table (from 1 to 10) of a number.\n",
    "# Expected Output:\n",
    "# Input a number: 6\n",
    "# 6x1=6\n",
    "# 6 x 2 = 12\n",
    "# 6 x 3 = 18\n",
    "# 6 x 4 = 24\n",
    "# 6 x 5 = 30\n",
    "# 6 x 6 = 36\n",
    "# 6 x 7 = 42\n",
    "# 6 x 8 = 48\n",
    "# 6 x 9 = 54\n",
    "# 6 x 10 = 60"
   ]
  },
  {
   "cell_type": "code",
   "execution_count": 78,
   "id": "cbb9a736",
   "metadata": {},
   "outputs": [
    {
     "name": "stdout",
     "output_type": "stream",
     "text": [
      "Input a number: 6\n",
      "6 x 1 = 6\n",
      "6 x 2 = 12\n",
      "6 x 3 = 18\n",
      "6 x 4 = 24\n",
      "6 x 5 = 30\n",
      "6 x 6 = 36\n",
      "6 x 7 = 42\n",
      "6 x 8 = 48\n",
      "6 x 9 = 54\n",
      "6 x 10 = 60\n"
     ]
    }
   ],
   "source": [
    "n = int(input(\"Input a number: \"))\n",
    "for i in range(1, 11):\n",
    "    print(n, 'x', i, '=', n * i)"
   ]
  },
  {
   "cell_type": "code",
   "execution_count": 79,
   "id": "52add2b0",
   "metadata": {},
   "outputs": [],
   "source": [
    "# 41. Given an array A of N numbers (integers), you have to write a program which prints the sum\n",
    "# of the elements of array A with the corresponding elements of the reverse of array A.\n",
    "# If array A has elements [1, 2, 3], then reverse of the array A will be [3, 2, 1] and the resultant\n",
    "# array should be [4, 4, 4]."
   ]
  },
  {
   "cell_type": "code",
   "execution_count": 80,
   "id": "2f7296df",
   "metadata": {},
   "outputs": [
    {
     "name": "stdout",
     "output_type": "stream",
     "text": [
      "Original array: [1, 2, 3]\n",
      "Reversed array: [3, 2, 1]\n",
      "Resultant array: [4, 4, 4]\n"
     ]
    }
   ],
   "source": [
    "def sum_with_reverse(array):\n",
    "    reversed_array = array[::-1]\n",
    "    result = [array[i] + reversed_array[i] for i in range(len(array))]\n",
    "    \n",
    "    return result, reversed_array\n",
    "array = [1, 2, 3]\n",
    "result, reversed_array = sum_with_reverse(array)\n",
    "print(\"Original array:\", array)\n",
    "print(\"Reversed array:\", reversed_array)\n",
    "print(\"Resultant array:\", result)"
   ]
  },
  {
   "cell_type": "code",
   "execution_count": 81,
   "id": "d8f138d2",
   "metadata": {},
   "outputs": [],
   "source": [
    "# 42. Given a list of numbers (integers), find second maximum and second minimum in this list.\n",
    "# Input Format:\n",
    "# The first line contains numbers separated by a space.\n",
    "# Output Format:\n",
    "# Print second maximum and second minimum separated by a space\n",
    "# Example:\n",
    "# Input: 1 2 3 4 5\n",
    "# Output: 4 2"
   ]
  },
  {
   "cell_type": "code",
   "execution_count": 82,
   "id": "a32ca8fc",
   "metadata": {},
   "outputs": [
    {
     "name": "stdout",
     "output_type": "stream",
     "text": [
      "Input: 1 2 3 4 5\n",
      "Output: 4 2\n"
     ]
    }
   ],
   "source": [
    "def find_second_max_min(numbers):\n",
    "    numbers = [int(x) for x in numbers.split()]\n",
    "    sorted_numbers = sorted(numbers)\n",
    "    second_max = sorted_numbers[-2]\n",
    "    second_min = sorted_numbers[1]\n",
    "    return second_max, second_min\n",
    "input_numbers = input(\"Input: \")\n",
    "second_max, second_min = find_second_max_min(input_numbers)\n",
    "print(\"Output:\", second_max, second_min)"
   ]
  },
  {
   "cell_type": "code",
   "execution_count": 83,
   "id": "4d74dead",
   "metadata": {},
   "outputs": [],
   "source": [
    "# 43. Given a positive integer number n, you have to write a program that generates a\n",
    "# dictionary d which contains (i, i*i*i) such that i is the key and i*i*i is its value, where i is\n",
    "# from 1 to n (both included).\n",
    "# Then you have to just print this dictionary d.\n",
    "# Example:\n",
    "# Input: 4\n",
    "# will give output as\n",
    "# {1: 1, 2: 8, 3: 27, 4: 64}"
   ]
  },
  {
   "cell_type": "code",
   "execution_count": 84,
   "id": "d8f28ae3",
   "metadata": {},
   "outputs": [
    {
     "name": "stdout",
     "output_type": "stream",
     "text": [
      "Input: 4\n",
      "Output: {1: 1, 2: 8, 3: 27, 4: 64}\n"
     ]
    }
   ],
   "source": [
    "def generate_cube(n):\n",
    "    cube_dict = {}  # Initialize an empty dictionary\n",
    "    for i in range(1, n + 1):\n",
    "        cube_dict[i] = i * i * i\n",
    "    \n",
    "    return cube_dict\n",
    "\n",
    "input_number = int(input(\"Input: \"))\n",
    "result_dict = generate_cube(input_number)\n",
    "print(\"Output:\", result_dict)"
   ]
  },
  {
   "cell_type": "code",
   "execution_count": null,
   "id": "abfbd35b",
   "metadata": {},
   "outputs": [],
   "source": [
    "# 44. Write a Python program to calculate the sum and average of n integer numbers (input from\n",
    "# the user). Input 0 to finish."
   ]
  },
  {
   "cell_type": "code",
   "execution_count": 86,
   "id": "1c494abb",
   "metadata": {},
   "outputs": [
    {
     "name": "stdout",
     "output_type": "stream",
     "text": [
      "Enter an integer (0 to finish): 2\n",
      "Enter an integer (0 to finish): 1\n",
      "Enter an integer (0 to finish): 0\n",
      "Sum of the numbers: 3\n",
      "Average of the numbers: 1.5\n"
     ]
    }
   ],
   "source": [
    "def calculate_sum_and_average():\n",
    "    numbers = []\n",
    "    while True:\n",
    "        num = int(input(\"Enter an integer (0 to finish): \"))\n",
    "        if num == 0:\n",
    "            break\n",
    "        numbers.append(num)\n",
    "    total = sum(numbers)\n",
    "    average = total / len(numbers) if numbers else 0\n",
    "    \n",
    "    return total, average\n",
    "sum_result, average_result = calculate_sum_and_average()\n",
    "print(\"Sum of the numbers:\", sum_result)\n",
    "print(\"Average of the numbers:\", average_result)"
   ]
  },
  {
   "cell_type": "code",
   "execution_count": 87,
   "id": "92c3689a",
   "metadata": {},
   "outputs": [],
   "source": [
    "# 45. Write a Python program to construct the following pattern, using a nested loop number.\n",
    "# Expected Output:\n",
    "# 1\n",
    "# 22\n",
    "# 333\n",
    "# 4444\n",
    "# 55555"
   ]
  },
  {
   "cell_type": "code",
   "execution_count": 88,
   "id": "9f44692f",
   "metadata": {},
   "outputs": [
    {
     "name": "stdout",
     "output_type": "stream",
     "text": [
      "\n",
      "1\n",
      "22\n",
      "333\n",
      "4444\n",
      "55555\n"
     ]
    }
   ],
   "source": [
    "for i in range(6):\n",
    "    print(str(i) * i)"
   ]
  },
  {
   "cell_type": "code",
   "execution_count": 89,
   "id": "b6c6d2a8",
   "metadata": {},
   "outputs": [],
   "source": [
    "# 46. A Lower triangular matrix is a square matrix (where the number of rows and columns are\n",
    "# equal) where all the elements above the diagonal are zero.\n",
    "# For example, the following is lower triangular matrix with the number of rows and columns\n",
    "# equal to 3.\n",
    "# 100\n",
    "# 450\n",
    "# 789\n",
    "\n",
    "# Write a program to convert a square matrix into a lower triangular matrix.\n",
    "# Input Format:\n",
    "# The first line of the input contains an integer number n which represents the number of rows\n",
    "# and the number of columns.\n",
    "# From the second line, take n lines input with each line containing n integer elements.\n",
    "\n",
    "# Elements are separated by space.\n",
    "# Output format:\n",
    "# Print the elements of the matrix with each row in a new line and each element separated by a\n",
    "# space.\n",
    "\n",
    "# Example 1:\n",
    "# Input:\n",
    "# 3\n",
    "# 123\n",
    "# 456\n",
    "# 789\n",
    "# Output:\n",
    "# 100\n",
    "# 450\n",
    "# 789"
   ]
  },
  {
   "cell_type": "code",
   "execution_count": 95,
   "id": "2477074b",
   "metadata": {
    "scrolled": true
   },
   "outputs": [
    {
     "name": "stdout",
     "output_type": "stream",
     "text": [
      "3\n",
      "1 2 3\n",
      "4 5 6\n",
      "7 8 9\n",
      "1 0 0\n",
      "4 5 0\n",
      "7 8 9\n"
     ]
    }
   ],
   "source": [
    "def convert_to_lower_triangular(matrix):\n",
    "    n = len(matrix)\n",
    "    for i in range(n):\n",
    "        for j in range(i + 1, n):\n",
    "            matrix[i][j] = 0\n",
    "    return matrix\n",
    "\n",
    "n = int(input())\n",
    "matrix = []\n",
    "for _ in range(n):\n",
    "    row = list(map(int, input().split()))\n",
    "    matrix.append(row)\n",
    "\n",
    "lower_triangular_matrix = convert_to_lower_triangular(matrix)\n",
    "\n",
    "for row in lower_triangular_matrix:\n",
    "    print(*row)\n"
   ]
  },
  {
   "cell_type": "code",
   "execution_count": null,
   "id": "6a7074c1",
   "metadata": {},
   "outputs": [],
   "source": [
    "# 47. An Upper triangular matrix is a square matrix (where the number of rows and columns are\n",
    "# equal) where all the elements below the diagonal are zero.\n",
    "# For example, the following is an upper triangular matrix with the number of rows and\n",
    "# columns equal to 3.\n",
    "# 123\n",
    "# 056\n",
    "# 009\n",
    "\n",
    "# Write a program to convert a square matrix into an upper triangular matrix.\n",
    "# Input Format:\n",
    "# The first line of the input contains an integer number n which represents the number of rows\n",
    "# and the number of columns.\n",
    "# From the second line, take n lines input with each line containing n integer elements.\n",
    "# Elements are separated by space.\n",
    "# Output format:\n",
    "# Print the elements of the matrix with each row in a new line and each element separated by a\n",
    "# space.\n",
    "# Example 1:\n",
    "\n",
    "# Input:\n",
    "# 3\n",
    "# 123\n",
    "# 456\n",
    "# 789\n",
    "# Output:\n",
    "# 123\n",
    "# 056\n",
    "# 009\n"
   ]
  },
  {
   "cell_type": "code",
   "execution_count": 96,
   "id": "65e6d177",
   "metadata": {},
   "outputs": [
    {
     "name": "stdout",
     "output_type": "stream",
     "text": [
      "Enter the number of rows/columns: 3\n",
      "Enter the elements of the matrix:\n",
      "1 2 3\n",
      "4 5 6\n",
      "7 8 9\n",
      "Upper Triangular Matrix:\n",
      "1 2 3\n",
      "0 5 6\n",
      "0 0 9\n"
     ]
    }
   ],
   "source": [
    "def upper_triangular_matrix(matrix):\n",
    "    n = len(matrix)\n",
    "    upper_triangular = [[0] * n for _ in range(n)]\n",
    "    for i in range(n):\n",
    "        for j in range(i, n):\n",
    "            upper_triangular[i][j] = matrix[i][j]\n",
    "    return upper_triangular\n",
    "\n",
    "def print_matrix(matrix):\n",
    "    for row in matrix:\n",
    "        print(\" \".join(map(str, row)))\n",
    "n = int(input(\"Enter the number of rows/columns: \"))\n",
    "print(\"Enter the elements of the matrix:\")\n",
    "matrix = [list(map(int, input().split())) for _ in range(n)]\n",
    "\n",
    "upper_triangular = upper_triangular_matrix(matrix)\n",
    "print(\"Upper Triangular Matrix:\")\n",
    "print_matrix(upper_triangular)"
   ]
  },
  {
   "cell_type": "code",
   "execution_count": null,
   "id": "05a3aafd",
   "metadata": {},
   "outputs": [],
   "source": [
    "# 48. Given a matrix with N rows and M columns, the task is to check if the matrix is a Binary\n",
    "# Matrix. A binary matrix is a matrix in which all the elements are either 0 or 1.\n",
    "# Input Format:\n",
    "# The first line of the input contains two integer number N and M which represents the number\n",
    "# of rows and the number of columns respectively, separated by a space.\n",
    "# From the second line, take N lines input with each line containing M integer elements with\n",
    "# each element separated by a space.\n",
    "# Output Format:\n",
    "# Print 'YES' or 'NO' accordingly\n",
    "# Example:\n",
    "# Input:\n",
    "# 33\n",
    "# 100\n",
    "# 001\n",
    "# 110\n",
    "# Output:\n",
    "# YES"
   ]
  },
  {
   "cell_type": "code",
   "execution_count": 98,
   "id": "79b69e7f",
   "metadata": {},
   "outputs": [
    {
     "name": "stdout",
     "output_type": "stream",
     "text": [
      "3 3\n",
      "1 0 0\n",
      "0 0 1\n",
      "1 1 0\n",
      "YES\n"
     ]
    }
   ],
   "source": [
    "def isBinaryMatrix(matrix):\n",
    "    for row in matrix:\n",
    "        for element in row:\n",
    "            if element != 0 and element != 1:\n",
    "                return False\n",
    "    return True\n",
    "N, M = map(int, input().split())\n",
    "matrix = [list(map(int, input().split())) for _ in range(N)]\n",
    "\n",
    "if isBinaryMatrix(matrix):\n",
    "    print(\"YES\")\n",
    "else:\n",
    "    print(\"NO\")"
   ]
  },
  {
   "cell_type": "code",
   "execution_count": 99,
   "id": "5cb7b62b",
   "metadata": {},
   "outputs": [],
   "source": [
    "# 49. A panagram is a sentence containing every 26 letters in the English alphabet. Given a\n",
    "# string S, check if it is panagram or not.\n",
    "# Input Format:\n",
    "# The first line contains the sentence S.\n",
    "# Output Format:\n",
    "\n",
    "# Print 'YES' or 'NO' accordingly\n",
    "# Example:\n",
    "# Input:\n",
    "# The quick brown fox jumps over the lazy dog\n",
    "\n",
    "# Output:\n",
    "# YES"
   ]
  },
  {
   "cell_type": "code",
   "execution_count": 100,
   "id": "56dc1443",
   "metadata": {},
   "outputs": [
    {
     "name": "stdout",
     "output_type": "stream",
     "text": [
      "Enter the sentence: The quick brown fox jumps over the lazy dog\n",
      "YES\n"
     ]
    }
   ],
   "source": [
    "def is_pangram(sentence):\n",
    "    alphabet = \"abcdefghijklmnopqrstuvwxyz\"\n",
    "    for letter in alphabet:\n",
    "        if letter not in sentence.lower():\n",
    "            return False\n",
    "    return True\n",
    "sentence = input(\"Enter the sentence: \")\n",
    "if is_pangram(sentence):\n",
    "    print(\"YES\")\n",
    "else:\n",
    "    print(\"NO\")"
   ]
  },
  {
   "cell_type": "code",
   "execution_count": 101,
   "id": "ca05d0c7",
   "metadata": {},
   "outputs": [],
   "source": [
    "# 50. Given a list of n-1 numbers ranging from 1 to n, your task is to find the missing number.\n",
    "# There are no duplicates.\n",
    "# Input Format:\n",
    "# The first line contains n-1 numbers with each number separated by a space.\n",
    "# Output Format:\n",
    "# Print the missing number\n",
    "# Example:\n",
    "# Input:\n",
    "# 1246378\n",
    "# Output:\n",
    "# 5"
   ]
  },
  {
   "cell_type": "code",
   "execution_count": 102,
   "id": "a53091e7",
   "metadata": {},
   "outputs": [
    {
     "name": "stdout",
     "output_type": "stream",
     "text": [
      "1 2 3 4 5 6 7 8\n",
      "Missing number: 9\n"
     ]
    }
   ],
   "source": [
    "def findMissingNum(numbers):\n",
    "    n = len(numbers) + 1\n",
    "    expected_sum = n * (n + 1) // 2\n",
    "    actual_sum = sum(numbers)\n",
    "    missing_number = expected_sum - actual_sum\n",
    "    return missing_number\n",
    "numbers = list(map(int, input().split()))\n",
    "print(\"Missing number:\", findMissingNum(numbers))"
   ]
  }
 ],
 "metadata": {
  "kernelspec": {
   "display_name": "Python 3 (ipykernel)",
   "language": "python",
   "name": "python3"
  },
  "language_info": {
   "codemirror_mode": {
    "name": "ipython",
    "version": 3
   },
   "file_extension": ".py",
   "mimetype": "text/x-python",
   "name": "python",
   "nbconvert_exporter": "python",
   "pygments_lexer": "ipython3",
   "version": "3.11.5"
  }
 },
 "nbformat": 4,
 "nbformat_minor": 5
}
