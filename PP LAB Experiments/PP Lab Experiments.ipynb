{
 "cells": [
  {
   "cell_type": "code",
   "execution_count": 12,
   "id": "f6887909",
   "metadata": {},
   "outputs": [
    {
     "name": "stdout",
     "output_type": "stream",
     "text": [
      "Enter a number: 153\n",
      "153 is an Armstrong number.\n"
     ]
    }
   ],
   "source": [
    "# Task 1: Armstrong Number\n",
    "def is_armstrong_number(num):\n",
    "    sum = 0\n",
    "    temp = num\n",
    "    while temp > 0:\n",
    "        digit = temp % 10\n",
    "        sum += digit ** 3\n",
    "        temp //= 10\n",
    "    return num == sum\n",
    "\n",
    "x = int(input(\"Enter a number: \"))\n",
    "if is_armstrong_number(x):\n",
    "    print(f\"{x} is an Armstrong number.\")\n",
    "else:\n",
    "    print(f\"{x} is not an Armstrong number.\")"
   ]
  },
  {
   "cell_type": "code",
   "execution_count": 1,
   "id": "976f7080",
   "metadata": {},
   "outputs": [
    {
     "name": "stdout",
     "output_type": "stream",
     "text": [
      "Enter a string: Atharva\n",
      "Number of vowels in 'Atharva' is: 3\n"
     ]
    }
   ],
   "source": [
    "# Task 2: Counting Vowels\n",
    "def count_vowels(string):\n",
    "    vowels = 'aeiou'\n",
    "    count = 0\n",
    "    for char in string:\n",
    "        if char.lower() in vowels:\n",
    "            count += 1\n",
    "    return count\n",
    "\n",
    "str1 = input(\"Enter a string: \")\n",
    "print(f\"Number of vowels in '{str1}' is: {count_vowels(str1)}\")\n",
    "\n"
   ]
  },
  {
   "cell_type": "code",
   "execution_count": 2,
   "id": "868d9746",
   "metadata": {},
   "outputs": [
    {
     "name": "stdout",
     "output_type": "stream",
     "text": [
      "[2000, 2002, 2004, 2006, 2008, 2020, 2022, 2024, 2026, 2028, 2040, 2042, 2044, 2046, 2048, 2060, 2062, 2064, 2066, 2068, 2080, 2082, 2084, 2086, 2088, 2200, 2202, 2204, 2206, 2208, 2220, 2222, 2224, 2226, 2228, 2240, 2242, 2244, 2246, 2248, 2260, 2262, 2264, 2266, 2268, 2280, 2282, 2284, 2286, 2288, 2400, 2402, 2404, 2406, 2408, 2420, 2422, 2424, 2426, 2428, 2440, 2442, 2444, 2446, 2448, 2460, 2462, 2464, 2466, 2468, 2480, 2482, 2484, 2486, 2488, 2600, 2602, 2604, 2606, 2608, 2620, 2622, 2624, 2626, 2628, 2640, 2642, 2644, 2646, 2648, 2660, 2662, 2664, 2666, 2668, 2680, 2682, 2684, 2686, 2688, 2800, 2802, 2804, 2806, 2808, 2820, 2822, 2824, 2826, 2828, 2840, 2842, 2844, 2846, 2848, 2860, 2862, 2864, 2866, 2868, 2880, 2882, 2884, 2886, 2888]\n"
     ]
    }
   ],
   "source": [
    "# Task 3: Even Digit Numbers\n",
    "even_digit_numbers = [i for i in range(2000, 3001) if all(int(digit) % 2 == 0 for digit in str(i))]\n",
    "print(even_digit_numbers)"
   ]
  },
  {
   "cell_type": "code",
   "execution_count": 3,
   "id": "bcab5dac",
   "metadata": {},
   "outputs": [
    {
     "name": "stdout",
     "output_type": "stream",
     "text": [
      "Enter a sentence: gello world ! 123\n",
      "ALPHABETS 10 DIGITS 3\n"
     ]
    }
   ],
   "source": [
    "# Task 4: Counting Letters and Digits\n",
    "def count_letters_digits(sentence):\n",
    "    letters = sum(c.isalpha() for c in sentence)\n",
    "    digits = sum(c.isdigit() for c in sentence)\n",
    "    return letters, digits\n",
    "\n",
    "sentence = input(\"Enter a sentence: \")\n",
    "letters, digits = count_letters_digits(sentence)\n",
    "print(f\"ALPHABETS {letters} DIGITS {digits}\")\n",
    "\n"
   ]
  },
  {
   "cell_type": "code",
   "execution_count": 4,
   "id": "76bdd984",
   "metadata": {},
   "outputs": [
    {
     "name": "stdout",
     "output_type": "stream",
     "text": [
      "[1, 2, 3, 4, 5]\n"
     ]
    }
   ],
   "source": [
    "# Task 5: Unique Elements\n",
    "def unique_elements(lst):\n",
    "    return list(set(lst))\n",
    "\n",
    "sample_list = [1, 2, 3, 3, 3, 3, 4, 5]\n",
    "print(unique_elements(sample_list))\n",
    "\n"
   ]
  },
  {
   "cell_type": "code",
   "execution_count": 5,
   "id": "4cf1018f",
   "metadata": {},
   "outputs": [
    {
     "name": "stdout",
     "output_type": "stream",
     "text": [
      "<b><i><u>hello world</u></i></b>\n"
     ]
    }
   ],
   "source": [
    "# Task 6: Chain of Decorators\n",
    "def make_bold(func):\n",
    "    def wrapped():\n",
    "        return \"<b>\" + func() + \"</b>\"\n",
    "    return wrapped\n",
    "\n",
    "def make_italic(func):\n",
    "    def wrapped():\n",
    "        return \"<i>\" + func() + \"</i>\"\n",
    "    return wrapped\n",
    "\n",
    "def make_underline(func):\n",
    "    def wrapped():\n",
    "        return \"<u>\" + func() + \"</u>\"\n",
    "    return wrapped\n",
    "\n",
    "@make_bold\n",
    "@make_italic\n",
    "@make_underline\n",
    "def hello():\n",
    "    return \"hello world\"\n",
    "\n",
    "print(hello())\n",
    "\n"
   ]
  },
  {
   "cell_type": "code",
   "execution_count": 2,
   "id": "375b18bb",
   "metadata": {},
   "outputs": [
    {
     "name": "stdout",
     "output_type": "stream",
     "text": [
      "Random Character:  y\n",
      "Random String:  OdfLNCNouW\n",
      "Random String of Fixed Length:  dmBLWoAG\n"
     ]
    }
   ],
   "source": [
    "# Task 7: Random Strings\n",
    "import random\n",
    "import string\n",
    "\n",
    "random_char=random.choice(string.ascii_letters)\n",
    "print(\"Random Character: \",random_char)\n",
    "\n",
    "random_string=''.join(random.choice(string.ascii_letters)for _ in range(10))\n",
    "print(\"Random String: \",random_string)\n",
    "\n",
    "fixed_length=8\n",
    "random_fixedlength_string=''.join(random.choice(string.ascii_letters)for _ in range(fixed_length))\n",
    "print(\"Random String of Fixed Length: \",random_fixedlength_string)\n",
    "\n"
   ]
  },
  {
   "cell_type": "code",
   "execution_count": 7,
   "id": "d2cd5d7a",
   "metadata": {},
   "outputs": [
    {
     "name": "stdout",
     "output_type": "stream",
     "text": [
      "5 * 1 = 5\n",
      "5 * 2 = 10\n",
      "5 * 3 = 15\n",
      "5 * 4 = 20\n",
      "5 * 5 = 25\n",
      "5 * 6 = 30\n",
      "5 * 7 = 35\n",
      "5 * 8 = 40\n",
      "5 * 9 = 45\n",
      "5 * 10 = 50\n"
     ]
    }
   ],
   "source": [
    "# Task 8: Generator Function for Table\n",
    "def table_generator(num):\n",
    "    for i in range(1, 11):\n",
    "        yield f\"{num} * {i} = {num*i}\"\n",
    "\n",
    "for item in table_generator(5):\n",
    "    print(item)\n",
    "\n"
   ]
  },
  {
   "cell_type": "code",
   "execution_count": null,
   "id": "eb26546e",
   "metadata": {},
   "outputs": [],
   "source": [
    "# Task 9: University Package\n",
    "# Folder structure should be:\n",
    "# my_package\n",
    "# ├── __init__.py\n",
    "# ├── college\n",
    "# │   ├── __init__.py\n",
    "# │   └── exam.py\n",
    "# └── result.py\n",
    "\n",
    "# test.py\n",
    "# from my_package.college.exam import getdata, display\n",
    "# from my_package import result\n",
    "\n"
   ]
  },
  {
   "cell_type": "code",
   "execution_count": 3,
   "id": "1d830fc4",
   "metadata": {},
   "outputs": [
    {
     "name": "stdout",
     "output_type": "stream",
     "text": [
      "Bus Color:  Red\n",
      "Bus Price:  50000\n"
     ]
    }
   ],
   "source": [
    "# Task 10: Child Class Inheritance\n",
    "class Vehicle:\n",
    "    def __init__(self, color, price):\n",
    "        self.color = color\n",
    "        self.price = price\n",
    "\n",
    "class Bus(Vehicle):\n",
    "    pass\n",
    "\n",
    "bus = Bus('Red', 50000)\n",
    "print(\"Bus Color: \",bus.color)\n",
    "print(\"Bus Price: \",bus.price)\n",
    "\n"
   ]
  },
  {
   "cell_type": "code",
   "execution_count": 14,
   "id": "4f5f0182",
   "metadata": {},
   "outputs": [
    {
     "name": "stdout",
     "output_type": "stream",
     "text": [
      "Bus Color:  Red\n",
      "Bus Price:  50000\n",
      "Bus Seating Capacity:  45\n"
     ]
    }
   ],
   "source": [
    "class Vehicle:\n",
    "    def __init__(self, color, price, seating_capacity=0):\n",
    "        self.color = color\n",
    "        self.price = price\n",
    "        self.seating_capacity = seating_capacity\n",
    "\n",
    "class Bus(Vehicle):\n",
    "    def __init__(self, color, price, seating_capacity=50):\n",
    "        super().__init__(color, price, seating_capacity)\n",
    "\n",
    "# bus = Bus('Red', 50000)\n",
    "# print(\"Bus Color: \", bus.color)\n",
    "# print(\"Bus Price: \", bus.price)\n",
    "# print(\"Bus Seating Capacity: \", bus.seating_capacity)\n",
    "\n",
    "bus2 = Bus('Red', 50000, 45)\n",
    "print(\"Bus Color: \", bus2.color)\n",
    "print(\"Bus Price: \", bus2.price)\n",
    "print(\"Bus Seating Capacity: \", bus2.seating_capacity)\n"
   ]
  },
  {
   "cell_type": "code",
   "execution_count": 15,
   "id": "c1264ebf",
   "metadata": {},
   "outputs": [
    {
     "name": "stdout",
     "output_type": "stream",
     "text": [
      "Price:  50000\n",
      "Seating Capacity:  50\n",
      "Total Fare:  5500.0\n"
     ]
    }
   ],
   "source": [
    "class Vehicle:\n",
    "    def __init__(self, price, seating_capacity=0):\n",
    "        self.price = price\n",
    "        self.seating_capacity = seating_capacity\n",
    "\n",
    "    def fare_charge(self):\n",
    "        fare = self.seating_capacity * 100\n",
    "        return fare\n",
    "\n",
    "class Bus(Vehicle):\n",
    "    def __init__(self, price, seating_capacity=50):\n",
    "        super().__init__(price, seating_capacity)\n",
    "\n",
    "    def fare_charge(self):\n",
    "        fare = super().fare_charge()\n",
    "        maintenance_charge = fare * 0.1\n",
    "        total_fare = fare + maintenance_charge\n",
    "        return total_fare\n",
    "\n",
    "bus = Bus(50000)\n",
    "print(\"Price: \", bus.price)\n",
    "print(\"Seating Capacity: \", bus.seating_capacity)\n",
    "print(\"Total Fare: \", bus.fare_charge())"
   ]
  },
  {
   "cell_type": "code",
   "execution_count": 13,
   "id": "ca3a5dde",
   "metadata": {},
   "outputs": [
    {
     "name": "stdout",
     "output_type": "stream",
     "text": [
      "Original Values:\n",
      "Student Name: John\n",
      "Marks: 85\n",
      "\n",
      "Modified Values:\n",
      "Student Name: Alice\n",
      "Marks: 90\n"
     ]
    }
   ],
   "source": [
    "class Student:\n",
    "    def __init__(self, student_name, marks):\n",
    "        self.student_name = student_name\n",
    "        self.marks = marks\n",
    "\n",
    "    def modify_attributes(self, new_name, new_marks):\n",
    "        print(\"Original Values:\")\n",
    "        print(\"Student Name:\", self.student_name)\n",
    "        print(\"Marks:\", self.marks)\n",
    "\n",
    "        # Modify attributes\n",
    "        self.student_name = new_name\n",
    "        self.marks = new_marks\n",
    "\n",
    "        print(\"\\nModified Values:\")\n",
    "        print(\"Student Name:\", self.student_name)\n",
    "        print(\"Marks:\", self.marks)\n",
    "\n",
    "# Creating an instance of the Student class\n",
    "student = Student(\"John\", 85)\n",
    "\n",
    "# Modifying attribute values and printing original and modified values\n",
    "student.modify_attributes(\"Alice\", 90)\n"
   ]
  }
 ],
 "metadata": {
  "kernelspec": {
   "display_name": "Python 3 (ipykernel)",
   "language": "python",
   "name": "python3"
  },
  "language_info": {
   "codemirror_mode": {
    "name": "ipython",
    "version": 3
   },
   "file_extension": ".py",
   "mimetype": "text/x-python",
   "name": "python",
   "nbconvert_exporter": "python",
   "pygments_lexer": "ipython3",
   "version": "3.11.5"
  }
 },
 "nbformat": 4,
 "nbformat_minor": 5
}
