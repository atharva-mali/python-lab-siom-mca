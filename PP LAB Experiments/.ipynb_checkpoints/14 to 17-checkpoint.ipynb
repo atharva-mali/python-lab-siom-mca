{
 "cells": [
  {
   "cell_type": "code",
   "execution_count": 1,
   "id": "e97d5d99",
   "metadata": {},
   "outputs": [],
   "source": [
    "# 14 Write a Python program to match a string that contains only upper and \n",
    "# lowercase letters, numbers, and underscores."
   ]
  },
  {
   "cell_type": "code",
   "execution_count": 2,
   "id": "e6d162b5",
   "metadata": {},
   "outputs": [
    {
     "name": "stdout",
     "output_type": "stream",
     "text": [
      "Enter a string: a$123\n",
      "Invalid string.\n"
     ]
    }
   ],
   "source": [
    "import re\n",
    "\n",
    "def validate_string(string):\n",
    "    pattern = r'^[a-zA-Z0-9_]*$'\n",
    "    return bool(re.match(pattern, string))\n",
    "\n",
    "# Example usage:\n",
    "string = input(\"Enter a string: \")\n",
    "if validate_string(string):\n",
    "    print(\"Valid string.\")\n",
    "else:\n",
    "    print(\"Invalid string.\")"
   ]
  },
  {
   "cell_type": "code",
   "execution_count": 3,
   "id": "73f1f7ca",
   "metadata": {},
   "outputs": [],
   "source": [
    "# 15 Write a python program to validate the password by using regular \n",
    "# expression.  \n",
    "# a. Complexity requirement is that we need at least one capital letter, one \n",
    "# number and one special character. \n",
    "#  b. We also need the length of the password to be between 8 and 18"
   ]
  },
  {
   "cell_type": "code",
   "execution_count": 4,
   "id": "0b4c8f00",
   "metadata": {},
   "outputs": [
    {
     "name": "stdout",
     "output_type": "stream",
     "text": [
      "Enter a password: Siom@1234\n",
      "Valid password.\n"
     ]
    }
   ],
   "source": [
    "import re\n",
    "\n",
    "def validate_password(password):\n",
    "    pattern = r'^(?=.*[A-Z])(?=.*[0-9])(?=.*[!@#$%^&*()-_=+])[a-zA-Z0-9!@#$%^&*()-_=+]{8,18}$'\n",
    "    return bool(re.match(pattern, password))\n",
    "\n",
    "# Example usage:\n",
    "password = input(\"Enter a password: \")\n",
    "if validate_password(password):\n",
    "    print(\"Valid password.\")\n",
    "else:\n",
    "    print(\"Invalid password.\")\n"
   ]
  },
  {
   "cell_type": "code",
   "execution_count": null,
   "id": "b356e8eb",
   "metadata": {},
   "outputs": [],
   "source": [
    "# 16 Write a python program to validate the URL by using regular \n",
    "# expression."
   ]
  },
  {
   "cell_type": "code",
   "execution_count": 9,
   "id": "2872dd05",
   "metadata": {},
   "outputs": [
    {
     "name": "stdout",
     "output_type": "stream",
     "text": [
      "Enter a URL: http://sinhgad.edu/\n",
      "Valid URL.\n"
     ]
    }
   ],
   "source": [
    "import re\n",
    "\n",
    "def validate_url(url):\n",
    "    pattern = r'^(http|https)://[\\w\\.-]+/\\S*$'\n",
    "    return bool(re.match(pattern, url))\n",
    "\n",
    "# Example usage:\n",
    "url = input(\"Enter a URL: \")\n",
    "if validate_url(url):\n",
    "    print(\"Valid URL.\")\n",
    "else:\n",
    "    print(\"Invalid URL.\")\n"
   ]
  },
  {
   "cell_type": "code",
   "execution_count": null,
   "id": "20f9bb3a",
   "metadata": {},
   "outputs": [],
   "source": [
    "# 17 Write a python program to validate an email address by using regular \n",
    "# expression. "
   ]
  },
  {
   "cell_type": "code",
   "execution_count": 6,
   "id": "7dcbec10",
   "metadata": {},
   "outputs": [
    {
     "name": "stdout",
     "output_type": "stream",
     "text": [
      "Enter an email address: ath@gmail.com\n",
      "Valid email address.\n"
     ]
    }
   ],
   "source": [
    "import re\n",
    "\n",
    "def validate_email(email):\n",
    "    pattern = r'^[a-zA-Z0-9._%+-]+@[a-zA-Z0-9.-]+\\.[a-zA-Z]{2,}$'\n",
    "    return bool(re.match(pattern, email))\n",
    "\n",
    "# Example usage:\n",
    "email = input(\"Enter an email address: \")\n",
    "if validate_email(email):\n",
    "    print(\"Valid email address.\")\n",
    "else:\n",
    "    print(\"Invalid email address.\")\n"
   ]
  }
 ],
 "metadata": {
  "kernelspec": {
   "display_name": "Python 3 (ipykernel)",
   "language": "python",
   "name": "python3"
  },
  "language_info": {
   "codemirror_mode": {
    "name": "ipython",
    "version": 3
   },
   "file_extension": ".py",
   "mimetype": "text/x-python",
   "name": "python",
   "nbconvert_exporter": "python",
   "pygments_lexer": "ipython3",
   "version": "3.11.5"
  }
 },
 "nbformat": 4,
 "nbformat_minor": 5
}
