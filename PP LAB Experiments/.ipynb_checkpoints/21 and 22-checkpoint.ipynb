{
 "cells": [
  {
   "cell_type": "code",
   "execution_count": null,
   "id": "baad8819",
   "metadata": {},
   "outputs": [],
   "source": [
    "# 21 Write a Python multithreading program to print the thread name and \n",
    "# corresponding process for each task (assume that there are four tasks). "
   ]
  },
  {
   "cell_type": "code",
   "execution_count": 2,
   "id": "2cb2d587",
   "metadata": {},
   "outputs": [
    {
     "name": "stdout",
     "output_type": "stream",
     "text": [
      "Thread: Task-1 Process: 3704\n",
      "Thread: Task-2 Process: 3704\n",
      "Thread: Task-3 Process: 3704\n",
      "Thread: Task-4 Process: 3704\n"
     ]
    }
   ],
   "source": [
    "import threading\n",
    "import os\n",
    "\n",
    "def task():\n",
    "    print(\"Thread:\", threading.current_thread().name, \"Process:\", os.getpid())\n",
    "\n",
    "if __name__ == \"__main__\":\n",
    "    num_tasks = 4\n",
    "    threads = []\n",
    "\n",
    "    for i in range(num_tasks):\n",
    "        thread = threading.Thread(target=task, name=f\"Task-{i+1}\")\n",
    "        threads.append(thread)\n",
    "        thread.start()\n",
    "\n",
    "    for thread in threads:\n",
    "        thread.join()"
   ]
  },
  {
   "cell_type": "code",
   "execution_count": null,
   "id": "0588887c",
   "metadata": {},
   "outputs": [],
   "source": [
    "# 22 Write a Python multithreading program which creates two threads, one \n",
    "# for calculating the square of a given number and other for calculating \n",
    "# the cube of a given number."
   ]
  },
  {
   "cell_type": "code",
   "execution_count": 3,
   "id": "e0153950",
   "metadata": {},
   "outputs": [
    {
     "name": "stdout",
     "output_type": "stream",
     "text": [
      "Enter a number: 5\n",
      "Square: 25\n",
      "Cube: 125\n"
     ]
    }
   ],
   "source": [
    "import threading\n",
    "\n",
    "def calculate_square(number):\n",
    "    print(\"Square:\", number**2)\n",
    "\n",
    "def calculate_cube(number):\n",
    "    print(\"Cube:\", number**3)\n",
    "\n",
    "if __name__ == \"__main__\":\n",
    "    number = int(input(\"Enter a number: \"))\n",
    "\n",
    "    thread1 = threading.Thread(target=calculate_square, args=(number,))\n",
    "    thread2 = threading.Thread(target=calculate_cube, args=(number,))\n",
    "\n",
    "    thread1.start()\n",
    "    thread2.start()\n",
    "\n",
    "    thread1.join()\n",
    "    thread2.join()"
   ]
  }
 ],
 "metadata": {
  "kernelspec": {
   "display_name": "Python 3 (ipykernel)",
   "language": "python",
   "name": "python3"
  },
  "language_info": {
   "codemirror_mode": {
    "name": "ipython",
    "version": 3
   },
   "file_extension": ".py",
   "mimetype": "text/x-python",
   "name": "python",
   "nbconvert_exporter": "python",
   "pygments_lexer": "ipython3",
   "version": "3.11.5"
  }
 },
 "nbformat": 4,
 "nbformat_minor": 5
}
