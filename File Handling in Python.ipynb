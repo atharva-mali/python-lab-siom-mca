{
 "cells": [
  {
   "cell_type": "code",
   "execution_count": 31,
   "id": "4ce77991",
   "metadata": {},
   "outputs": [
    {
     "name": "stdout",
     "output_type": "stream",
     "text": [
      "This is new line 2.This is new line new 2.\n"
     ]
    }
   ],
   "source": [
    "f = open(\"sample.txt\", \"r\")\n",
    "line=f.read()\n",
    "print (line)\n",
    "f.close()"
   ]
  },
  {
   "cell_type": "code",
   "execution_count": 32,
   "id": "408b327e",
   "metadata": {},
   "outputs": [],
   "source": [
    "output=open('sample.txt','a')\n",
    "S=\"This is new line new 2.\"\n",
    "output.write(S)\n",
    "output.close()"
   ]
  },
  {
   "cell_type": "code",
   "execution_count": 33,
   "id": "39928590",
   "metadata": {},
   "outputs": [
    {
     "name": "stdout",
     "output_type": "stream",
     "text": [
      "This is new line 2.This is new line new 2.This is new line new 2.\n"
     ]
    }
   ],
   "source": [
    "f = open(\"sample.txt\", \"r\")\n",
    "line=f.read()\n",
    "print (line)\n",
    "f.close()"
   ]
  },
  {
   "cell_type": "code",
   "execution_count": 41,
   "id": "d0518035",
   "metadata": {},
   "outputs": [
    {
     "name": "stdout",
     "output_type": "stream",
     "text": [
      "This is new line 2.This is new line new 2.This is new line new 2.['abc', 'lmn', 'pqr', 'xyz']\n"
     ]
    }
   ],
   "source": [
    "my_list = ['abc', 'lmn', 'pqr', 'xyz']\n",
    "\n",
    "output = open('sample.txt', 'a')\n",
    "\n",
    "sample_str = str(my_list)\n",
    "output.write(sample_str)\n",
    "\n",
    "output.close()\n",
    "\n",
    "f = open(\"sample.txt\", \"r\")\n",
    "line = f.read()\n",
    "print(line)\n",
    "f.close()"
   ]
  }
 ],
 "metadata": {
  "kernelspec": {
   "display_name": "Python 3 (ipykernel)",
   "language": "python",
   "name": "python3"
  },
  "language_info": {
   "codemirror_mode": {
    "name": "ipython",
    "version": 3
   },
   "file_extension": ".py",
   "mimetype": "text/x-python",
   "name": "python",
   "nbconvert_exporter": "python",
   "pygments_lexer": "ipython3",
   "version": "3.11.5"
  }
 },
 "nbformat": 4,
 "nbformat_minor": 5
}
