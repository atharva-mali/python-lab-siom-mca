{
 "cells": [
  {
   "cell_type": "markdown",
   "id": "d35d79fc",
   "metadata": {},
   "source": [
    "## Tuples in Python\n",
    "#### What is tuple?\n",
    "- A tuple is an ordered collection which cannot be modified once it has been created"
   ]
  },
  {
   "cell_type": "code",
   "execution_count": 1,
   "id": "5b599725",
   "metadata": {},
   "outputs": [
    {
     "data": {
      "text/plain": [
       "()"
      ]
     },
     "execution_count": 1,
     "metadata": {},
     "output_type": "execute_result"
    }
   ],
   "source": [
    "t=()\n",
    "t"
   ]
  },
  {
   "cell_type": "code",
   "execution_count": 2,
   "id": "c4900597",
   "metadata": {},
   "outputs": [
    {
     "data": {
      "text/plain": [
       "(1, 2, 3)"
      ]
     },
     "execution_count": 2,
     "metadata": {},
     "output_type": "execute_result"
    }
   ],
   "source": [
    "t=(1,2,3)\n",
    "t"
   ]
  },
  {
   "cell_type": "code",
   "execution_count": 3,
   "id": "d42a3dfc",
   "metadata": {},
   "outputs": [
    {
     "data": {
      "text/plain": [
       "(1,)"
      ]
     },
     "execution_count": 3,
     "metadata": {},
     "output_type": "execute_result"
    }
   ],
   "source": [
    "t=(1,)\n",
    "t"
   ]
  },
  {
   "cell_type": "code",
   "execution_count": 4,
   "id": "2b5a118a",
   "metadata": {},
   "outputs": [
    {
     "data": {
      "text/plain": [
       "(1,)"
      ]
     },
     "execution_count": 4,
     "metadata": {},
     "output_type": "execute_result"
    }
   ],
   "source": [
    "t=1,\n",
    "t"
   ]
  },
  {
   "cell_type": "code",
   "execution_count": 6,
   "id": "281c800e",
   "metadata": {},
   "outputs": [
    {
     "name": "stdout",
     "output_type": "stream",
     "text": [
      "2\n"
     ]
    }
   ],
   "source": [
    "a=(1,2,3,4,5)\n",
    "print(a[1])"
   ]
  },
  {
   "cell_type": "markdown",
   "id": "67667543",
   "metadata": {},
   "source": [
    "## Operations in Tuple\n",
    "- Indexing\n",
    "- Slicing\n",
    "- Concatination\n",
    "- Repetition\n",
    "- Membership test\n",
    "- Length"
   ]
  },
  {
   "cell_type": "code",
   "execution_count": 15,
   "id": "cd87d717",
   "metadata": {},
   "outputs": [
    {
     "data": {
      "text/plain": [
       "45"
      ]
     },
     "execution_count": 15,
     "metadata": {},
     "output_type": "execute_result"
    }
   ],
   "source": [
    "t=(12,23,34,45,56,67,78,89,90)\n",
    "t[3]"
   ]
  },
  {
   "cell_type": "code",
   "execution_count": 14,
   "id": "2ea6472a",
   "metadata": {},
   "outputs": [
    {
     "name": "stdout",
     "output_type": "stream",
     "text": [
      "(23, 34, 45, 56)\n"
     ]
    }
   ],
   "source": [
    "print(t[1:5])"
   ]
  },
  {
   "cell_type": "code",
   "execution_count": 16,
   "id": "1f3c7910",
   "metadata": {},
   "outputs": [
    {
     "name": "stdout",
     "output_type": "stream",
     "text": [
      "(12, 23, 34, 45, 56, 67, 78, 89, 90, 98, 87, 76)\n"
     ]
    }
   ],
   "source": [
    "r=(98,87,76)\n",
    "print(t+r)"
   ]
  },
  {
   "cell_type": "code",
   "execution_count": 17,
   "id": "78c8507b",
   "metadata": {},
   "outputs": [
    {
     "name": "stdout",
     "output_type": "stream",
     "text": [
      "(98, 87, 76, 98, 87, 76, 98, 87, 76)\n"
     ]
    }
   ],
   "source": [
    "print(r*3)"
   ]
  },
  {
   "cell_type": "code",
   "execution_count": 19,
   "id": "f1dda4c1",
   "metadata": {},
   "outputs": [
    {
     "name": "stdout",
     "output_type": "stream",
     "text": [
      "True\n"
     ]
    }
   ],
   "source": [
    "print(23 in t)"
   ]
  },
  {
   "cell_type": "code",
   "execution_count": 20,
   "id": "b3b0135f",
   "metadata": {},
   "outputs": [
    {
     "name": "stdout",
     "output_type": "stream",
     "text": [
      "9 3\n"
     ]
    }
   ],
   "source": [
    "print(len(t),len(r))"
   ]
  }
 ],
 "metadata": {
  "kernelspec": {
   "display_name": "Python 3 (ipykernel)",
   "language": "python",
   "name": "python3"
  },
  "language_info": {
   "codemirror_mode": {
    "name": "ipython",
    "version": 3
   },
   "file_extension": ".py",
   "mimetype": "text/x-python",
   "name": "python",
   "nbconvert_exporter": "python",
   "pygments_lexer": "ipython3",
   "version": "3.11.5"
  }
 },
 "nbformat": 4,
 "nbformat_minor": 5
}
