{
 "cells": [
  {
   "cell_type": "markdown",
   "id": "a1d27375",
   "metadata": {},
   "source": [
    "# Control Flow in Python"
   ]
  },
  {
   "cell_type": "code",
   "execution_count": 15,
   "id": "e38ac804",
   "metadata": {},
   "outputs": [
    {
     "name": "stdout",
     "output_type": "stream",
     "text": [
      "Enter a number : 22\n",
      "22  is even\n"
     ]
    }
   ],
   "source": [
    "num=input(\"Enter a number : \")\n",
    "n=int(num)\n",
    "if n==0:\n",
    "    print(\"num is 0\")\n",
    "elif n % 2 == 0:\n",
    "    print(num,\" is even\")\n",
    "elif n % 2 == 1:\n",
    "    print(num,\" is odd\")\n",
    "else:\n",
    "    print(\"Input is not Number\")"
   ]
  },
  {
   "cell_type": "code",
   "execution_count": 17,
   "id": "68e4fef6",
   "metadata": {},
   "outputs": [
    {
     "name": "stdout",
     "output_type": "stream",
     "text": [
      "10\n",
      "9\n",
      "8\n",
      "7\n",
      "6\n",
      "5\n",
      "4\n",
      "3\n",
      "2\n",
      "1\n"
     ]
    }
   ],
   "source": [
    "a=10\n",
    "while a>0:\n",
    "    print(a)\n",
    "    a-=1"
   ]
  },
  {
   "cell_type": "markdown",
   "id": "d8bdbccc",
   "metadata": {},
   "source": [
    "# while loop in python"
   ]
  },
  {
   "cell_type": "code",
   "execution_count": 1,
   "id": "c02dcd55",
   "metadata": {},
   "outputs": [
    {
     "name": "stdout",
     "output_type": "stream",
     "text": [
      "3\n",
      "1\n",
      "4\n",
      "1\n",
      "5\n",
      "9\n"
     ]
    }
   ],
   "source": [
    "a=[3,1,4,1,5,9]\n",
    "for i in rangae(len(a)):\n",
    "    print(a[i])"
   ]
  },
  {
   "cell_type": "code",
   "execution_count": 16,
   "id": "7bbe0de6",
   "metadata": {},
   "outputs": [
    {
     "name": "stdout",
     "output_type": "stream",
     "text": [
      "This is new line\n",
      "\n"
     ]
    }
   ],
   "source": [
    "f = open(\"sample.txt\", \"r\")\n",
    "while True:\n",
    "    line= f.readline()\n",
    "    if not line:\n",
    "#         pass\n",
    "#         print(line)\n",
    "        pass\n",
    "    else:\n",
    "        print(line)\n",
    "    break\n"
   ]
  },
  {
   "cell_type": "code",
   "execution_count": null,
   "id": "eeef58bb",
   "metadata": {},
   "outputs": [],
   "source": []
  }
 ],
 "metadata": {
  "kernelspec": {
   "display_name": "Python 3 (ipykernel)",
   "language": "python",
   "name": "python3"
  },
  "language_info": {
   "codemirror_mode": {
    "name": "ipython",
    "version": 3
   },
   "file_extension": ".py",
   "mimetype": "text/x-python",
   "name": "python",
   "nbconvert_exporter": "python",
   "pygments_lexer": "ipython3",
   "version": "3.11.5"
  }
 },
 "nbformat": 4,
 "nbformat_minor": 5
}
