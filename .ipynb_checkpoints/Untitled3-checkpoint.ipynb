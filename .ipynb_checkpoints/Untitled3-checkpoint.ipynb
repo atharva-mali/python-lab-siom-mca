{
 "cells": [
  {
   "cell_type": "code",
   "execution_count": 2,
   "id": "43a04d32",
   "metadata": {},
   "outputs": [
    {
     "name": "stdout",
     "output_type": "stream",
     "text": [
      "f\n",
      "l\n",
      "o\n",
      "g\n"
     ]
    }
   ],
   "source": [
    "def reverse(data): \n",
    "    for index in range(len(data)-1, -1, -1): \n",
    "        yield data[index] \n",
    "for char in reverse('golf'): print(char) "
   ]
  },
  {
   "cell_type": "code",
   "execution_count": 6,
   "id": "a1a03a58",
   "metadata": {},
   "outputs": [
    {
     "name": "stdout",
     "output_type": "stream",
     "text": [
      "6\n",
      "8\n",
      "0.5\n"
     ]
    }
   ],
   "source": [
    "class C1:\n",
    "    def add(self, x, y):\n",
    "        return x + y\n",
    "\n",
    "class C2:\n",
    "    def mul(self, x, y):\n",
    "        return x * y\n",
    "\n",
    "class D(C1, C2):\n",
    "    def div(self, a, b):\n",
    "        return a / b\n",
    "\n",
    "d = D()\n",
    "print(d.add(2, 4))\n",
    "print(d.mul(2, 4))\n",
    "print(d.div(2, 4))\n"
   ]
  },
  {
   "cell_type": "code",
   "execution_count": 10,
   "id": "1e2b7558",
   "metadata": {},
   "outputs": [
    {
     "data": {
      "text/plain": [
       "43"
      ]
     },
     "execution_count": 10,
     "metadata": {},
     "output_type": "execute_result"
    }
   ],
   "source": [
    "def make_incrementor(n):\n",
    "    return lambda x: x + n\n",
    "f = make_incrementor(42) \n",
    "f(0) \n",
    "f(1)"
   ]
  },
  {
   "cell_type": "code",
   "execution_count": 13,
   "id": "4e132c6d",
   "metadata": {},
   "outputs": [
    {
     "name": "stdout",
     "output_type": "stream",
     "text": [
      "[55, 75, 13, 63]\n"
     ]
    }
   ],
   "source": [
    "list_ = [34, 12, 64, 55, 75, 13, 63]\n",
    "odd_list = list(filter(lambda num: num % 2 != 0, list_))\n",
    "print(odd_list)"
   ]
  }
 ],
 "metadata": {
  "kernelspec": {
   "display_name": "Python 3 (ipykernel)",
   "language": "python",
   "name": "python3"
  },
  "language_info": {
   "codemirror_mode": {
    "name": "ipython",
    "version": 3
   },
   "file_extension": ".py",
   "mimetype": "text/x-python",
   "name": "python",
   "nbconvert_exporter": "python",
   "pygments_lexer": "ipython3",
   "version": "3.11.5"
  }
 },
 "nbformat": 4,
 "nbformat_minor": 5
}
