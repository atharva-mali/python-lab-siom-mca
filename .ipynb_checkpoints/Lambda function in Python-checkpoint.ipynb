{
 "cells": [
  {
   "cell_type": "markdown",
   "id": "7e7cef10",
   "metadata": {},
   "source": [
    "# Lambda Function in Python"
   ]
  },
  {
   "cell_type": "code",
   "execution_count": 3,
   "id": "e365f619",
   "metadata": {},
   "outputs": [
    {
     "name": "stdout",
     "output_type": "stream",
     "text": [
      "42\n",
      "43\n"
     ]
    }
   ],
   "source": [
    "def make_incremental(n):\n",
    "    return lambda x:x+n\n",
    "\n",
    "f=make_incremental(42)\n",
    "print(f(0))\n",
    "print(f(1))"
   ]
  }
 ],
 "metadata": {
  "kernelspec": {
   "display_name": "Python 3 (ipykernel)",
   "language": "python",
   "name": "python3"
  },
  "language_info": {
   "codemirror_mode": {
    "name": "ipython",
    "version": 3
   },
   "file_extension": ".py",
   "mimetype": "text/x-python",
   "name": "python",
   "nbconvert_exporter": "python",
   "pygments_lexer": "ipython3",
   "version": "3.11.5"
  }
 },
 "nbformat": 4,
 "nbformat_minor": 5
}
