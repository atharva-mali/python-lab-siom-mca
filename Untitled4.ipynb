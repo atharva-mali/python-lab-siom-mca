{
 "cells": [
  {
   "cell_type": "code",
   "execution_count": 3,
   "id": "95aae0fe",
   "metadata": {},
   "outputs": [
    {
     "name": "stdout",
     "output_type": "stream",
     "text": [
      "Original 2D Array:\n",
      "[[ 1  2  3  4  5]\n",
      " [ 6  7  8  9 10]\n",
      " [11 12 13 14 15]\n",
      " [16 17 18 19 20]\n",
      " [21 22 23 24 25]]\n",
      "\n",
      "Bottom-right corner 2x2 array:\n",
      "[[1 2]\n",
      " [6 7]]\n"
     ]
    }
   ],
   "source": [
    "import numpy as np\n",
    "\n",
    "# Create a 5x5 2D NumPy array\n",
    "array_2d = np.arange(1, 26).reshape(5, 5)\n",
    "\n",
    "# Retrieve the bottom-right corner 2x2 array\n",
    "bottom_right_corner = array_2d[:2, :2]\n",
    "\n",
    "print(\"Original 2D Array:\")\n",
    "print(array_2d)\n",
    "print(\"\\nBottom-right corner 2x2 array:\")\n",
    "print(bottom_right_corner)\n"
   ]
  },
  {
   "cell_type": "code",
   "execution_count": 5,
   "id": "d5572f3b",
   "metadata": {},
   "outputs": [
    {
     "name": "stdout",
     "output_type": "stream",
     "text": [
      "Original 2D Array:\n",
      "[[ 1  2  3]\n",
      " [ 4  5  6]\n",
      " [ 7  8  9]\n",
      " [10 11 12]]\n",
      "\n",
      "Column-wise mean:\n",
      "[5.5 6.5 7.5]\n"
     ]
    }
   ],
   "source": [
    "import numpy as np\n",
    "\n",
    "# Create a 4x3 NumPy array\n",
    "array_2d = np.array([[1, 2, 3],\n",
    "                     [4, 5, 6],\n",
    "                     [7, 8, 9],\n",
    "                     [10, 11, 12]])\n",
    "\n",
    "# Find column-wise mean\n",
    "column_means = np.mean(array_2d, axis=0)\n",
    "\n",
    "print(\"Original 2D Array:\")\n",
    "print(array_2d)\n",
    "print(\"\\nColumn-wise mean:\")\n",
    "print(column_means)\n"
   ]
  },
  {
   "cell_type": "code",
   "execution_count": 7,
   "id": "495c1bcc",
   "metadata": {},
   "outputs": [
    {
     "name": "stdout",
     "output_type": "stream",
     "text": [
      "Original Series:\n",
      "0    1\n",
      "1    2\n",
      "2    2\n",
      "3    3\n",
      "4    3\n",
      "5    3\n",
      "6    4\n",
      "7    4\n",
      "8    4\n",
      "9    4\n",
      "dtype: int32\n",
      "\n",
      "Frequency count of unique items:\n",
      "4    4\n",
      "3    3\n",
      "2    2\n",
      "1    1\n",
      "Name: count, dtype: int64\n"
     ]
    }
   ],
   "source": [
    "import numpy as np\n",
    "import pandas as pd\n",
    "\n",
    "# Create a NumPy array\n",
    "numpy_array = np.array([1, 2, 2, 3, 3, 3, 4, 4, 4, 4])\n",
    "\n",
    "# Create a Pandas Series from the NumPy array\n",
    "series = pd.Series(numpy_array)\n",
    "\n",
    "# Find the frequency count of unique items in the series\n",
    "frequency_count = series.value_counts()\n",
    "\n",
    "print(\"Original Series:\")\n",
    "print(series)\n",
    "print(\"\\nFrequency count of unique items:\")\n",
    "print(frequency_count)\n"
   ]
  },
  {
   "cell_type": "code",
   "execution_count": 9,
   "id": "603f9bbf",
   "metadata": {},
   "outputs": [
    {
     "name": "stdout",
     "output_type": "stream",
     "text": [
      "Original 2D Array:\n",
      "[[1 2 3]\n",
      " [4 5 6]\n",
      " [7 8 9]]\n",
      "\n",
      "Column-wise mean:\n",
      "[4. 5. 6.]\n",
      "\n",
      "Column-wise median:\n",
      "[4. 5. 6.]\n"
     ]
    }
   ],
   "source": [
    "import numpy as np\n",
    "\n",
    "# Create a 3x3 NumPy array\n",
    "array_2d = np.array([[1, 2, 3],\n",
    "                     [4, 5, 6],\n",
    "                     [7, 8, 9]])\n",
    "\n",
    "# Calculate column-wise mean\n",
    "column_means = np.mean(array_2d, axis=0)\n",
    "\n",
    "# Calculate column-wise median\n",
    "column_medians = np.median(array_2d, axis=0)\n",
    "\n",
    "print(\"Original 2D Array:\")\n",
    "print(array_2d)\n",
    "print(\"\\nColumn-wise mean:\")\n",
    "print(column_means)\n",
    "print(\"\\nColumn-wise median:\")\n",
    "print(column_medians)"
   ]
  },
  {
   "cell_type": "code",
   "execution_count": 11,
   "id": "7b232b86",
   "metadata": {},
   "outputs": [
    {
     "name": "stdout",
     "output_type": "stream",
     "text": [
      "Sum of every column of the DataFrame:\n",
      "City        DelhiBengaluruChennaiMumbaiKolkata\n",
      "MaxTemp                                    174\n",
      "MinTemp                                    128\n",
      "RainFall                                 178.1\n",
      "dtype: object\n",
      "\n",
      "Mean of column RainFall: 35.620000000000005\n",
      "\n",
      "Median of the MaxTemp column: 35.0\n",
      "\n",
      "Column names:\n",
      "Index(['City', 'MaxTemp', 'MinTemp', 'RainFall'], dtype='object')\n"
     ]
    }
   ],
   "source": [
    "import pandas as pd\n",
    "\n",
    "# Given DataFrame\n",
    "data = {\n",
    "    'City': ['Delhi', 'Bengaluru', 'Chennai', 'Mumbai', 'Kolkata'],\n",
    "    'MaxTemp': [40, 31, 35, 29, 39],\n",
    "    'MinTemp': [32, 25, 27, 21, 23],\n",
    "    'RainFall': [24.1, 36.2, 40.8, 35.2, 41.8]\n",
    "}\n",
    "\n",
    "df = pd.DataFrame(data)\n",
    "\n",
    "# i) Compute sum of every column of the DataFrame\n",
    "column_sums = df.sum()\n",
    "print(\"Sum of every column of the DataFrame:\")\n",
    "print(column_sums)\n",
    "print()\n",
    "\n",
    "# ii) Compute mean of column RainFall\n",
    "rainfall_mean = df['RainFall'].mean()\n",
    "print(\"Mean of column RainFall:\", rainfall_mean)\n",
    "print()\n",
    "\n",
    "# iii) Compute median of the MaxTemp column\n",
    "maxtemp_median = df['MaxTemp'].median()\n",
    "print(\"Median of the MaxTemp column:\", maxtemp_median)\n",
    "print()\n",
    "\n",
    "# iv) Display all column names\n",
    "column_names = df.columns\n",
    "print(\"Column names:\")\n",
    "print(column_names)\n"
   ]
  },
  {
   "cell_type": "code",
   "execution_count": 13,
   "id": "3ad1d4c7",
   "metadata": {},
   "outputs": [
    {
     "name": "stdout",
     "output_type": "stream",
     "text": [
      "Sum of each column:\n",
      "ID                  3006\n",
      "Name    MohanSachinVirat\n",
      "HRA                36000\n",
      "TA                 15000\n",
      "DA                 27000\n",
      "dtype: object\n",
      "\n",
      "Mean of each integer column:\n",
      "ID      1002.0\n",
      "HRA    12000.0\n",
      "TA      5000.0\n",
      "DA      9000.0\n",
      "dtype: float64\n",
      "\n",
      "Median of each integer column:\n",
      "ID      1002.0\n",
      "HRA    12000.0\n",
      "TA      5000.0\n",
      "DA      9000.0\n",
      "dtype: float64\n"
     ]
    }
   ],
   "source": [
    "import pandas as pd\n",
    "\n",
    "# Given DataFrame\n",
    "data = {\n",
    "    'ID': [1001, 1002, 1003],\n",
    "    'Name': ['Mohan', 'Sachin', 'Virat'],\n",
    "    'HRA': [12000, 13000, 11000],\n",
    "    'TA': [6000, 5000, 4000],\n",
    "    'DA': [10000, 9000, 8000]\n",
    "}\n",
    "\n",
    "df = pd.DataFrame(data)\n",
    "\n",
    "# i) Compute sum of each column\n",
    "column_sums = df.sum()\n",
    "print(\"Sum of each column:\")\n",
    "print(column_sums)\n",
    "print()\n",
    "\n",
    "# ii) Compute mean of each integer column\n",
    "integer_columns = df.select_dtypes(include='int64')\n",
    "column_means = integer_columns.mean()\n",
    "print(\"Mean of each integer column:\")\n",
    "print(column_means)\n",
    "print()\n",
    "\n",
    "# iii) Compute median of each integer column\n",
    "column_medians = integer_columns.median()\n",
    "print(\"Median of each integer column:\")\n",
    "print(column_medians)\n"
   ]
  },
  {
   "cell_type": "code",
   "execution_count": 15,
   "id": "f7ddb04f",
   "metadata": {},
   "outputs": [
    {
     "name": "stdout",
     "output_type": "stream",
     "text": [
      "Original Series:\n",
      "0    1\n",
      "1    2\n",
      "2    2\n",
      "3    3\n",
      "4    3\n",
      "5    3\n",
      "6    4\n",
      "7    4\n",
      "8    4\n",
      "9    4\n",
      "dtype: int32\n",
      "\n",
      "Maximum of unique items: 4\n",
      "Mean of unique items: 2.5\n"
     ]
    }
   ],
   "source": [
    "import numpy as np\n",
    "import pandas as pd\n",
    "\n",
    "# Create a NumPy array\n",
    "numpy_array = np.array([1, 2, 2, 3, 3, 3, 4, 4, 4, 4])\n",
    "\n",
    "# Create a Pandas Series from the NumPy array\n",
    "series = pd.Series(numpy_array)\n",
    "\n",
    "# Find the maximum of unique items in the series\n",
    "max_of_unique_items = series.unique().max()\n",
    "\n",
    "# Find the mean of unique items in the series\n",
    "mean_of_unique_items = series.unique().mean()\n",
    "\n",
    "print(\"Original Series:\")\n",
    "print(series)\n",
    "print(\"\\nMaximum of unique items:\", max_of_unique_items)\n",
    "print(\"Mean of unique items:\", mean_of_unique_items)\n"
   ]
  },
  {
   "cell_type": "code",
   "execution_count": 22,
   "id": "d823b913",
   "metadata": {},
   "outputs": [
    {
     "name": "stdout",
     "output_type": "stream",
     "text": [
      "Enter a decimal number: 21\n",
      "Decimal: 21\n",
      "Octal: 0o25\n",
      "Hexadecimal: 0x15\n"
     ]
    }
   ],
   "source": [
    "# Accept decimal number from user\n",
    "decimal_number = int(input(\"Enter a decimal number: \"))\n",
    "\n",
    "# Convert decimal to octal and hexadecimal\n",
    "octal_number = oct(decimal_number)\n",
    "hexadecimal_number = hex(decimal_number)\n",
    "\n",
    "# Print the results\n",
    "print(\"Decimal:\", decimal_number)\n",
    "print(\"Octal:\", octal_number)\n",
    "print(\"Hexadecimal:\", hexadecimal_number)\n"
   ]
  },
  {
   "cell_type": "code",
   "execution_count": 25,
   "id": "a81a0c24",
   "metadata": {},
   "outputs": [
    {
     "name": "stdout",
     "output_type": "stream",
     "text": [
      "Square of 1 : 1\n",
      "Cube of 1 : 1\n",
      "Square of 2 : 4\n",
      "Cube of 2 : 8\n",
      "Square of 3 : 9\n",
      "Cube of 3 : 27\n",
      "Square of 4 : 16\n",
      "Cube of 4 : 64\n",
      "Total time taken for execution: 4.007197380065918 seconds\n"
     ]
    }
   ],
   "source": [
    "import threading\n",
    "import time\n",
    "\n",
    "def print_squares():\n",
    "    for i in range(1, 5):\n",
    "        print(\"Square of\", i, \":\", i ** 2)\n",
    "        time.sleep(1)\n",
    "\n",
    "def print_cubes():\n",
    "    for i in range(1, 5):\n",
    "        print(\"Cube of\", i, \":\", i ** 3)\n",
    "        time.sleep(1)\n",
    "\n",
    "if __name__ == \"__main__\":\n",
    "    start_time = time.time()\n",
    "    \n",
    "    thread1 = threading.Thread(target=print_squares)\n",
    "    thread2 = threading.Thread(target=print_cubes)\n",
    "\n",
    "    thread1.start()\n",
    "    thread2.start()\n",
    "\n",
    "    thread1.join()\n",
    "    thread2.join()\n",
    "\n",
    "    print(\"Total time taken for execution:\", time.time() - start_time, \"seconds\")\n"
   ]
  },
  {
   "cell_type": "code",
   "execution_count": 1,
   "id": "04b3a47d",
   "metadata": {},
   "outputs": [
    {
     "name": "stdout",
     "output_type": "stream",
     "text": [
      "Number of rows: 4\n",
      "Missing values in the first column: 1\n",
      "Number of columns: 3\n"
     ]
    }
   ],
   "source": [
    "import pandas as pd\n",
    "\n",
    "# Create a two-dimensional list\n",
    "data = [\n",
    "    [1, 'A', 10],\n",
    "    [2, 'B', None],\n",
    "    [3, 'C', 20],\n",
    "    [4, None, 30]\n",
    "]\n",
    "\n",
    "# Create DataFrame\n",
    "df = pd.DataFrame(data, columns=['A', 'B', 'C'])\n",
    "\n",
    "# i) Count number of rows\n",
    "num_rows = len(df)\n",
    "print(\"Number of rows:\", num_rows)\n",
    "\n",
    "# ii) Count missing values in the first column\n",
    "missing_values_first_column = df['B'].isnull().sum()\n",
    "print(\"Missing values in the first column:\", missing_values_first_column)\n",
    "\n",
    "# iii) Display number of columns in data frame\n",
    "num_columns = len(df.columns)\n",
    "print(\"Number of columns:\", num_columns)\n"
   ]
  },
  {
   "cell_type": "code",
   "execution_count": 2,
   "id": "127a7ceb",
   "metadata": {},
   "outputs": [
    {
     "name": "stdout",
     "output_type": "stream",
     "text": [
      "Initial list of fruits: ['apple', 'banana', 'orange', 'grape', 'pineapple']\n",
      "Enter the name of a new fruit to add: potato\n",
      "Sorted list of fruits: ['apple', 'banana', 'grape', 'orange', 'pineapple', 'potato']\n",
      "List of fruits after deleting the last fruit: ['apple', 'banana', 'grape', 'orange', 'pineapple']\n"
     ]
    }
   ],
   "source": [
    "# Create list of fruits\n",
    "fruits = [\"apple\", \"banana\", \"orange\", \"grape\", \"pineapple\"]\n",
    "\n",
    "# Print the initial list of fruits\n",
    "print(\"Initial list of fruits:\", fruits)\n",
    "\n",
    "# Add a new fruit to the list\n",
    "new_fruit = input(\"Enter the name of a new fruit to add: \")\n",
    "fruits.append(new_fruit)\n",
    "\n",
    "# Sort the list of fruits\n",
    "fruits.sort()\n",
    "\n",
    "# Print the sorted list of fruits\n",
    "print(\"Sorted list of fruits:\", fruits)\n",
    "\n",
    "# Delete the last fruit name from the list\n",
    "last_fruit = fruits.pop()\n",
    "\n",
    "# Print the modified list after deleting the last fruit\n",
    "print(\"List of fruits after deleting the last fruit:\", fruits)\n"
   ]
  }
 ],
 "metadata": {
  "kernelspec": {
   "display_name": "Python 3 (ipykernel)",
   "language": "python",
   "name": "python3"
  },
  "language_info": {
   "codemirror_mode": {
    "name": "ipython",
    "version": 3
   },
   "file_extension": ".py",
   "mimetype": "text/x-python",
   "name": "python",
   "nbconvert_exporter": "python",
   "pygments_lexer": "ipython3",
   "version": "3.11.5"
  }
 },
 "nbformat": 4,
 "nbformat_minor": 5
}
